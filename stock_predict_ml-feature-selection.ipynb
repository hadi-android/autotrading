{
 "cells": [
  {
   "cell_type": "code",
   "execution_count": 1,
   "id": "6b02108c",
   "metadata": {},
   "outputs": [
    {
     "name": "stderr",
     "output_type": "stream",
     "text": [
      "C:\\Python\\lib\\site-packages\\numpy\\_distributor_init.py:30: UserWarning: loaded more than 1 DLL from .libs:\n",
      "C:\\Python\\lib\\site-packages\\numpy\\.libs\\libopenblas.FB5AE2TYXYH2IJRDKGDGQ3XBKLKTF43H.gfortran-win_amd64.dll\n",
      "C:\\Python\\lib\\site-packages\\numpy\\.libs\\libopenblas64__v0.3.21-gcc_10_3_0.dll\n",
      "  warnings.warn(\"loaded more than 1 DLL from .libs:\"\n",
      "C:\\Users\\hadit\\AppData\\Roaming\\Python\\Python310\\site-packages\\requests\\__init__.py:109: RequestsDependencyWarning: urllib3 (1.26.9) or chardet (5.0.0)/charset_normalizer (2.0.12) doesn't match a supported version!\n",
      "  warnings.warn(\n"
     ]
    },
    {
     "data": {
      "text/plain": [
       "\" \\n# load dataset\\nticker = 'ETH-CAD'\\n#dstart = '1-1-2021' #start date of data to calculate rolling averages\\n\\n\\ndstart = datetime.datetime.strptime(actual_start, '%m-%d-%Y') -datetime.timedelta(days = 14) \\n#dstart = datetime.datetime.strptime(actual_start, '%m-%d-%Y')\\nprint(dstart)\\ndstart = time.mktime(dstart.timetuple())\\n\\ndend = datetime.datetime.strptime('1-8-2023', '%m-%d-%Y') \\n#dstart = datetime.datetime.strptime(actual_start, '%m-%d-%Y')\\nprint(dend)\\ndend = time.mktime(dend.timetuple())\\n\\ndf = Fetcher(ticker, dstart, dend).get_historical()\\n#df.Date = pd.to_datetime(df.Date)\\n#dates = df.Date\\n\\n\""
      ]
     },
     "execution_count": 1,
     "metadata": {},
     "output_type": "execute_result"
    }
   ],
   "source": [
    "from math import sqrt\n",
    "from numpy import concatenate\n",
    "from matplotlib import pyplot\n",
    "from pandas import read_csv\n",
    "from pandas import DataFrame\n",
    "from pandas import concat\n",
    "from sklearn.preprocessing import MinMaxScaler\n",
    "from sklearn.preprocessing import LabelEncoder\n",
    "from sklearn.metrics import mean_squared_error\n",
    "\n",
    "import os\n",
    "import pandas as pd\n",
    "\n",
    "import datetime\n",
    "import time\n",
    "from yahoo_historical import Fetcher\n",
    "\n",
    "\n",
    "\n",
    "os.chdir(r'C:\\Users\\hadit\\OneDrive - Prophix Software, Inc\\AutoTrading')\n",
    "actual_start = '1-1-2022' # actual start date where data is analyzed\n",
    "''' \n",
    "# load dataset\n",
    "ticker = 'ETH-CAD'\n",
    "#dstart = '1-1-2021' #start date of data to calculate rolling averages\n",
    "\n",
    "\n",
    "dstart = datetime.datetime.strptime(actual_start, '%m-%d-%Y') -datetime.timedelta(days = 14) \n",
    "#dstart = datetime.datetime.strptime(actual_start, '%m-%d-%Y')\n",
    "print(dstart)\n",
    "dstart = time.mktime(dstart.timetuple())\n",
    "\n",
    "dend = datetime.datetime.strptime('1-8-2023', '%m-%d-%Y') \n",
    "#dstart = datetime.datetime.strptime(actual_start, '%m-%d-%Y')\n",
    "print(dend)\n",
    "dend = time.mktime(dend.timetuple())\n",
    "\n",
    "df = Fetcher(ticker, dstart, dend).get_historical()\n",
    "#df.Date = pd.to_datetime(df.Date)\n",
    "#dates = df.Date\n",
    "\n",
    "'''"
   ]
  },
  {
   "cell_type": "code",
   "execution_count": 2,
   "id": "c05baf51",
   "metadata": {},
   "outputs": [
    {
     "data": {
      "text/plain": [
       "(Timestamp('2021-12-18 00:00:00'), Timestamp('2023-01-08 00:00:00'))"
      ]
     },
     "execution_count": 2,
     "metadata": {},
     "output_type": "execute_result"
    }
   ],
   "source": [
    "#df.to_csv('df.csv', index=False)\n",
    "df = pd.read_csv('df.csv')\n",
    "df.Date = pd.to_datetime(df.Date)\n",
    "dates = df.Date\n",
    "dates.min(), dates.max()"
   ]
  },
  {
   "cell_type": "code",
   "execution_count": 3,
   "id": "ee69f451",
   "metadata": {},
   "outputs": [
    {
     "data": {
      "text/html": [
       "<div>\n",
       "<style scoped>\n",
       "    .dataframe tbody tr th:only-of-type {\n",
       "        vertical-align: middle;\n",
       "    }\n",
       "\n",
       "    .dataframe tbody tr th {\n",
       "        vertical-align: top;\n",
       "    }\n",
       "\n",
       "    .dataframe thead th {\n",
       "        text-align: right;\n",
       "    }\n",
       "</style>\n",
       "<table border=\"1\" class=\"dataframe\">\n",
       "  <thead>\n",
       "    <tr style=\"text-align: right;\">\n",
       "      <th></th>\n",
       "      <th>Date</th>\n",
       "      <th>Open</th>\n",
       "      <th>High</th>\n",
       "      <th>Low</th>\n",
       "      <th>Close</th>\n",
       "      <th>Adj Close</th>\n",
       "      <th>Volume</th>\n",
       "      <th>Close-1</th>\n",
       "      <th>Close-2</th>\n",
       "      <th>Close-3</th>\n",
       "      <th>Close-4</th>\n",
       "      <th>Close-5</th>\n",
       "    </tr>\n",
       "  </thead>\n",
       "  <tbody>\n",
       "    <tr>\n",
       "      <th>0</th>\n",
       "      <td>2021-12-18</td>\n",
       "      <td>5003.713379</td>\n",
       "      <td>5150.123535</td>\n",
       "      <td>4867.441406</td>\n",
       "      <td>5107.608398</td>\n",
       "      <td>5107.608398</td>\n",
       "      <td>25185480866</td>\n",
       "      <td>NaN</td>\n",
       "      <td>NaN</td>\n",
       "      <td>NaN</td>\n",
       "      <td>NaN</td>\n",
       "      <td>NaN</td>\n",
       "    </tr>\n",
       "    <tr>\n",
       "      <th>1</th>\n",
       "      <td>2021-12-19</td>\n",
       "      <td>5107.624023</td>\n",
       "      <td>5182.140625</td>\n",
       "      <td>5021.904785</td>\n",
       "      <td>5059.893555</td>\n",
       "      <td>5059.893555</td>\n",
       "      <td>20855408682</td>\n",
       "      <td>5107.608398</td>\n",
       "      <td>NaN</td>\n",
       "      <td>NaN</td>\n",
       "      <td>NaN</td>\n",
       "      <td>NaN</td>\n",
       "    </tr>\n",
       "    <tr>\n",
       "      <th>2</th>\n",
       "      <td>2021-12-20</td>\n",
       "      <td>5061.316406</td>\n",
       "      <td>5130.514160</td>\n",
       "      <td>4862.750488</td>\n",
       "      <td>5088.990234</td>\n",
       "      <td>5088.990234</td>\n",
       "      <td>27929352213</td>\n",
       "      <td>5059.893555</td>\n",
       "      <td>5107.608398</td>\n",
       "      <td>NaN</td>\n",
       "      <td>NaN</td>\n",
       "      <td>NaN</td>\n",
       "    </tr>\n",
       "    <tr>\n",
       "      <th>3</th>\n",
       "      <td>2021-12-21</td>\n",
       "      <td>5094.966309</td>\n",
       "      <td>5247.447266</td>\n",
       "      <td>5065.247070</td>\n",
       "      <td>5195.181152</td>\n",
       "      <td>5195.181152</td>\n",
       "      <td>21178110454</td>\n",
       "      <td>5088.990234</td>\n",
       "      <td>5059.893555</td>\n",
       "      <td>5107.608398</td>\n",
       "      <td>NaN</td>\n",
       "      <td>NaN</td>\n",
       "    </tr>\n",
       "    <tr>\n",
       "      <th>4</th>\n",
       "      <td>2021-12-22</td>\n",
       "      <td>5193.159668</td>\n",
       "      <td>5258.674316</td>\n",
       "      <td>5094.604492</td>\n",
       "      <td>5117.877930</td>\n",
       "      <td>5117.877930</td>\n",
       "      <td>17892533424</td>\n",
       "      <td>5195.181152</td>\n",
       "      <td>5088.990234</td>\n",
       "      <td>5059.893555</td>\n",
       "      <td>5107.608398</td>\n",
       "      <td>NaN</td>\n",
       "    </tr>\n",
       "    <tr>\n",
       "      <th>5</th>\n",
       "      <td>2021-12-23</td>\n",
       "      <td>5117.700684</td>\n",
       "      <td>5314.621094</td>\n",
       "      <td>4997.907227</td>\n",
       "      <td>5269.454102</td>\n",
       "      <td>5269.454102</td>\n",
       "      <td>23098380211</td>\n",
       "      <td>5117.877930</td>\n",
       "      <td>5195.181152</td>\n",
       "      <td>5088.990234</td>\n",
       "      <td>5059.893555</td>\n",
       "      <td>5107.608398</td>\n",
       "    </tr>\n",
       "  </tbody>\n",
       "</table>\n",
       "</div>"
      ],
      "text/plain": [
       "        Date         Open         High          Low        Close    Adj Close  \\\n",
       "0 2021-12-18  5003.713379  5150.123535  4867.441406  5107.608398  5107.608398   \n",
       "1 2021-12-19  5107.624023  5182.140625  5021.904785  5059.893555  5059.893555   \n",
       "2 2021-12-20  5061.316406  5130.514160  4862.750488  5088.990234  5088.990234   \n",
       "3 2021-12-21  5094.966309  5247.447266  5065.247070  5195.181152  5195.181152   \n",
       "4 2021-12-22  5193.159668  5258.674316  5094.604492  5117.877930  5117.877930   \n",
       "5 2021-12-23  5117.700684  5314.621094  4997.907227  5269.454102  5269.454102   \n",
       "\n",
       "        Volume      Close-1      Close-2      Close-3      Close-4  \\\n",
       "0  25185480866          NaN          NaN          NaN          NaN   \n",
       "1  20855408682  5107.608398          NaN          NaN          NaN   \n",
       "2  27929352213  5059.893555  5107.608398          NaN          NaN   \n",
       "3  21178110454  5088.990234  5059.893555  5107.608398          NaN   \n",
       "4  17892533424  5195.181152  5088.990234  5059.893555  5107.608398   \n",
       "5  23098380211  5117.877930  5195.181152  5088.990234  5059.893555   \n",
       "\n",
       "       Close-5  \n",
       "0          NaN  \n",
       "1          NaN  \n",
       "2          NaN  \n",
       "3          NaN  \n",
       "4          NaN  \n",
       "5  5107.608398  "
      ]
     },
     "execution_count": 3,
     "metadata": {},
     "output_type": "execute_result"
    }
   ],
   "source": [
    "df['Close-1'] = df.Close.shift(1)\n",
    "df['Close-2'] = df.Close.shift(2)\n",
    "df['Close-3'] = df.Close.shift(3)\n",
    "df['Close-4'] = df.Close.shift(4)\n",
    "df['Close-5'] = df.Close.shift(5)\n",
    "df.head(6)"
   ]
  },
  {
   "cell_type": "code",
   "execution_count": 4,
   "id": "c4ad7506",
   "metadata": {},
   "outputs": [
    {
     "data": {
      "text/plain": [
       "Date         0\n",
       "Open         0\n",
       "High         0\n",
       "Low          0\n",
       "Close        0\n",
       "Adj Close    0\n",
       "Volume       0\n",
       "Close-1      1\n",
       "Close-2      2\n",
       "Close-3      3\n",
       "Close-4      4\n",
       "Close-5      5\n",
       "dtype: int64"
      ]
     },
     "execution_count": 4,
     "metadata": {},
     "output_type": "execute_result"
    }
   ],
   "source": [
    "df.apply(lambda x: x.isnull().sum())"
   ]
  },
  {
   "cell_type": "code",
   "execution_count": 5,
   "id": "0909bc16",
   "metadata": {},
   "outputs": [
    {
     "name": "stderr",
     "output_type": "stream",
     "text": [
      "C:\\Users\\hadit\\OneDrive - Prophix Software, Inc\\AutoTrading\\RSI.py:22: SettingWithCopyWarning: \n",
      "A value is trying to be set on a copy of a slice from a DataFrame\n",
      "\n",
      "See the caveats in the documentation: https://pandas.pydata.org/pandas-docs/stable/user_guide/indexing.html#returning-a-view-versus-a-copy\n",
      "  df['RSI'][i+N] = 100-(100/(1+RS))\n"
     ]
    },
    {
     "data": {
      "image/png": "[encoded data removed]",
      "text/plain": [
       "<Figure size 1440x360 with 1 Axes>"
      ]
     },
     "metadata": {
      "needs_background": "light"
     },
     "output_type": "display_data"
    },
    {
     "data": {
      "text/html": [
       "<div>\n",
       "<style scoped>\n",
       "    .dataframe tbody tr th:only-of-type {\n",
       "        vertical-align: middle;\n",
       "    }\n",
       "\n",
       "    .dataframe tbody tr th {\n",
       "        vertical-align: top;\n",
       "    }\n",
       "\n",
       "    .dataframe thead th {\n",
       "        text-align: right;\n",
       "    }\n",
       "</style>\n",
       "<table border=\"1\" class=\"dataframe\">\n",
       "  <thead>\n",
       "    <tr style=\"text-align: right;\">\n",
       "      <th></th>\n",
       "      <th>Date</th>\n",
       "      <th>Open</th>\n",
       "      <th>High</th>\n",
       "      <th>Low</th>\n",
       "      <th>Close</th>\n",
       "      <th>Adj Close</th>\n",
       "      <th>Volume</th>\n",
       "      <th>Close-1</th>\n",
       "      <th>Close-2</th>\n",
       "      <th>Close-3</th>\n",
       "      <th>Close-4</th>\n",
       "      <th>Close-5</th>\n",
       "      <th>RSI</th>\n",
       "    </tr>\n",
       "  </thead>\n",
       "  <tbody>\n",
       "    <tr>\n",
       "      <th>0</th>\n",
       "      <td>2022-01-01</td>\n",
       "      <td>4655.555664</td>\n",
       "      <td>4765.364746</td>\n",
       "      <td>4654.594238</td>\n",
       "      <td>4765.085449</td>\n",
       "      <td>4765.085449</td>\n",
       "      <td>12357594823</td>\n",
       "      <td>4655.032227</td>\n",
       "      <td>4733.961914</td>\n",
       "      <td>4638.504395</td>\n",
       "      <td>4871.414551</td>\n",
       "      <td>5163.349121</td>\n",
       "      <td>33.027283</td>\n",
       "    </tr>\n",
       "    <tr>\n",
       "      <th>1</th>\n",
       "      <td>2022-01-02</td>\n",
       "      <td>4764.581543</td>\n",
       "      <td>4842.118652</td>\n",
       "      <td>4711.566406</td>\n",
       "      <td>4848.099121</td>\n",
       "      <td>4848.099121</td>\n",
       "      <td>12509607009</td>\n",
       "      <td>4765.085449</td>\n",
       "      <td>4655.032227</td>\n",
       "      <td>4733.961914</td>\n",
       "      <td>4638.504395</td>\n",
       "      <td>4871.414551</td>\n",
       "      <td>38.134029</td>\n",
       "    </tr>\n",
       "    <tr>\n",
       "      <th>2</th>\n",
       "      <td>2022-01-03</td>\n",
       "      <td>4848.062012</td>\n",
       "      <td>4888.744141</td>\n",
       "      <td>4717.070801</td>\n",
       "      <td>4796.455566</td>\n",
       "      <td>4796.455566</td>\n",
       "      <td>15405226757</td>\n",
       "      <td>4848.099121</td>\n",
       "      <td>4765.085449</td>\n",
       "      <td>4655.032227</td>\n",
       "      <td>4733.961914</td>\n",
       "      <td>4638.504395</td>\n",
       "      <td>42.837999</td>\n",
       "    </tr>\n",
       "    <tr>\n",
       "      <th>3</th>\n",
       "      <td>2022-01-04</td>\n",
       "      <td>4796.431641</td>\n",
       "      <td>4927.568359</td>\n",
       "      <td>4744.676270</td>\n",
       "      <td>4820.447754</td>\n",
       "      <td>4820.447754</td>\n",
       "      <td>17826656266</td>\n",
       "      <td>4796.455566</td>\n",
       "      <td>4848.099121</td>\n",
       "      <td>4765.085449</td>\n",
       "      <td>4655.032227</td>\n",
       "      <td>4733.961914</td>\n",
       "      <td>40.256282</td>\n",
       "    </tr>\n",
       "    <tr>\n",
       "      <th>4</th>\n",
       "      <td>2022-01-05</td>\n",
       "      <td>4820.717773</td>\n",
       "      <td>4883.027344</td>\n",
       "      <td>4409.953125</td>\n",
       "      <td>4530.520996</td>\n",
       "      <td>4530.520996</td>\n",
       "      <td>23047423854</td>\n",
       "      <td>4820.447754</td>\n",
       "      <td>4796.455566</td>\n",
       "      <td>4848.099121</td>\n",
       "      <td>4765.085449</td>\n",
       "      <td>4655.032227</td>\n",
       "      <td>36.795364</td>\n",
       "    </tr>\n",
       "  </tbody>\n",
       "</table>\n",
       "</div>"
      ],
      "text/plain": [
       "        Date         Open         High          Low        Close    Adj Close  \\\n",
       "0 2022-01-01  4655.555664  4765.364746  4654.594238  4765.085449  4765.085449   \n",
       "1 2022-01-02  4764.581543  4842.118652  4711.566406  4848.099121  4848.099121   \n",
       "2 2022-01-03  4848.062012  4888.744141  4717.070801  4796.455566  4796.455566   \n",
       "3 2022-01-04  4796.431641  4927.568359  4744.676270  4820.447754  4820.447754   \n",
       "4 2022-01-05  4820.717773  4883.027344  4409.953125  4530.520996  4530.520996   \n",
       "\n",
       "        Volume      Close-1      Close-2      Close-3      Close-4  \\\n",
       "0  12357594823  4655.032227  4733.961914  4638.504395  4871.414551   \n",
       "1  12509607009  4765.085449  4655.032227  4733.961914  4638.504395   \n",
       "2  15405226757  4848.099121  4765.085449  4655.032227  4733.961914   \n",
       "3  17826656266  4796.455566  4848.099121  4765.085449  4655.032227   \n",
       "4  23047423854  4820.447754  4796.455566  4848.099121  4765.085449   \n",
       "\n",
       "       Close-5        RSI  \n",
       "0  5163.349121  33.027283  \n",
       "1  4871.414551  38.134029  \n",
       "2  4638.504395  42.837999  \n",
       "3  4733.961914  40.256282  \n",
       "4  4655.032227  36.795364  "
      ]
     },
     "execution_count": 5,
     "metadata": {},
     "output_type": "execute_result"
    }
   ],
   "source": [
    "from RSI import RSI\n",
    "df = RSI(df, 40, 75, actual_start)\n",
    "df.drop('chg', axis=1, inplace=True)\n",
    "df.head()"
   ]
  },
  {
   "cell_type": "code",
   "execution_count": 6,
   "id": "f4065968",
   "metadata": {},
   "outputs": [
    {
     "data": {
      "image/png": "[encoded data removed]",
      "text/plain": [
       "<Figure size 1440x360 with 1 Axes>"
      ]
     },
     "metadata": {
      "needs_background": "light"
     },
     "output_type": "display_data"
    },
    {
     "data": {
      "text/html": [
       "<div>\n",
       "<style scoped>\n",
       "    .dataframe tbody tr th:only-of-type {\n",
       "        vertical-align: middle;\n",
       "    }\n",
       "\n",
       "    .dataframe tbody tr th {\n",
       "        vertical-align: top;\n",
       "    }\n",
       "\n",
       "    .dataframe thead th {\n",
       "        text-align: right;\n",
       "    }\n",
       "</style>\n",
       "<table border=\"1\" class=\"dataframe\">\n",
       "  <thead>\n",
       "    <tr style=\"text-align: right;\">\n",
       "      <th></th>\n",
       "      <th>Date</th>\n",
       "      <th>Open</th>\n",
       "      <th>High</th>\n",
       "      <th>Low</th>\n",
       "      <th>Close</th>\n",
       "      <th>Adj Close</th>\n",
       "      <th>Volume</th>\n",
       "      <th>Close-1</th>\n",
       "      <th>Close-2</th>\n",
       "      <th>Close-3</th>\n",
       "      <th>Close-4</th>\n",
       "      <th>Close-5</th>\n",
       "      <th>RSI</th>\n",
       "      <th>macd</th>\n",
       "    </tr>\n",
       "  </thead>\n",
       "  <tbody>\n",
       "    <tr>\n",
       "      <th>0</th>\n",
       "      <td>2022-01-01</td>\n",
       "      <td>4655.555664</td>\n",
       "      <td>4765.364746</td>\n",
       "      <td>4654.594238</td>\n",
       "      <td>4765.085449</td>\n",
       "      <td>4765.085449</td>\n",
       "      <td>12357594823</td>\n",
       "      <td>4655.032227</td>\n",
       "      <td>4733.961914</td>\n",
       "      <td>4638.504395</td>\n",
       "      <td>4871.414551</td>\n",
       "      <td>5163.349121</td>\n",
       "      <td>33.027283</td>\n",
       "      <td>0.000000</td>\n",
       "    </tr>\n",
       "    <tr>\n",
       "      <th>1</th>\n",
       "      <td>2022-01-02</td>\n",
       "      <td>4764.581543</td>\n",
       "      <td>4842.118652</td>\n",
       "      <td>4711.566406</td>\n",
       "      <td>4848.099121</td>\n",
       "      <td>4848.099121</td>\n",
       "      <td>12509607009</td>\n",
       "      <td>4765.085449</td>\n",
       "      <td>4655.032227</td>\n",
       "      <td>4733.961914</td>\n",
       "      <td>4638.504395</td>\n",
       "      <td>4871.414551</td>\n",
       "      <td>38.134029</td>\n",
       "      <td>5.297739</td>\n",
       "    </tr>\n",
       "    <tr>\n",
       "      <th>2</th>\n",
       "      <td>2022-01-03</td>\n",
       "      <td>4848.062012</td>\n",
       "      <td>4888.744141</td>\n",
       "      <td>4717.070801</td>\n",
       "      <td>4796.455566</td>\n",
       "      <td>4796.455566</td>\n",
       "      <td>15405226757</td>\n",
       "      <td>4848.099121</td>\n",
       "      <td>4765.085449</td>\n",
       "      <td>4655.032227</td>\n",
       "      <td>4733.961914</td>\n",
       "      <td>4638.504395</td>\n",
       "      <td>42.837999</td>\n",
       "      <td>5.032697</td>\n",
       "    </tr>\n",
       "    <tr>\n",
       "      <th>3</th>\n",
       "      <td>2022-01-04</td>\n",
       "      <td>4796.431641</td>\n",
       "      <td>4927.568359</td>\n",
       "      <td>4744.676270</td>\n",
       "      <td>4820.447754</td>\n",
       "      <td>4820.447754</td>\n",
       "      <td>17826656266</td>\n",
       "      <td>4796.455566</td>\n",
       "      <td>4848.099121</td>\n",
       "      <td>4765.085449</td>\n",
       "      <td>4655.032227</td>\n",
       "      <td>4733.961914</td>\n",
       "      <td>40.256282</td>\n",
       "      <td>6.110331</td>\n",
       "    </tr>\n",
       "    <tr>\n",
       "      <th>4</th>\n",
       "      <td>2022-01-05</td>\n",
       "      <td>4820.717773</td>\n",
       "      <td>4883.027344</td>\n",
       "      <td>4409.953125</td>\n",
       "      <td>4530.520996</td>\n",
       "      <td>4530.520996</td>\n",
       "      <td>23047423854</td>\n",
       "      <td>4820.447754</td>\n",
       "      <td>4796.455566</td>\n",
       "      <td>4848.099121</td>\n",
       "      <td>4765.085449</td>\n",
       "      <td>4655.032227</td>\n",
       "      <td>36.795364</td>\n",
       "      <td>-12.074462</td>\n",
       "    </tr>\n",
       "  </tbody>\n",
       "</table>\n",
       "</div>"
      ],
      "text/plain": [
       "        Date         Open         High          Low        Close    Adj Close  \\\n",
       "0 2022-01-01  4655.555664  4765.364746  4654.594238  4765.085449  4765.085449   \n",
       "1 2022-01-02  4764.581543  4842.118652  4711.566406  4848.099121  4848.099121   \n",
       "2 2022-01-03  4848.062012  4888.744141  4717.070801  4796.455566  4796.455566   \n",
       "3 2022-01-04  4796.431641  4927.568359  4744.676270  4820.447754  4820.447754   \n",
       "4 2022-01-05  4820.717773  4883.027344  4409.953125  4530.520996  4530.520996   \n",
       "\n",
       "        Volume      Close-1      Close-2      Close-3      Close-4  \\\n",
       "0  12357594823  4655.032227  4733.961914  4638.504395  4871.414551   \n",
       "1  12509607009  4765.085449  4655.032227  4733.961914  4638.504395   \n",
       "2  15405226757  4848.099121  4765.085449  4655.032227  4733.961914   \n",
       "3  17826656266  4796.455566  4848.099121  4765.085449  4655.032227   \n",
       "4  23047423854  4820.447754  4796.455566  4848.099121  4765.085449   \n",
       "\n",
       "       Close-5        RSI       macd  \n",
       "0  5163.349121  33.027283   0.000000  \n",
       "1  4871.414551  38.134029   5.297739  \n",
       "2  4638.504395  42.837999   5.032697  \n",
       "3  4733.961914  40.256282   6.110331  \n",
       "4  4655.032227  36.795364 -12.074462  "
      ]
     },
     "execution_count": 6,
     "metadata": {},
     "output_type": "execute_result"
    }
   ],
   "source": [
    "from macd import macd\n",
    "df = macd(df)\n",
    "df.head()"
   ]
  },
  {
   "cell_type": "code",
   "execution_count": 7,
   "id": "e20e3eee",
   "metadata": {},
   "outputs": [],
   "source": [
    "df['close_50'] = df.Close.ewm(span=50,adjust=False).mean()\n",
    "df['close_12'] = df.Close.ewm(span=12,adjust=False).mean()"
   ]
  },
  {
   "cell_type": "code",
   "execution_count": 8,
   "id": "16d9ba0f",
   "metadata": {},
   "outputs": [
    {
     "data": {
      "text/html": [
       "<div>\n",
       "<style scoped>\n",
       "    .dataframe tbody tr th:only-of-type {\n",
       "        vertical-align: middle;\n",
       "    }\n",
       "\n",
       "    .dataframe tbody tr th {\n",
       "        vertical-align: top;\n",
       "    }\n",
       "\n",
       "    .dataframe thead th {\n",
       "        text-align: right;\n",
       "    }\n",
       "</style>\n",
       "<table border=\"1\" class=\"dataframe\">\n",
       "  <thead>\n",
       "    <tr style=\"text-align: right;\">\n",
       "      <th></th>\n",
       "      <th>Date</th>\n",
       "      <th>Open</th>\n",
       "      <th>High</th>\n",
       "      <th>Low</th>\n",
       "      <th>Close</th>\n",
       "      <th>Adj Close</th>\n",
       "      <th>Volume</th>\n",
       "      <th>Close-1</th>\n",
       "      <th>Close-2</th>\n",
       "      <th>Close-3</th>\n",
       "      <th>Close-4</th>\n",
       "      <th>Close-5</th>\n",
       "      <th>RSI</th>\n",
       "      <th>macd</th>\n",
       "      <th>close_50</th>\n",
       "      <th>close_12</th>\n",
       "      <th>signal_ema50</th>\n",
       "      <th>signal_ema12</th>\n",
       "    </tr>\n",
       "  </thead>\n",
       "  <tbody>\n",
       "    <tr>\n",
       "      <th>368</th>\n",
       "      <td>2023-01-04</td>\n",
       "      <td>1660.891968</td>\n",
       "      <td>1707.519165</td>\n",
       "      <td>1657.093994</td>\n",
       "      <td>1694.551758</td>\n",
       "      <td>1694.551758</td>\n",
       "      <td>8636996622</td>\n",
       "      <td>1660.974365</td>\n",
       "      <td>1647.529907</td>\n",
       "      <td>1625.373779</td>\n",
       "      <td>1623.958740</td>\n",
       "      <td>1627.291748</td>\n",
       "      <td>51.883810</td>\n",
       "      <td>5.764754</td>\n",
       "      <td>1691.579140</td>\n",
       "      <td>1652.434794</td>\n",
       "      <td>1</td>\n",
       "      <td>1</td>\n",
       "    </tr>\n",
       "    <tr>\n",
       "      <th>369</th>\n",
       "      <td>2023-01-05</td>\n",
       "      <td>1694.495117</td>\n",
       "      <td>1696.957153</td>\n",
       "      <td>1686.806030</td>\n",
       "      <td>1695.988525</td>\n",
       "      <td>1695.988525</td>\n",
       "      <td>5427682997</td>\n",
       "      <td>1694.551758</td>\n",
       "      <td>1660.974365</td>\n",
       "      <td>1647.529907</td>\n",
       "      <td>1625.373779</td>\n",
       "      <td>1623.958740</td>\n",
       "      <td>63.451791</td>\n",
       "      <td>7.940386</td>\n",
       "      <td>1691.752057</td>\n",
       "      <td>1659.135368</td>\n",
       "      <td>1</td>\n",
       "      <td>1</td>\n",
       "    </tr>\n",
       "    <tr>\n",
       "      <th>370</th>\n",
       "      <td>2023-01-06</td>\n",
       "      <td>1696.016357</td>\n",
       "      <td>1710.864380</td>\n",
       "      <td>1694.184937</td>\n",
       "      <td>1707.251343</td>\n",
       "      <td>1707.251343</td>\n",
       "      <td>6694156142</td>\n",
       "      <td>1695.988525</td>\n",
       "      <td>1694.551758</td>\n",
       "      <td>1660.974365</td>\n",
       "      <td>1647.529907</td>\n",
       "      <td>1625.373779</td>\n",
       "      <td>61.679105</td>\n",
       "      <td>9.725482</td>\n",
       "      <td>1692.359872</td>\n",
       "      <td>1666.537826</td>\n",
       "      <td>1</td>\n",
       "      <td>1</td>\n",
       "    </tr>\n",
       "    <tr>\n",
       "      <th>371</th>\n",
       "      <td>2023-01-07</td>\n",
       "      <td>1707.306030</td>\n",
       "      <td>1708.891235</td>\n",
       "      <td>1697.691528</td>\n",
       "      <td>1700.380371</td>\n",
       "      <td>1700.380371</td>\n",
       "      <td>3450083961</td>\n",
       "      <td>1707.251343</td>\n",
       "      <td>1695.988525</td>\n",
       "      <td>1694.551758</td>\n",
       "      <td>1660.974365</td>\n",
       "      <td>1647.529907</td>\n",
       "      <td>63.536072</td>\n",
       "      <td>9.992797</td>\n",
       "      <td>1692.674402</td>\n",
       "      <td>1671.744371</td>\n",
       "      <td>1</td>\n",
       "      <td>1</td>\n",
       "    </tr>\n",
       "    <tr>\n",
       "      <th>372</th>\n",
       "      <td>2023-01-08</td>\n",
       "      <td>1700.261475</td>\n",
       "      <td>1729.761841</td>\n",
       "      <td>1694.942017</td>\n",
       "      <td>1729.761841</td>\n",
       "      <td>1729.761841</td>\n",
       "      <td>4696179702</td>\n",
       "      <td>1700.380371</td>\n",
       "      <td>1707.251343</td>\n",
       "      <td>1695.988525</td>\n",
       "      <td>1694.551758</td>\n",
       "      <td>1660.974365</td>\n",
       "      <td>60.540426</td>\n",
       "      <td>11.585554</td>\n",
       "      <td>1694.128811</td>\n",
       "      <td>1680.670136</td>\n",
       "      <td>1</td>\n",
       "      <td>1</td>\n",
       "    </tr>\n",
       "  </tbody>\n",
       "</table>\n",
       "</div>"
      ],
      "text/plain": [
       "          Date         Open         High          Low        Close  \\\n",
       "368 2023-01-04  1660.891968  1707.519165  1657.093994  1694.551758   \n",
       "369 2023-01-05  1694.495117  1696.957153  1686.806030  1695.988525   \n",
       "370 2023-01-06  1696.016357  1710.864380  1694.184937  1707.251343   \n",
       "371 2023-01-07  1707.306030  1708.891235  1697.691528  1700.380371   \n",
       "372 2023-01-08  1700.261475  1729.761841  1694.942017  1729.761841   \n",
       "\n",
       "       Adj Close      Volume      Close-1      Close-2      Close-3  \\\n",
       "368  1694.551758  8636996622  1660.974365  1647.529907  1625.373779   \n",
       "369  1695.988525  5427682997  1694.551758  1660.974365  1647.529907   \n",
       "370  1707.251343  6694156142  1695.988525  1694.551758  1660.974365   \n",
       "371  1700.380371  3450083961  1707.251343  1695.988525  1694.551758   \n",
       "372  1729.761841  4696179702  1700.380371  1707.251343  1695.988525   \n",
       "\n",
       "         Close-4      Close-5        RSI       macd     close_50     close_12  \\\n",
       "368  1623.958740  1627.291748  51.883810   5.764754  1691.579140  1652.434794   \n",
       "369  1625.373779  1623.958740  63.451791   7.940386  1691.752057  1659.135368   \n",
       "370  1647.529907  1625.373779  61.679105   9.725482  1692.359872  1666.537826   \n",
       "371  1660.974365  1647.529907  63.536072   9.992797  1692.674402  1671.744371   \n",
       "372  1694.551758  1660.974365  60.540426  11.585554  1694.128811  1680.670136   \n",
       "\n",
       "     signal_ema50  signal_ema12  \n",
       "368             1             1  \n",
       "369             1             1  \n",
       "370             1             1  \n",
       "371             1             1  \n",
       "372             1             1  "
      ]
     },
     "execution_count": 8,
     "metadata": {},
     "output_type": "execute_result"
    }
   ],
   "source": [
    "df['signal_ema50'] = df.Close>df.close_50\n",
    "df['signal_ema50'] = df['signal_ema50'].astype(int)\n",
    "df['signal_ema12'] = df.Close>df.close_12\n",
    "df['signal_ema12'] = df['signal_ema12'].astype(int)\n",
    "df.tail()"
   ]
  },
  {
   "cell_type": "code",
   "execution_count": 9,
   "id": "3b30e45b",
   "metadata": {},
   "outputs": [
    {
     "data": {
      "text/plain": [
       "Date            0\n",
       "Open            0\n",
       "High            0\n",
       "Low             0\n",
       "Close           0\n",
       "Adj Close       0\n",
       "Volume          0\n",
       "Close-1         0\n",
       "Close-2         0\n",
       "Close-3         0\n",
       "Close-4         0\n",
       "Close-5         0\n",
       "RSI             0\n",
       "macd            0\n",
       "close_50        0\n",
       "close_12        0\n",
       "signal_ema50    0\n",
       "signal_ema12    0\n",
       "dtype: int64"
      ]
     },
     "execution_count": 9,
     "metadata": {},
     "output_type": "execute_result"
    }
   ],
   "source": [
    "df.apply(lambda x: x.isnull().sum())"
   ]
  },
  {
   "cell_type": "code",
   "execution_count": 10,
   "id": "feb34e85",
   "metadata": {},
   "outputs": [],
   "source": [
    "samp = df[df.Date>=pd.to_datetime('2022-9-1')]"
   ]
  },
  {
   "cell_type": "code",
   "execution_count": 11,
   "id": "c8cd6934",
   "metadata": {},
   "outputs": [
    {
     "data": {
      "text/plain": [
       "[<matplotlib.lines.Line2D at 0x20cb9d0c310>]"
      ]
     },
     "execution_count": 11,
     "metadata": {},
     "output_type": "execute_result"
    },
    {
     "data": {
      "image/png": "[encoded data removed]",
      "text/plain": [
       "<Figure size 1440x360 with 1 Axes>"
      ]
     },
     "metadata": {
      "needs_background": "light"
     },
     "output_type": "display_data"
    }
   ],
   "source": [
    "pyplot.figure(figsize=(20,5))\n",
    "pyplot.plot(samp.Date, samp.Close)\n",
    "pyplot.plot(samp.Date, samp.close_50)\n",
    "pyplot.plot(samp.Date, samp.close_12)"
   ]
  },
  {
   "cell_type": "code",
   "execution_count": 12,
   "id": "55cbbd23",
   "metadata": {},
   "outputs": [],
   "source": [
    "y = df.Close.shift(-1) - df.Close\n",
    "y = y>0\n",
    "y  = y.astype(int)\n",
    "df['y'] = y\n",
    "\n",
    "N = df.shape[1]\n"
   ]
  },
  {
   "cell_type": "code",
   "execution_count": null,
   "id": "0ca3ddf0",
   "metadata": {},
   "outputs": [],
   "source": []
  },
  {
   "cell_type": "code",
   "execution_count": 13,
   "id": "9bc934bb",
   "metadata": {},
   "outputs": [
    {
     "data": {
      "text/plain": [
       "(373, 19)"
      ]
     },
     "execution_count": 13,
     "metadata": {},
     "output_type": "execute_result"
    }
   ],
   "source": [
    "df.shape"
   ]
  },
  {
   "cell_type": "code",
   "execution_count": 14,
   "id": "3e7ae833",
   "metadata": {},
   "outputs": [
    {
     "data": {
      "text/plain": [
       "(373, 19)"
      ]
     },
     "execution_count": 14,
     "metadata": {},
     "output_type": "execute_result"
    }
   ],
   "source": [
    "df.dropna(inplace=True)\n",
    "df.shape"
   ]
  },
  {
   "cell_type": "code",
   "execution_count": 15,
   "id": "62e2f328",
   "metadata": {},
   "outputs": [],
   "source": [
    "df.drop(['Date','Adj Close'], axis=1, inplace=True)\n"
   ]
  },
  {
   "cell_type": "code",
   "execution_count": 16,
   "id": "9c3dc8da",
   "metadata": {},
   "outputs": [
    {
     "data": {
      "text/html": [
       "<div>\n",
       "<style scoped>\n",
       "    .dataframe tbody tr th:only-of-type {\n",
       "        vertical-align: middle;\n",
       "    }\n",
       "\n",
       "    .dataframe tbody tr th {\n",
       "        vertical-align: top;\n",
       "    }\n",
       "\n",
       "    .dataframe thead th {\n",
       "        text-align: right;\n",
       "    }\n",
       "</style>\n",
       "<table border=\"1\" class=\"dataframe\">\n",
       "  <thead>\n",
       "    <tr style=\"text-align: right;\">\n",
       "      <th></th>\n",
       "      <th>Open</th>\n",
       "      <th>High</th>\n",
       "      <th>Low</th>\n",
       "      <th>Close</th>\n",
       "      <th>Volume</th>\n",
       "      <th>Close-1</th>\n",
       "      <th>Close-2</th>\n",
       "      <th>Close-3</th>\n",
       "      <th>Close-4</th>\n",
       "      <th>Close-5</th>\n",
       "      <th>RSI</th>\n",
       "      <th>macd</th>\n",
       "      <th>close_50</th>\n",
       "      <th>close_12</th>\n",
       "      <th>signal_ema50</th>\n",
       "      <th>signal_ema12</th>\n",
       "      <th>y</th>\n",
       "    </tr>\n",
       "  </thead>\n",
       "  <tbody>\n",
       "    <tr>\n",
       "      <th>0</th>\n",
       "      <td>4655.555664</td>\n",
       "      <td>4765.364746</td>\n",
       "      <td>4654.594238</td>\n",
       "      <td>4765.085449</td>\n",
       "      <td>12357594823</td>\n",
       "      <td>4655.032227</td>\n",
       "      <td>4733.961914</td>\n",
       "      <td>4638.504395</td>\n",
       "      <td>4871.414551</td>\n",
       "      <td>5163.349121</td>\n",
       "      <td>33.027283</td>\n",
       "      <td>0.000000</td>\n",
       "      <td>4765.085449</td>\n",
       "      <td>4765.085449</td>\n",
       "      <td>0</td>\n",
       "      <td>0</td>\n",
       "      <td>1</td>\n",
       "    </tr>\n",
       "    <tr>\n",
       "      <th>1</th>\n",
       "      <td>4764.581543</td>\n",
       "      <td>4842.118652</td>\n",
       "      <td>4711.566406</td>\n",
       "      <td>4848.099121</td>\n",
       "      <td>12509607009</td>\n",
       "      <td>4765.085449</td>\n",
       "      <td>4655.032227</td>\n",
       "      <td>4733.961914</td>\n",
       "      <td>4638.504395</td>\n",
       "      <td>4871.414551</td>\n",
       "      <td>38.134029</td>\n",
       "      <td>5.297739</td>\n",
       "      <td>4768.340887</td>\n",
       "      <td>4777.856783</td>\n",
       "      <td>1</td>\n",
       "      <td>1</td>\n",
       "      <td>0</td>\n",
       "    </tr>\n",
       "    <tr>\n",
       "      <th>2</th>\n",
       "      <td>4848.062012</td>\n",
       "      <td>4888.744141</td>\n",
       "      <td>4717.070801</td>\n",
       "      <td>4796.455566</td>\n",
       "      <td>15405226757</td>\n",
       "      <td>4848.099121</td>\n",
       "      <td>4765.085449</td>\n",
       "      <td>4655.032227</td>\n",
       "      <td>4733.961914</td>\n",
       "      <td>4638.504395</td>\n",
       "      <td>42.837999</td>\n",
       "      <td>5.032697</td>\n",
       "      <td>4769.443424</td>\n",
       "      <td>4780.718134</td>\n",
       "      <td>1</td>\n",
       "      <td>1</td>\n",
       "      <td>1</td>\n",
       "    </tr>\n",
       "    <tr>\n",
       "      <th>3</th>\n",
       "      <td>4796.431641</td>\n",
       "      <td>4927.568359</td>\n",
       "      <td>4744.676270</td>\n",
       "      <td>4820.447754</td>\n",
       "      <td>17826656266</td>\n",
       "      <td>4796.455566</td>\n",
       "      <td>4848.099121</td>\n",
       "      <td>4765.085449</td>\n",
       "      <td>4655.032227</td>\n",
       "      <td>4733.961914</td>\n",
       "      <td>40.256282</td>\n",
       "      <td>6.110331</td>\n",
       "      <td>4771.443593</td>\n",
       "      <td>4786.830384</td>\n",
       "      <td>1</td>\n",
       "      <td>1</td>\n",
       "      <td>0</td>\n",
       "    </tr>\n",
       "    <tr>\n",
       "      <th>4</th>\n",
       "      <td>4820.717773</td>\n",
       "      <td>4883.027344</td>\n",
       "      <td>4409.953125</td>\n",
       "      <td>4530.520996</td>\n",
       "      <td>23047423854</td>\n",
       "      <td>4820.447754</td>\n",
       "      <td>4796.455566</td>\n",
       "      <td>4848.099121</td>\n",
       "      <td>4765.085449</td>\n",
       "      <td>4655.032227</td>\n",
       "      <td>36.795364</td>\n",
       "      <td>-12.074462</td>\n",
       "      <td>4761.995648</td>\n",
       "      <td>4747.398170</td>\n",
       "      <td>0</td>\n",
       "      <td>0</td>\n",
       "      <td>0</td>\n",
       "    </tr>\n",
       "  </tbody>\n",
       "</table>\n",
       "</div>"
      ],
      "text/plain": [
       "          Open         High          Low        Close       Volume  \\\n",
       "0  4655.555664  4765.364746  4654.594238  4765.085449  12357594823   \n",
       "1  4764.581543  4842.118652  4711.566406  4848.099121  12509607009   \n",
       "2  4848.062012  4888.744141  4717.070801  4796.455566  15405226757   \n",
       "3  4796.431641  4927.568359  4744.676270  4820.447754  17826656266   \n",
       "4  4820.717773  4883.027344  4409.953125  4530.520996  23047423854   \n",
       "\n",
       "       Close-1      Close-2      Close-3      Close-4      Close-5        RSI  \\\n",
       "0  4655.032227  4733.961914  4638.504395  4871.414551  5163.349121  33.027283   \n",
       "1  4765.085449  4655.032227  4733.961914  4638.504395  4871.414551  38.134029   \n",
       "2  4848.099121  4765.085449  4655.032227  4733.961914  4638.504395  42.837999   \n",
       "3  4796.455566  4848.099121  4765.085449  4655.032227  4733.961914  40.256282   \n",
       "4  4820.447754  4796.455566  4848.099121  4765.085449  4655.032227  36.795364   \n",
       "\n",
       "        macd     close_50     close_12  signal_ema50  signal_ema12  y  \n",
       "0   0.000000  4765.085449  4765.085449             0             0  1  \n",
       "1   5.297739  4768.340887  4777.856783             1             1  0  \n",
       "2   5.032697  4769.443424  4780.718134             1             1  1  \n",
       "3   6.110331  4771.443593  4786.830384             1             1  0  \n",
       "4 -12.074462  4761.995648  4747.398170             0             0  0  "
      ]
     },
     "execution_count": 16,
     "metadata": {},
     "output_type": "execute_result"
    }
   ],
   "source": [
    "df.head()"
   ]
  },
  {
   "cell_type": "code",
   "execution_count": 17,
   "id": "35832558",
   "metadata": {},
   "outputs": [
    {
     "name": "stdout",
     "output_type": "stream",
     "text": [
      "(298, 16) (298,) (75, 16) (75,)\n"
     ]
    }
   ],
   "source": [
    "# split into train and test sets\n",
    "values = df.values\n",
    "#n_train_hours = 365 * 24\n",
    "train = values[:round(0.8*values.shape[0]), :]\n",
    "test = values[round(0.8*values.shape[0]):, :]\n",
    "# split into input and outputs\n",
    "train_X, train_y = train[:, :-1], train[:, -1]\n",
    "test_X, test_y = test[:, :-1], test[:, -1]\n",
    "# reshape input to be 3D [samples, timesteps, features]\n",
    "\n",
    "\n",
    "print(train_X.shape, train_y.shape, test_X.shape, test_y.shape)"
   ]
  },
  {
   "cell_type": "markdown",
   "id": "3f19cccf",
   "metadata": {},
   "source": [
    "# Feature selection"
   ]
  },
  {
   "cell_type": "code",
   "execution_count": 18,
   "id": "43407887",
   "metadata": {},
   "outputs": [
    {
     "data": {
      "text/plain": [
       "<AxesSubplot: >"
      ]
     },
     "execution_count": 18,
     "metadata": {},
     "output_type": "execute_result"
    },
    {
     "data": {
      "image/png": "[encoded data removed]",
      "text/plain": [
       "<Figure size 432x288 with 2 Axes>"
      ]
     },
     "metadata": {
      "needs_background": "light"
     },
     "output_type": "display_data"
    }
   ],
   "source": [
    "import seaborn as sns\n",
    "sns.heatmap(df.corr(), annot=True, linewidths=.5, fmt= '.1f')"
   ]
  },
  {
   "cell_type": "code",
   "execution_count": 19,
   "id": "6b690118",
   "metadata": {},
   "outputs": [
    {
     "data": {
      "text/plain": [
       "<matplotlib.collections.PathCollection at 0x20cba1af220>"
      ]
     },
     "execution_count": 19,
     "metadata": {},
     "output_type": "execute_result"
    },
    {
     "data": {
      "image/png": "[encoded data removed]",
      "text/plain": [
       "<Figure size 432x288 with 1 Axes>"
      ]
     },
     "metadata": {
      "needs_background": "light"
     },
     "output_type": "display_data"
    }
   ],
   "source": [
    "import matplotlib.pyplot as plt\n",
    "plt.scatter(df.Open, df.High)"
   ]
  },
  {
   "cell_type": "markdown",
   "id": "f96664a0",
   "metadata": {},
   "source": [
    "## PCA"
   ]
  },
  {
   "cell_type": "markdown",
   "id": "7481f350",
   "metadata": {},
   "source": [
    "### logistic regression"
   ]
  },
  {
   "cell_type": "markdown",
   "id": "de8480e0",
   "metadata": {},
   "source": [
    "base model"
   ]
  },
  {
   "cell_type": "code",
   "execution_count": 20,
   "id": "efe5d370",
   "metadata": {},
   "outputs": [
    {
     "data": {
      "text/plain": [
       "0.49333333333333335"
      ]
     },
     "execution_count": 20,
     "metadata": {},
     "output_type": "execute_result"
    }
   ],
   "source": [
    "from sklearn.linear_model import LogisticRegression\n",
    "from sklearn.metrics import accuracy_score\n",
    "\n",
    "model = LogisticRegression()\n",
    "model.fit(train_X, train_y)\n",
    "y_pred = model.predict(test_X)\n",
    "acc_base_logreg = accuracy_score(test_y, y_pred)\n",
    "acc_base_logreg"
   ]
  },
  {
   "cell_type": "code",
   "execution_count": 21,
   "id": "ac935c52",
   "metadata": {},
   "outputs": [],
   "source": [
    "n_ft = 9"
   ]
  },
  {
   "cell_type": "markdown",
   "id": "299fab02",
   "metadata": {},
   "source": [
    "with PCA"
   ]
  },
  {
   "cell_type": "code",
   "execution_count": 22,
   "id": "5cd1f24c",
   "metadata": {},
   "outputs": [
    {
     "data": {
      "text/plain": [
       "0.48"
      ]
     },
     "execution_count": 22,
     "metadata": {},
     "output_type": "execute_result"
    }
   ],
   "source": [
    "from numpy import mean\n",
    "from numpy import std\n",
    "from sklearn.datasets import make_classification\n",
    "from sklearn.model_selection import cross_val_score\n",
    "from sklearn.model_selection import RepeatedStratifiedKFold\n",
    "from sklearn.pipeline import Pipeline\n",
    "from sklearn.decomposition import PCA\n",
    "from sklearn.linear_model import LogisticRegression\n",
    "# define the pipeline\n",
    "steps = [('pca', PCA(n_components=n_ft)), ('m', LogisticRegression())]\n",
    "model = Pipeline(steps=steps)\n",
    "# evaluate model\n",
    "#cv = RepeatedStratifiedKFold(n_splits=10, n_repeats=3, random_state=1)\n",
    "#n_scores = cross_val_score(model, train_X, train_y, scoring='accuracy', cv=cv, n_jobs=-1)\n",
    "# report performance\n",
    "model.fit(train_X, train_y)\n",
    "y_pred = model.predict(test_X)\n",
    "accuracy_score(test_y, y_pred)\n"
   ]
  },
  {
   "cell_type": "markdown",
   "id": "8b9a8219",
   "metadata": {},
   "source": [
    "with LLE"
   ]
  },
  {
   "cell_type": "code",
   "execution_count": 23,
   "id": "c222f1e4",
   "metadata": {},
   "outputs": [
    {
     "data": {
      "text/plain": [
       "0.56"
      ]
     },
     "execution_count": 23,
     "metadata": {},
     "output_type": "execute_result"
    }
   ],
   "source": [
    "from numpy import mean\n",
    "from numpy import std\n",
    "from sklearn.datasets import make_classification\n",
    "from sklearn.model_selection import cross_val_score\n",
    "from sklearn.model_selection import RepeatedStratifiedKFold\n",
    "from sklearn.pipeline import Pipeline\n",
    "from sklearn.manifold import LocallyLinearEmbedding\n",
    "from sklearn.linear_model import LogisticRegression\n",
    "# define the pipeline\n",
    "steps = [('lle', LocallyLinearEmbedding(n_components=n_ft)) , ('m', LogisticRegression())]\n",
    "model = Pipeline(steps=steps)\n",
    "# evaluate model\n",
    "#cv = RepeatedStratifiedKFold(n_splits=10, n_repeats=3, random_state=1)\n",
    "#n_scores = cross_val_score(model, train_X, train_y, scoring='accuracy', cv=cv, n_jobs=-1)\n",
    "# report performance\n",
    "model.fit(train_X, train_y)\n",
    "y_pred = model.predict(test_X)\n",
    "accuracy_score(test_y, y_pred)"
   ]
  },
  {
   "cell_type": "markdown",
   "id": "6b399719",
   "metadata": {},
   "source": [
    "### RAndom forest"
   ]
  },
  {
   "cell_type": "markdown",
   "id": "aaa8d3bc",
   "metadata": {},
   "source": [
    "base model"
   ]
  },
  {
   "cell_type": "code",
   "execution_count": 24,
   "id": "a6a2acb2",
   "metadata": {},
   "outputs": [
    {
     "data": {
      "text/plain": [
       "0.52"
      ]
     },
     "execution_count": 24,
     "metadata": {},
     "output_type": "execute_result"
    }
   ],
   "source": [
    "from sklearn.ensemble import RandomForestClassifier\n",
    "from sklearn.metrics import accuracy_score\n",
    "\n",
    "rf = RandomForestClassifier(random_state=0)\n",
    "rf.fit(train_X, train_y)\n",
    "y_pred = rf.predict(test_X)\n",
    "acc_base_logreg = accuracy_score(test_y, y_pred)\n",
    "acc_base_logreg"
   ]
  },
  {
   "cell_type": "markdown",
   "id": "c5652369",
   "metadata": {},
   "source": [
    "with PCA"
   ]
  },
  {
   "cell_type": "code",
   "execution_count": 25,
   "id": "1bf3de94",
   "metadata": {},
   "outputs": [
    {
     "data": {
      "text/plain": [
       "0.5066666666666667"
      ]
     },
     "execution_count": 25,
     "metadata": {},
     "output_type": "execute_result"
    }
   ],
   "source": [
    "from numpy import mean\n",
    "from numpy import std\n",
    "from sklearn.datasets import make_classification\n",
    "from sklearn.model_selection import cross_val_score\n",
    "from sklearn.model_selection import RepeatedStratifiedKFold\n",
    "from sklearn.pipeline import Pipeline\n",
    "from sklearn.decomposition import PCA\n",
    "from sklearn.linear_model import LogisticRegression\n",
    "# define the pipeline\n",
    "steps = [('pca', PCA(n_components=n_ft)), ('m', rf)]\n",
    "model = Pipeline(steps=steps)\n",
    "model.fit(train_X, train_y)\n",
    "y_pred = model.predict(test_X)\n",
    "accuracy_score(test_y, y_pred)"
   ]
  },
  {
   "cell_type": "markdown",
   "id": "14194a80",
   "metadata": {},
   "source": [
    "with LLE"
   ]
  },
  {
   "cell_type": "code",
   "execution_count": 26,
   "id": "07fedc57",
   "metadata": {},
   "outputs": [
    {
     "data": {
      "text/plain": [
       "0.44"
      ]
     },
     "execution_count": 26,
     "metadata": {},
     "output_type": "execute_result"
    }
   ],
   "source": [
    "from numpy import mean\n",
    "from numpy import std\n",
    "from sklearn.datasets import make_classification\n",
    "from sklearn.model_selection import cross_val_score\n",
    "from sklearn.model_selection import RepeatedStratifiedKFold\n",
    "from sklearn.pipeline import Pipeline\n",
    "from sklearn.decomposition import PCA\n",
    "from sklearn.linear_model import LogisticRegression\n",
    "# define the pipeline\n",
    "steps = [('pca', LocallyLinearEmbedding(n_components=n_ft)), ('m', rf)]\n",
    "model = Pipeline(steps=steps)\n",
    "model.fit(train_X, train_y)\n",
    "y_pred = model.predict(test_X)\n",
    "accuracy_score(test_y, y_pred)"
   ]
  },
  {
   "cell_type": "markdown",
   "id": "cd466c44",
   "metadata": {},
   "source": [
    "### XGBoost"
   ]
  },
  {
   "cell_type": "markdown",
   "id": "9ccd96dd",
   "metadata": {},
   "source": [
    "base model"
   ]
  },
  {
   "cell_type": "code",
   "execution_count": 27,
   "id": "3ef0bbbb",
   "metadata": {},
   "outputs": [
    {
     "data": {
      "text/plain": [
       "0.52"
      ]
     },
     "execution_count": 27,
     "metadata": {},
     "output_type": "execute_result"
    }
   ],
   "source": [
    "from sklearn.ensemble import RandomForestClassifier\n",
    "from sklearn.metrics import accuracy_score\n",
    "import xgboost as xgb\n",
    "\n",
    "xgb_model = xgb.XGBClassifier()\n",
    "xgb_model.fit(train_X, train_y)\n",
    "y_pred = xgb_model.predict(test_X)\n",
    "acc_base_logreg = accuracy_score(test_y, y_pred)\n",
    "acc_base_logreg"
   ]
  },
  {
   "cell_type": "markdown",
   "id": "4e423eb2",
   "metadata": {},
   "source": [
    "with PCA"
   ]
  },
  {
   "cell_type": "code",
   "execution_count": 28,
   "id": "656b4ec5",
   "metadata": {},
   "outputs": [
    {
     "data": {
      "text/plain": [
       "0.4666666666666667"
      ]
     },
     "execution_count": 28,
     "metadata": {},
     "output_type": "execute_result"
    }
   ],
   "source": [
    "from numpy import mean\n",
    "from numpy import std\n",
    "from sklearn.datasets import make_classification\n",
    "from sklearn.model_selection import cross_val_score\n",
    "from sklearn.model_selection import RepeatedStratifiedKFold\n",
    "from sklearn.pipeline import Pipeline\n",
    "from sklearn.decomposition import PCA\n",
    "from sklearn.linear_model import LogisticRegression\n",
    "# define the pipeline\n",
    "steps = [('pca', PCA(n_components=n_ft)), ('m', xgb_model)]\n",
    "model = Pipeline(steps=steps)\n",
    "model.fit(train_X, train_y)\n",
    "y_pred = model.predict(test_X)\n",
    "accuracy_score(test_y, y_pred)"
   ]
  },
  {
   "cell_type": "code",
   "execution_count": 29,
   "id": "ce0dd3e1",
   "metadata": {},
   "outputs": [
    {
     "data": {
      "text/plain": [
       "0.4266666666666667"
      ]
     },
     "execution_count": 29,
     "metadata": {},
     "output_type": "execute_result"
    }
   ],
   "source": [
    "from numpy import mean\n",
    "from numpy import std\n",
    "from sklearn.datasets import make_classification\n",
    "from sklearn.model_selection import cross_val_score\n",
    "from sklearn.model_selection import RepeatedStratifiedKFold\n",
    "from sklearn.pipeline import Pipeline\n",
    "from sklearn.decomposition import PCA\n",
    "from sklearn.linear_model import LogisticRegression\n",
    "# define the pipeline\n",
    "steps = [('lle', LocallyLinearEmbedding(n_components=n_ft)), ('m', xgb_model)]\n",
    "model = Pipeline(steps=steps)\n",
    "model.fit(train_X, train_y)\n",
    "y_pred = model.predict(test_X)\n",
    "accuracy_score(test_y, y_pred)"
   ]
  },
  {
   "cell_type": "code",
   "execution_count": 32,
   "id": "e02b0cef",
   "metadata": {},
   "outputs": [
    {
     "data": {
      "text/plain": [
       "390.0"
      ]
     },
     "execution_count": 32,
     "metadata": {},
     "output_type": "execute_result"
    }
   ],
   "source": []
  },
  {
   "cell_type": "code",
   "execution_count": null,
   "id": "af0d02da",
   "metadata": {},
   "outputs": [],
   "source": []
  }
 ],
 "metadata": {
  "kernelspec": {
   "display_name": "Python 3 (ipykernel)",
   "language": "python",
   "name": "python3"
  },
  "language_info": {
   "codemirror_mode": {
    "name": "ipython",
    "version": 3
   },
   "file_extension": ".py",
   "mimetype": "text/x-python",
   "name": "python",
   "nbconvert_exporter": "python",
   "pygments_lexer": "ipython3",
   "version": "3.10.5"
  }
 },
 "nbformat": 4,
 "nbformat_minor": 5
}
