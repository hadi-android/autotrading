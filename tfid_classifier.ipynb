{
 "cells": [
  {
   "cell_type": "markdown",
   "metadata": {},
   "source": [
    "<h3> Import the necessary packages"
   ]
  },
  {
   "cell_type": "code",
   "execution_count": 1,
   "metadata": {},
   "outputs": [],
   "source": [
    "import pandas as pd\n",
    "import numpy as np\n",
    "from datetime import datetime\n",
    "import matplotlib.pyplot as plt\n",
    "from yahoo_historical import Fetcher"
   ]
  },
  {
   "cell_type": "markdown",
   "metadata": {},
   "source": [
    "<h3> Read the Nasdaq (QQQ) index"
   ]
  },
  {
   "cell_type": "code",
   "execution_count": 2,
   "metadata": {},
   "outputs": [],
   "source": [
    "ticker = 'QQQ'\n",
    "start = [2019,1,1]\n",
    "\n",
    "df = Fetcher(ticker, start).getHistorical()\t\n",
    "#df = df[['Date','Close']]\n",
    "df.Date = pd.to_datetime(df.Date)"
   ]
  },
  {
   "cell_type": "code",
   "execution_count": 3,
   "metadata": {},
   "outputs": [
    {
     "data": {
      "text/plain": [
       "(425, 7)"
      ]
     },
     "execution_count": 3,
     "metadata": {},
     "output_type": "execute_result"
    }
   ],
   "source": [
    "df.shape"
   ]
  },
  {
   "cell_type": "code",
   "execution_count": 4,
   "metadata": {},
   "outputs": [
    {
     "data": {
      "text/html": [
       "<div>\n",
       "<style scoped>\n",
       "    .dataframe tbody tr th:only-of-type {\n",
       "        vertical-align: middle;\n",
       "    }\n",
       "\n",
       "    .dataframe tbody tr th {\n",
       "        vertical-align: top;\n",
       "    }\n",
       "\n",
       "    .dataframe thead th {\n",
       "        text-align: right;\n",
       "    }\n",
       "</style>\n",
       "<table border=\"1\" class=\"dataframe\">\n",
       "  <thead>\n",
       "    <tr style=\"text-align: right;\">\n",
       "      <th></th>\n",
       "      <th>Date</th>\n",
       "      <th>Open</th>\n",
       "      <th>High</th>\n",
       "      <th>Low</th>\n",
       "      <th>Close</th>\n",
       "      <th>Adj Close</th>\n",
       "      <th>Volume</th>\n",
       "    </tr>\n",
       "  </thead>\n",
       "  <tbody>\n",
       "    <tr>\n",
       "      <th>0</th>\n",
       "      <td>2019-01-02</td>\n",
       "      <td>150.990005</td>\n",
       "      <td>155.750000</td>\n",
       "      <td>150.880005</td>\n",
       "      <td>154.880005</td>\n",
       "      <td>153.021332</td>\n",
       "      <td>58576700</td>\n",
       "    </tr>\n",
       "    <tr>\n",
       "      <th>1</th>\n",
       "      <td>2019-01-03</td>\n",
       "      <td>152.600006</td>\n",
       "      <td>153.259995</td>\n",
       "      <td>149.490005</td>\n",
       "      <td>149.820007</td>\n",
       "      <td>148.022064</td>\n",
       "      <td>74820200</td>\n",
       "    </tr>\n",
       "    <tr>\n",
       "      <th>2</th>\n",
       "      <td>2019-01-04</td>\n",
       "      <td>152.339996</td>\n",
       "      <td>157.000000</td>\n",
       "      <td>151.740005</td>\n",
       "      <td>156.229996</td>\n",
       "      <td>154.355118</td>\n",
       "      <td>74709300</td>\n",
       "    </tr>\n",
       "    <tr>\n",
       "      <th>3</th>\n",
       "      <td>2019-01-07</td>\n",
       "      <td>156.619995</td>\n",
       "      <td>158.860001</td>\n",
       "      <td>156.110001</td>\n",
       "      <td>158.089996</td>\n",
       "      <td>156.192795</td>\n",
       "      <td>52059300</td>\n",
       "    </tr>\n",
       "    <tr>\n",
       "      <th>4</th>\n",
       "      <td>2019-01-08</td>\n",
       "      <td>159.539993</td>\n",
       "      <td>160.110001</td>\n",
       "      <td>157.199997</td>\n",
       "      <td>159.520004</td>\n",
       "      <td>157.605637</td>\n",
       "      <td>49388700</td>\n",
       "    </tr>\n",
       "  </tbody>\n",
       "</table>\n",
       "</div>"
      ],
      "text/plain": [
       "        Date        Open        High         Low       Close   Adj Close  \\\n",
       "0 2019-01-02  150.990005  155.750000  150.880005  154.880005  153.021332   \n",
       "1 2019-01-03  152.600006  153.259995  149.490005  149.820007  148.022064   \n",
       "2 2019-01-04  152.339996  157.000000  151.740005  156.229996  154.355118   \n",
       "3 2019-01-07  156.619995  158.860001  156.110001  158.089996  156.192795   \n",
       "4 2019-01-08  159.539993  160.110001  157.199997  159.520004  157.605637   \n",
       "\n",
       "     Volume  \n",
       "0  58576700  \n",
       "1  74820200  \n",
       "2  74709300  \n",
       "3  52059300  \n",
       "4  49388700  "
      ]
     },
     "execution_count": 4,
     "metadata": {},
     "output_type": "execute_result"
    }
   ],
   "source": [
    "df.head()"
   ]
  },
  {
   "cell_type": "markdown",
   "metadata": {},
   "source": [
    "<H3> create session gain/loss label for prediction"
   ]
  },
  {
   "cell_type": "code",
   "execution_count": 5,
   "metadata": {},
   "outputs": [
    {
     "data": {
      "text/html": [
       "<div>\n",
       "<style scoped>\n",
       "    .dataframe tbody tr th:only-of-type {\n",
       "        vertical-align: middle;\n",
       "    }\n",
       "\n",
       "    .dataframe tbody tr th {\n",
       "        vertical-align: top;\n",
       "    }\n",
       "\n",
       "    .dataframe thead th {\n",
       "        text-align: right;\n",
       "    }\n",
       "</style>\n",
       "<table border=\"1\" class=\"dataframe\">\n",
       "  <thead>\n",
       "    <tr style=\"text-align: right;\">\n",
       "      <th></th>\n",
       "      <th>Date</th>\n",
       "      <th>Open</th>\n",
       "      <th>High</th>\n",
       "      <th>Low</th>\n",
       "      <th>Close</th>\n",
       "      <th>Adj Close</th>\n",
       "      <th>Volume</th>\n",
       "      <th>gain_loss</th>\n",
       "    </tr>\n",
       "  </thead>\n",
       "  <tbody>\n",
       "    <tr>\n",
       "      <th>1</th>\n",
       "      <td>2019-01-03</td>\n",
       "      <td>152.600006</td>\n",
       "      <td>153.259995</td>\n",
       "      <td>149.490005</td>\n",
       "      <td>149.820007</td>\n",
       "      <td>148.022064</td>\n",
       "      <td>74820200</td>\n",
       "      <td>0</td>\n",
       "    </tr>\n",
       "    <tr>\n",
       "      <th>2</th>\n",
       "      <td>2019-01-04</td>\n",
       "      <td>152.339996</td>\n",
       "      <td>157.000000</td>\n",
       "      <td>151.740005</td>\n",
       "      <td>156.229996</td>\n",
       "      <td>154.355118</td>\n",
       "      <td>74709300</td>\n",
       "      <td>1</td>\n",
       "    </tr>\n",
       "    <tr>\n",
       "      <th>3</th>\n",
       "      <td>2019-01-07</td>\n",
       "      <td>156.619995</td>\n",
       "      <td>158.860001</td>\n",
       "      <td>156.110001</td>\n",
       "      <td>158.089996</td>\n",
       "      <td>156.192795</td>\n",
       "      <td>52059300</td>\n",
       "      <td>1</td>\n",
       "    </tr>\n",
       "    <tr>\n",
       "      <th>4</th>\n",
       "      <td>2019-01-08</td>\n",
       "      <td>159.539993</td>\n",
       "      <td>160.110001</td>\n",
       "      <td>157.199997</td>\n",
       "      <td>159.520004</td>\n",
       "      <td>157.605637</td>\n",
       "      <td>49388700</td>\n",
       "      <td>1</td>\n",
       "    </tr>\n",
       "    <tr>\n",
       "      <th>5</th>\n",
       "      <td>2019-01-09</td>\n",
       "      <td>160.139999</td>\n",
       "      <td>161.520004</td>\n",
       "      <td>159.470001</td>\n",
       "      <td>160.820007</td>\n",
       "      <td>158.890045</td>\n",
       "      <td>46491700</td>\n",
       "      <td>1</td>\n",
       "    </tr>\n",
       "    <tr>\n",
       "      <th>6</th>\n",
       "      <td>2019-01-10</td>\n",
       "      <td>159.600006</td>\n",
       "      <td>161.369995</td>\n",
       "      <td>158.699997</td>\n",
       "      <td>161.279999</td>\n",
       "      <td>159.344513</td>\n",
       "      <td>38943400</td>\n",
       "      <td>1</td>\n",
       "    </tr>\n",
       "    <tr>\n",
       "      <th>7</th>\n",
       "      <td>2019-01-11</td>\n",
       "      <td>160.330002</td>\n",
       "      <td>160.860001</td>\n",
       "      <td>159.789993</td>\n",
       "      <td>160.690002</td>\n",
       "      <td>158.761581</td>\n",
       "      <td>30176600</td>\n",
       "      <td>0</td>\n",
       "    </tr>\n",
       "  </tbody>\n",
       "</table>\n",
       "</div>"
      ],
      "text/plain": [
       "        Date        Open        High         Low       Close   Adj Close  \\\n",
       "1 2019-01-03  152.600006  153.259995  149.490005  149.820007  148.022064   \n",
       "2 2019-01-04  152.339996  157.000000  151.740005  156.229996  154.355118   \n",
       "3 2019-01-07  156.619995  158.860001  156.110001  158.089996  156.192795   \n",
       "4 2019-01-08  159.539993  160.110001  157.199997  159.520004  157.605637   \n",
       "5 2019-01-09  160.139999  161.520004  159.470001  160.820007  158.890045   \n",
       "6 2019-01-10  159.600006  161.369995  158.699997  161.279999  159.344513   \n",
       "7 2019-01-11  160.330002  160.860001  159.789993  160.690002  158.761581   \n",
       "\n",
       "     Volume  gain_loss  \n",
       "1  74820200          0  \n",
       "2  74709300          1  \n",
       "3  52059300          1  \n",
       "4  49388700          1  \n",
       "5  46491700          1  \n",
       "6  38943400          1  \n",
       "7  30176600          0  "
      ]
     },
     "execution_count": 5,
     "metadata": {},
     "output_type": "execute_result"
    }
   ],
   "source": [
    "change = df.Close-df.Close.shift(1)\n",
    "change.head()\n",
    "df['gain_loss'] = change>0\n",
    "df.gain_loss = df.gain_loss.astype(int)\n",
    "df=df.iloc[1:,]\n",
    "df.head(7)"
   ]
  },
  {
   "cell_type": "markdown",
   "metadata": {},
   "source": [
    "<h3> fundamentals"
   ]
  },
  {
   "cell_type": "code",
   "execution_count": 6,
   "metadata": {},
   "outputs": [],
   "source": [
    "import pandas as pd\n",
    "from searchtweets import load_credentials, gen_rule_payload, collect_results"
   ]
  },
  {
   "cell_type": "code",
   "execution_count": 7,
   "metadata": {},
   "outputs": [],
   "source": [
    "all_tweets=[]"
   ]
  },
  {
   "cell_type": "code",
   "execution_count": 8,
   "metadata": {},
   "outputs": [],
   "source": [
    "import os\n",
    "import re\n",
    "import pickle\n",
    "rootdir = os.getcwd()"
   ]
  },
  {
   "cell_type": "markdown",
   "metadata": {},
   "source": [
    "<h3> Read stock market news dataset"
   ]
  },
  {
   "cell_type": "code",
   "execution_count": 9,
   "metadata": {},
   "outputs": [
    {
     "name": "stdout",
     "output_type": "stream",
     "text": [
      "stock_market_2019-03-01-2019-03-30.sav\n",
      "stock_market_2019-04-01-2019-04-29.sav\n",
      "stock_market_2019-05-01-2019-05-31.sav\n",
      "stock_market_2019-06-01-2019-06-28.sav\n",
      "stock_market_2019-07-01-2019-07-31.sav\n",
      "stock_market_2019-08-01-2019-08-30.sav\n",
      "stock_market_2019-09-01-2019-09-30.sav\n",
      "stock_market_2019-10-01-2019-10-31.sav\n",
      "stock_market_2019-11-01-2019-11-22.sav\n",
      "stock_market_2019-11-25-2019-12-30.sav\n"
     ]
    }
   ],
   "source": [
    "regex = re.compile('stock_market.*\\.sav')\n",
    "#'Run.*\\.py$'\n",
    "\n",
    "for root, dirs, files in os.walk(rootdir):\n",
    "  for file in files:\n",
    "    if regex.match(file):\n",
    "        all_tweets.append(pickle.load(open(file,'rb')))\n",
    "        print(file)\n",
    "        "
   ]
  },
  {
   "cell_type": "code",
   "execution_count": 10,
   "metadata": {},
   "outputs": [
    {
     "data": {
      "text/plain": [
       "10"
      ]
     },
     "execution_count": 10,
     "metadata": {},
     "output_type": "execute_result"
    }
   ],
   "source": [
    "len(all_tweets)"
   ]
  },
  {
   "cell_type": "code",
   "execution_count": 11,
   "metadata": {},
   "outputs": [],
   "source": [
    "#all_tweets[0]"
   ]
  },
  {
   "cell_type": "code",
   "execution_count": 12,
   "metadata": {},
   "outputs": [],
   "source": [
    "text=[]\n",
    "dates=[]\n",
    "names=[]\n",
    "for i in range(len(all_tweets)):\n",
    "    text.append([tweet.all_text for tweet in all_tweets[i]])\n",
    "    dates.append([tweet.created_at_datetime for tweet in all_tweets[i]])\n",
    "    names.append([tweet.name for tweet in all_tweets[i]])"
   ]
  },
  {
   "cell_type": "code",
   "execution_count": 13,
   "metadata": {},
   "outputs": [],
   "source": [
    "\n",
    "text1 = [item for sublist in text for item in sublist]\n",
    "news = pd.DataFrame(text1, columns={'text'})\n",
    "news['Date'] = [item for sublist in dates for item in sublist]\n",
    "news['name'] = [item for sublist in names for item in sublist]"
   ]
  },
  {
   "cell_type": "code",
   "execution_count": 14,
   "metadata": {},
   "outputs": [
    {
     "data": {
      "text/plain": [
       "(609, 3)"
      ]
     },
     "execution_count": 14,
     "metadata": {},
     "output_type": "execute_result"
    }
   ],
   "source": [
    "news.shape"
   ]
  },
  {
   "cell_type": "code",
   "execution_count": 15,
   "metadata": {},
   "outputs": [
    {
     "data": {
      "text/html": [
       "<div>\n",
       "<style scoped>\n",
       "    .dataframe tbody tr th:only-of-type {\n",
       "        vertical-align: middle;\n",
       "    }\n",
       "\n",
       "    .dataframe tbody tr th {\n",
       "        vertical-align: top;\n",
       "    }\n",
       "\n",
       "    .dataframe thead th {\n",
       "        text-align: right;\n",
       "    }\n",
       "</style>\n",
       "<table border=\"1\" class=\"dataframe\">\n",
       "  <thead>\n",
       "    <tr style=\"text-align: right;\">\n",
       "      <th></th>\n",
       "      <th>text</th>\n",
       "      <th>Date</th>\n",
       "      <th>name</th>\n",
       "    </tr>\n",
       "  </thead>\n",
       "  <tbody>\n",
       "    <tr>\n",
       "      <th>0</th>\n",
       "      <td>What the IPO market is telling us about the st...</td>\n",
       "      <td>2019-03-30 20:48:41</td>\n",
       "      <td>Yahoo Finance</td>\n",
       "    </tr>\n",
       "    <tr>\n",
       "      <th>1</th>\n",
       "      <td>S&amp;amp;P 500 posts best three-month start to th...</td>\n",
       "      <td>2019-03-29 20:13:57</td>\n",
       "      <td>Yahoo Finance</td>\n",
       "    </tr>\n",
       "    <tr>\n",
       "      <th>2</th>\n",
       "      <td>The S&amp;amp;P 500 is heading toward its best thr...</td>\n",
       "      <td>2019-03-29 13:48:19</td>\n",
       "      <td>Yahoo Finance</td>\n",
       "    </tr>\n",
       "    <tr>\n",
       "      <th>3</th>\n",
       "      <td>What the IPO market is telling us about the st...</td>\n",
       "      <td>2019-03-29 00:42:10</td>\n",
       "      <td>Yahoo Finance</td>\n",
       "    </tr>\n",
       "    <tr>\n",
       "      <th>4</th>\n",
       "      <td>What the IPO market is telling us about the st...</td>\n",
       "      <td>2019-03-28 17:25:15</td>\n",
       "      <td>Yahoo Finance</td>\n",
       "    </tr>\n",
       "    <tr>\n",
       "      <th>...</th>\n",
       "      <td>...</td>\n",
       "      <td>...</td>\n",
       "      <td>...</td>\n",
       "    </tr>\n",
       "    <tr>\n",
       "      <th>604</th>\n",
       "      <td>S&amp;amp;P 500, Dow, Nasdaq each clinch record cl...</td>\n",
       "      <td>2019-11-25 21:16:34</td>\n",
       "      <td>Yahoo Finance</td>\n",
       "    </tr>\n",
       "    <tr>\n",
       "      <th>605</th>\n",
       "      <td>Stock Market 2020: Goldman presents a gloomy ‘...</td>\n",
       "      <td>2019-11-25 16:35:26</td>\n",
       "      <td>Yahoo Finance</td>\n",
       "    </tr>\n",
       "    <tr>\n",
       "      <th>606</th>\n",
       "      <td>S&amp;amp;P 500, Nasdaq hit fresh record highs aft...</td>\n",
       "      <td>2019-11-25 15:29:48</td>\n",
       "      <td>Yahoo Finance</td>\n",
       "    </tr>\n",
       "    <tr>\n",
       "      <th>607</th>\n",
       "      <td>Stock futures advance after China IP announcem...</td>\n",
       "      <td>2019-11-25 13:33:21</td>\n",
       "      <td>Yahoo Finance</td>\n",
       "    </tr>\n",
       "    <tr>\n",
       "      <th>608</th>\n",
       "      <td>Stocks could rocket higher from here, history ...</td>\n",
       "      <td>2019-11-25 11:55:03</td>\n",
       "      <td>Yahoo Finance</td>\n",
       "    </tr>\n",
       "  </tbody>\n",
       "</table>\n",
       "<p>609 rows × 3 columns</p>\n",
       "</div>"
      ],
      "text/plain": [
       "                                                  text                Date  \\\n",
       "0    What the IPO market is telling us about the st... 2019-03-30 20:48:41   \n",
       "1    S&amp;P 500 posts best three-month start to th... 2019-03-29 20:13:57   \n",
       "2    The S&amp;P 500 is heading toward its best thr... 2019-03-29 13:48:19   \n",
       "3    What the IPO market is telling us about the st... 2019-03-29 00:42:10   \n",
       "4    What the IPO market is telling us about the st... 2019-03-28 17:25:15   \n",
       "..                                                 ...                 ...   \n",
       "604  S&amp;P 500, Dow, Nasdaq each clinch record cl... 2019-11-25 21:16:34   \n",
       "605  Stock Market 2020: Goldman presents a gloomy ‘... 2019-11-25 16:35:26   \n",
       "606  S&amp;P 500, Nasdaq hit fresh record highs aft... 2019-11-25 15:29:48   \n",
       "607  Stock futures advance after China IP announcem... 2019-11-25 13:33:21   \n",
       "608  Stocks could rocket higher from here, history ... 2019-11-25 11:55:03   \n",
       "\n",
       "              name  \n",
       "0    Yahoo Finance  \n",
       "1    Yahoo Finance  \n",
       "2    Yahoo Finance  \n",
       "3    Yahoo Finance  \n",
       "4    Yahoo Finance  \n",
       "..             ...  \n",
       "604  Yahoo Finance  \n",
       "605  Yahoo Finance  \n",
       "606  Yahoo Finance  \n",
       "607  Yahoo Finance  \n",
       "608  Yahoo Finance  \n",
       "\n",
       "[609 rows x 3 columns]"
      ]
     },
     "execution_count": 15,
     "metadata": {},
     "output_type": "execute_result"
    }
   ],
   "source": [
    "news"
   ]
  },
  {
   "cell_type": "code",
   "execution_count": 16,
   "metadata": {},
   "outputs": [],
   "source": [
    "from datetime import timedelta"
   ]
  },
  {
   "cell_type": "code",
   "execution_count": 17,
   "metadata": {},
   "outputs": [
    {
     "data": {
      "text/html": [
       "<div>\n",
       "<style scoped>\n",
       "    .dataframe tbody tr th:only-of-type {\n",
       "        vertical-align: middle;\n",
       "    }\n",
       "\n",
       "    .dataframe tbody tr th {\n",
       "        vertical-align: top;\n",
       "    }\n",
       "\n",
       "    .dataframe thead th {\n",
       "        text-align: right;\n",
       "    }\n",
       "</style>\n",
       "<table border=\"1\" class=\"dataframe\">\n",
       "  <thead>\n",
       "    <tr style=\"text-align: right;\">\n",
       "      <th></th>\n",
       "      <th>text</th>\n",
       "      <th>Date</th>\n",
       "      <th>name</th>\n",
       "    </tr>\n",
       "  </thead>\n",
       "  <tbody>\n",
       "    <tr>\n",
       "      <th>0</th>\n",
       "      <td>S&amp;amp;P 500 rises after three straight days of...</td>\n",
       "      <td>2019-03-01 15:45:21</td>\n",
       "      <td>Yahoo Finance</td>\n",
       "    </tr>\n",
       "    <tr>\n",
       "      <th>1</th>\n",
       "      <td>One of the things @BrianSozzi learned since 20...</td>\n",
       "      <td>2019-03-04 11:07:28</td>\n",
       "      <td>Yahoo Finance</td>\n",
       "    </tr>\n",
       "    <tr>\n",
       "      <th>2</th>\n",
       "      <td>Stock rise amid reports of impending U.S.-Chin...</td>\n",
       "      <td>2019-03-04 11:14:03</td>\n",
       "      <td>Yahoo Finance</td>\n",
       "    </tr>\n",
       "    <tr>\n",
       "      <th>3</th>\n",
       "      <td>What I learned about investing since the March...</td>\n",
       "      <td>2019-03-04 11:36:06</td>\n",
       "      <td>Yahoo Finance</td>\n",
       "    </tr>\n",
       "    <tr>\n",
       "      <th>4</th>\n",
       "      <td>Dow on track for worst day in 5 weeks &amp;amp; Vi...</td>\n",
       "      <td>2019-03-04 13:31:36</td>\n",
       "      <td>Yahoo Finance</td>\n",
       "    </tr>\n",
       "  </tbody>\n",
       "</table>\n",
       "</div>"
      ],
      "text/plain": [
       "                                                text                Date  \\\n",
       "0  S&amp;P 500 rises after three straight days of... 2019-03-01 15:45:21   \n",
       "1  One of the things @BrianSozzi learned since 20... 2019-03-04 11:07:28   \n",
       "2  Stock rise amid reports of impending U.S.-Chin... 2019-03-04 11:14:03   \n",
       "3  What I learned about investing since the March... 2019-03-04 11:36:06   \n",
       "4  Dow on track for worst day in 5 weeks &amp; Vi... 2019-03-04 13:31:36   \n",
       "\n",
       "            name  \n",
       "0  Yahoo Finance  \n",
       "1  Yahoo Finance  \n",
       "2  Yahoo Finance  \n",
       "3  Yahoo Finance  \n",
       "4  Yahoo Finance  "
      ]
     },
     "execution_count": 17,
     "metadata": {},
     "output_type": "execute_result"
    }
   ],
   "source": [
    "news.Date = pd.to_datetime(news.Date)\n",
    "news.Date = [a-timedelta(hours=4) for a in news.Date]\n",
    "news = news.sort_values('Date').reset_index(drop=True)\n",
    "news.head()"
   ]
  },
  {
   "cell_type": "code",
   "execution_count": 18,
   "metadata": {},
   "outputs": [
    {
     "data": {
      "text/html": [
       "<div>\n",
       "<style scoped>\n",
       "    .dataframe tbody tr th:only-of-type {\n",
       "        vertical-align: middle;\n",
       "    }\n",
       "\n",
       "    .dataframe tbody tr th {\n",
       "        vertical-align: top;\n",
       "    }\n",
       "\n",
       "    .dataframe thead th {\n",
       "        text-align: right;\n",
       "    }\n",
       "</style>\n",
       "<table border=\"1\" class=\"dataframe\">\n",
       "  <thead>\n",
       "    <tr style=\"text-align: right;\">\n",
       "      <th></th>\n",
       "      <th>text</th>\n",
       "      <th>Date</th>\n",
       "      <th>name</th>\n",
       "      <th>hour</th>\n",
       "    </tr>\n",
       "  </thead>\n",
       "  <tbody>\n",
       "    <tr>\n",
       "      <th>0</th>\n",
       "      <td>S&amp;amp;P 500 rises after three straight days of...</td>\n",
       "      <td>2019-03-01 15:45:21</td>\n",
       "      <td>Yahoo Finance</td>\n",
       "      <td>15</td>\n",
       "    </tr>\n",
       "    <tr>\n",
       "      <th>1</th>\n",
       "      <td>One of the things @BrianSozzi learned since 20...</td>\n",
       "      <td>2019-03-04 11:07:28</td>\n",
       "      <td>Yahoo Finance</td>\n",
       "      <td>11</td>\n",
       "    </tr>\n",
       "    <tr>\n",
       "      <th>2</th>\n",
       "      <td>Stock rise amid reports of impending U.S.-Chin...</td>\n",
       "      <td>2019-03-04 11:14:03</td>\n",
       "      <td>Yahoo Finance</td>\n",
       "      <td>11</td>\n",
       "    </tr>\n",
       "    <tr>\n",
       "      <th>3</th>\n",
       "      <td>What I learned about investing since the March...</td>\n",
       "      <td>2019-03-04 11:36:06</td>\n",
       "      <td>Yahoo Finance</td>\n",
       "      <td>11</td>\n",
       "    </tr>\n",
       "    <tr>\n",
       "      <th>4</th>\n",
       "      <td>Dow on track for worst day in 5 weeks &amp;amp; Vi...</td>\n",
       "      <td>2019-03-04 13:31:36</td>\n",
       "      <td>Yahoo Finance</td>\n",
       "      <td>13</td>\n",
       "    </tr>\n",
       "  </tbody>\n",
       "</table>\n",
       "</div>"
      ],
      "text/plain": [
       "                                                text                Date  \\\n",
       "0  S&amp;P 500 rises after three straight days of... 2019-03-01 15:45:21   \n",
       "1  One of the things @BrianSozzi learned since 20... 2019-03-04 11:07:28   \n",
       "2  Stock rise amid reports of impending U.S.-Chin... 2019-03-04 11:14:03   \n",
       "3  What I learned about investing since the March... 2019-03-04 11:36:06   \n",
       "4  Dow on track for worst day in 5 weeks &amp; Vi... 2019-03-04 13:31:36   \n",
       "\n",
       "            name  hour  \n",
       "0  Yahoo Finance    15  \n",
       "1  Yahoo Finance    11  \n",
       "2  Yahoo Finance    11  \n",
       "3  Yahoo Finance    11  \n",
       "4  Yahoo Finance    13  "
      ]
     },
     "execution_count": 18,
     "metadata": {},
     "output_type": "execute_result"
    }
   ],
   "source": [
    "newsh=news.Date.astype('str')\n",
    "#print(d)\n",
    "newsh = [d[d.find(':')-2:d.find(':')] for d in newsh]\n",
    "news['hour'] = newsh\n",
    "news.hour = news.hour.astype(int)\n",
    "news.head()"
   ]
  },
  {
   "cell_type": "code",
   "execution_count": 19,
   "metadata": {},
   "outputs": [
    {
     "data": {
      "text/plain": [
       "(609, 4)"
      ]
     },
     "execution_count": 19,
     "metadata": {},
     "output_type": "execute_result"
    }
   ],
   "source": [
    "news.shape"
   ]
  },
  {
   "cell_type": "code",
   "execution_count": 20,
   "metadata": {},
   "outputs": [],
   "source": [
    "news[news.hour<=12].shape\n",
    "news1 = news[news.hour<=12]"
   ]
  },
  {
   "cell_type": "code",
   "execution_count": 21,
   "metadata": {},
   "outputs": [
    {
     "data": {
      "text/plain": [
       "text            object\n",
       "Date    datetime64[ns]\n",
       "name            object\n",
       "hour             int32\n",
       "dtype: object"
      ]
     },
     "execution_count": 21,
     "metadata": {},
     "output_type": "execute_result"
    }
   ],
   "source": [
    "news1.dtypes"
   ]
  },
  {
   "cell_type": "code",
   "execution_count": 22,
   "metadata": {},
   "outputs": [
    {
     "data": {
      "text/plain": [
       "(354, 4)"
      ]
     },
     "execution_count": 22,
     "metadata": {},
     "output_type": "execute_result"
    }
   ],
   "source": [
    "news1.shape"
   ]
  },
  {
   "cell_type": "code",
   "execution_count": 23,
   "metadata": {},
   "outputs": [
    {
     "name": "stderr",
     "output_type": "stream",
     "text": [
      "C:\\Users\\htadayyon\\AppData\\Roaming\\Python\\Python38\\site-packages\\pandas\\core\\generic.py:5303: SettingWithCopyWarning: \n",
      "A value is trying to be set on a copy of a slice from a DataFrame.\n",
      "Try using .loc[row_indexer,col_indexer] = value instead\n",
      "\n",
      "See the caveats in the documentation: https://pandas.pydata.org/pandas-docs/stable/user_guide/indexing.html#returning-a-view-versus-a-copy\n",
      "  self[name] = value\n"
     ]
    },
    {
     "data": {
      "text/html": [
       "<div>\n",
       "<style scoped>\n",
       "    .dataframe tbody tr th:only-of-type {\n",
       "        vertical-align: middle;\n",
       "    }\n",
       "\n",
       "    .dataframe tbody tr th {\n",
       "        vertical-align: top;\n",
       "    }\n",
       "\n",
       "    .dataframe thead th {\n",
       "        text-align: right;\n",
       "    }\n",
       "</style>\n",
       "<table border=\"1\" class=\"dataframe\">\n",
       "  <thead>\n",
       "    <tr style=\"text-align: right;\">\n",
       "      <th></th>\n",
       "      <th>text</th>\n",
       "      <th>Date</th>\n",
       "      <th>name</th>\n",
       "      <th>hour</th>\n",
       "    </tr>\n",
       "  </thead>\n",
       "  <tbody>\n",
       "    <tr>\n",
       "      <th>1</th>\n",
       "      <td>One of the things @BrianSozzi learned since 20...</td>\n",
       "      <td>2019-03-04</td>\n",
       "      <td>Yahoo Finance</td>\n",
       "      <td>11</td>\n",
       "    </tr>\n",
       "    <tr>\n",
       "      <th>2</th>\n",
       "      <td>Stock rise amid reports of impending U.S.-Chin...</td>\n",
       "      <td>2019-03-04</td>\n",
       "      <td>Yahoo Finance</td>\n",
       "      <td>11</td>\n",
       "    </tr>\n",
       "    <tr>\n",
       "      <th>3</th>\n",
       "      <td>What I learned about investing since the March...</td>\n",
       "      <td>2019-03-04</td>\n",
       "      <td>Yahoo Finance</td>\n",
       "      <td>11</td>\n",
       "    </tr>\n",
       "    <tr>\n",
       "      <th>7</th>\n",
       "      <td>Most investors have missed out on the stock ma...</td>\n",
       "      <td>2019-03-05</td>\n",
       "      <td>Yahoo Finance</td>\n",
       "      <td>4</td>\n",
       "    </tr>\n",
       "    <tr>\n",
       "      <th>8</th>\n",
       "      <td>Stocks slip at market open https://t.co/nbgNcB...</td>\n",
       "      <td>2019-03-05</td>\n",
       "      <td>Yahoo Finance</td>\n",
       "      <td>10</td>\n",
       "    </tr>\n",
       "  </tbody>\n",
       "</table>\n",
       "</div>"
      ],
      "text/plain": [
       "                                                text       Date  \\\n",
       "1  One of the things @BrianSozzi learned since 20... 2019-03-04   \n",
       "2  Stock rise amid reports of impending U.S.-Chin... 2019-03-04   \n",
       "3  What I learned about investing since the March... 2019-03-04   \n",
       "7  Most investors have missed out on the stock ma... 2019-03-05   \n",
       "8  Stocks slip at market open https://t.co/nbgNcB... 2019-03-05   \n",
       "\n",
       "            name  hour  \n",
       "1  Yahoo Finance    11  \n",
       "2  Yahoo Finance    11  \n",
       "3  Yahoo Finance    11  \n",
       "7  Yahoo Finance     4  \n",
       "8  Yahoo Finance    10  "
      ]
     },
     "execution_count": 23,
     "metadata": {},
     "output_type": "execute_result"
    }
   ],
   "source": [
    "import datetime as dt\n",
    "news1.Date = pd.to_datetime(news1['Date']).dt.floor('d')\n",
    "news1.head()"
   ]
  },
  {
   "cell_type": "code",
   "execution_count": null,
   "metadata": {},
   "outputs": [],
   "source": []
  },
  {
   "cell_type": "markdown",
   "metadata": {},
   "source": [
    "<h3> Merge stock market news dataset with stock price dataset"
   ]
  },
  {
   "cell_type": "code",
   "execution_count": 24,
   "metadata": {},
   "outputs": [],
   "source": [
    "df = df.merge(news1, on = 'Date')"
   ]
  },
  {
   "cell_type": "code",
   "execution_count": 25,
   "metadata": {},
   "outputs": [
    {
     "data": {
      "text/html": [
       "<div>\n",
       "<style scoped>\n",
       "    .dataframe tbody tr th:only-of-type {\n",
       "        vertical-align: middle;\n",
       "    }\n",
       "\n",
       "    .dataframe tbody tr th {\n",
       "        vertical-align: top;\n",
       "    }\n",
       "\n",
       "    .dataframe thead th {\n",
       "        text-align: right;\n",
       "    }\n",
       "</style>\n",
       "<table border=\"1\" class=\"dataframe\">\n",
       "  <thead>\n",
       "    <tr style=\"text-align: right;\">\n",
       "      <th></th>\n",
       "      <th>Date</th>\n",
       "      <th>Open</th>\n",
       "      <th>High</th>\n",
       "      <th>Low</th>\n",
       "      <th>Close</th>\n",
       "      <th>Adj Close</th>\n",
       "      <th>Volume</th>\n",
       "      <th>gain_loss</th>\n",
       "      <th>text</th>\n",
       "      <th>name</th>\n",
       "      <th>hour</th>\n",
       "    </tr>\n",
       "  </thead>\n",
       "  <tbody>\n",
       "    <tr>\n",
       "      <th>0</th>\n",
       "      <td>2019-03-04</td>\n",
       "      <td>175.539993</td>\n",
       "      <td>175.789993</td>\n",
       "      <td>172.470001</td>\n",
       "      <td>174.419998</td>\n",
       "      <td>172.326843</td>\n",
       "      <td>38063500</td>\n",
       "      <td>1</td>\n",
       "      <td>One of the things @BrianSozzi learned since 20...</td>\n",
       "      <td>Yahoo Finance</td>\n",
       "      <td>11</td>\n",
       "    </tr>\n",
       "    <tr>\n",
       "      <th>1</th>\n",
       "      <td>2019-03-04</td>\n",
       "      <td>175.539993</td>\n",
       "      <td>175.789993</td>\n",
       "      <td>172.470001</td>\n",
       "      <td>174.419998</td>\n",
       "      <td>172.326843</td>\n",
       "      <td>38063500</td>\n",
       "      <td>1</td>\n",
       "      <td>Stock rise amid reports of impending U.S.-Chin...</td>\n",
       "      <td>Yahoo Finance</td>\n",
       "      <td>11</td>\n",
       "    </tr>\n",
       "    <tr>\n",
       "      <th>2</th>\n",
       "      <td>2019-03-04</td>\n",
       "      <td>175.539993</td>\n",
       "      <td>175.789993</td>\n",
       "      <td>172.470001</td>\n",
       "      <td>174.419998</td>\n",
       "      <td>172.326843</td>\n",
       "      <td>38063500</td>\n",
       "      <td>1</td>\n",
       "      <td>What I learned about investing since the March...</td>\n",
       "      <td>Yahoo Finance</td>\n",
       "      <td>11</td>\n",
       "    </tr>\n",
       "    <tr>\n",
       "      <th>3</th>\n",
       "      <td>2019-03-05</td>\n",
       "      <td>174.550003</td>\n",
       "      <td>175.089996</td>\n",
       "      <td>173.690002</td>\n",
       "      <td>174.550003</td>\n",
       "      <td>172.455292</td>\n",
       "      <td>22319900</td>\n",
       "      <td>1</td>\n",
       "      <td>Most investors have missed out on the stock ma...</td>\n",
       "      <td>Yahoo Finance</td>\n",
       "      <td>4</td>\n",
       "    </tr>\n",
       "    <tr>\n",
       "      <th>4</th>\n",
       "      <td>2019-03-05</td>\n",
       "      <td>174.550003</td>\n",
       "      <td>175.089996</td>\n",
       "      <td>173.690002</td>\n",
       "      <td>174.550003</td>\n",
       "      <td>172.455292</td>\n",
       "      <td>22319900</td>\n",
       "      <td>1</td>\n",
       "      <td>Stocks slip at market open https://t.co/nbgNcB...</td>\n",
       "      <td>Yahoo Finance</td>\n",
       "      <td>10</td>\n",
       "    </tr>\n",
       "  </tbody>\n",
       "</table>\n",
       "</div>"
      ],
      "text/plain": [
       "        Date        Open        High         Low       Close   Adj Close  \\\n",
       "0 2019-03-04  175.539993  175.789993  172.470001  174.419998  172.326843   \n",
       "1 2019-03-04  175.539993  175.789993  172.470001  174.419998  172.326843   \n",
       "2 2019-03-04  175.539993  175.789993  172.470001  174.419998  172.326843   \n",
       "3 2019-03-05  174.550003  175.089996  173.690002  174.550003  172.455292   \n",
       "4 2019-03-05  174.550003  175.089996  173.690002  174.550003  172.455292   \n",
       "\n",
       "     Volume  gain_loss                                               text  \\\n",
       "0  38063500          1  One of the things @BrianSozzi learned since 20...   \n",
       "1  38063500          1  Stock rise amid reports of impending U.S.-Chin...   \n",
       "2  38063500          1  What I learned about investing since the March...   \n",
       "3  22319900          1  Most investors have missed out on the stock ma...   \n",
       "4  22319900          1  Stocks slip at market open https://t.co/nbgNcB...   \n",
       "\n",
       "            name  hour  \n",
       "0  Yahoo Finance    11  \n",
       "1  Yahoo Finance    11  \n",
       "2  Yahoo Finance    11  \n",
       "3  Yahoo Finance     4  \n",
       "4  Yahoo Finance    10  "
      ]
     },
     "execution_count": 25,
     "metadata": {},
     "output_type": "execute_result"
    }
   ],
   "source": [
    "df.head()"
   ]
  },
  {
   "cell_type": "code",
   "execution_count": 26,
   "metadata": {},
   "outputs": [
    {
     "data": {
      "text/plain": [
       "(317, 11)"
      ]
     },
     "execution_count": 26,
     "metadata": {},
     "output_type": "execute_result"
    }
   ],
   "source": [
    "df.shape"
   ]
  },
  {
   "cell_type": "markdown",
   "metadata": {},
   "source": [
    "<h3> Remove URLs and usernames"
   ]
  },
  {
   "cell_type": "code",
   "execution_count": 27,
   "metadata": {},
   "outputs": [],
   "source": [
    "drop_words = [list(filter(lambda word: word[0]!='@', text.split())) for text in df.text]\n",
    "drop_words = [list(filter(lambda word: word[0:4]!='http', text)) for text in drop_words]\n",
    "drop_words = [' '.join(a) for a in drop_words]"
   ]
  },
  {
   "cell_type": "code",
   "execution_count": 28,
   "metadata": {},
   "outputs": [
    {
     "data": {
      "text/plain": [
       "317"
      ]
     },
     "execution_count": 28,
     "metadata": {},
     "output_type": "execute_result"
    }
   ],
   "source": [
    "len(drop_words)"
   ]
  },
  {
   "cell_type": "code",
   "execution_count": 29,
   "metadata": {},
   "outputs": [
    {
     "data": {
      "text/plain": [
       "'One of the things learned since 2009 market bottom: Machine-driven trading will only amplify herd mentality: good news for traders and high-frequency platforms, bad news for long-term investors.'"
      ]
     },
     "execution_count": 29,
     "metadata": {},
     "output_type": "execute_result"
    }
   ],
   "source": [
    "drop_words[0]"
   ]
  },
  {
   "cell_type": "code",
   "execution_count": 30,
   "metadata": {},
   "outputs": [
    {
     "data": {
      "text/plain": [
       "'One of the things @BrianSozzi learned since 2009 market bottom: Machine-driven trading will only amplify herd mentality: good news for traders and high-frequency platforms, bad news for long-term investors. @YahooFinance https://t.co/noTgt0XtBG'"
      ]
     },
     "execution_count": 30,
     "metadata": {},
     "output_type": "execute_result"
    }
   ],
   "source": [
    "df.text[0]"
   ]
  },
  {
   "cell_type": "code",
   "execution_count": 31,
   "metadata": {},
   "outputs": [],
   "source": [
    "df.text = drop_words"
   ]
  },
  {
   "cell_type": "markdown",
   "metadata": {},
   "source": [
    "<h3> remove English stop words"
   ]
  },
  {
   "cell_type": "code",
   "execution_count": 32,
   "metadata": {},
   "outputs": [
    {
     "data": {
      "text/plain": [
       "'One things learned since 2009 market bottom: Machine-driven trading amplify herd mentality: good news traders high-frequency platforms, bad news long-term investors.'"
      ]
     },
     "execution_count": 32,
     "metadata": {},
     "output_type": "execute_result"
    }
   ],
   "source": [
    "import nltk\n",
    "from nltk.corpus import stopwords\n",
    "from nltk.tokenize import word_tokenize \n",
    "\n",
    "stopwords = nltk.corpus.stopwords.words('english')\n",
    "newStopWords = ['this']\n",
    "stopwords.extend(newStopWords)\n",
    "example_sent = \"This is a sample sentence, showing off the stop words filtration.\"\n",
    "  \n",
    "stop_words = set(stopwords) \n",
    "  \n",
    "word_tokens = word_tokenize(example_sent.lower()) \n",
    "\n",
    "filtered_sentence = [list(filter(lambda word: word not in stop_words, text.split())) for text in df.text]\n",
    "filtered_sentence = [' '.join(a) for a in filtered_sentence]\n",
    "filtered_sentence[0]"
   ]
  },
  {
   "cell_type": "code",
   "execution_count": 33,
   "metadata": {},
   "outputs": [
    {
     "data": {
      "text/plain": [
       "317"
      ]
     },
     "execution_count": 33,
     "metadata": {},
     "output_type": "execute_result"
    }
   ],
   "source": [
    "len(filtered_sentence)"
   ]
  },
  {
   "cell_type": "code",
   "execution_count": 34,
   "metadata": {},
   "outputs": [],
   "source": [
    "df.text=filtered_sentence"
   ]
  },
  {
   "cell_type": "code",
   "execution_count": 35,
   "metadata": {},
   "outputs": [
    {
     "data": {
      "text/html": [
       "<div>\n",
       "<style scoped>\n",
       "    .dataframe tbody tr th:only-of-type {\n",
       "        vertical-align: middle;\n",
       "    }\n",
       "\n",
       "    .dataframe tbody tr th {\n",
       "        vertical-align: top;\n",
       "    }\n",
       "\n",
       "    .dataframe thead th {\n",
       "        text-align: right;\n",
       "    }\n",
       "</style>\n",
       "<table border=\"1\" class=\"dataframe\">\n",
       "  <thead>\n",
       "    <tr style=\"text-align: right;\">\n",
       "      <th></th>\n",
       "      <th>Date</th>\n",
       "      <th>Open</th>\n",
       "      <th>High</th>\n",
       "      <th>Low</th>\n",
       "      <th>Close</th>\n",
       "      <th>Adj Close</th>\n",
       "      <th>Volume</th>\n",
       "      <th>gain_loss</th>\n",
       "      <th>text</th>\n",
       "      <th>name</th>\n",
       "      <th>hour</th>\n",
       "    </tr>\n",
       "  </thead>\n",
       "  <tbody>\n",
       "    <tr>\n",
       "      <th>0</th>\n",
       "      <td>2019-03-04</td>\n",
       "      <td>175.539993</td>\n",
       "      <td>175.789993</td>\n",
       "      <td>172.470001</td>\n",
       "      <td>174.419998</td>\n",
       "      <td>172.326843</td>\n",
       "      <td>38063500</td>\n",
       "      <td>1</td>\n",
       "      <td>One things learned since 2009 market bottom: M...</td>\n",
       "      <td>Yahoo Finance</td>\n",
       "      <td>11</td>\n",
       "    </tr>\n",
       "    <tr>\n",
       "      <th>1</th>\n",
       "      <td>2019-03-04</td>\n",
       "      <td>175.539993</td>\n",
       "      <td>175.789993</td>\n",
       "      <td>172.470001</td>\n",
       "      <td>174.419998</td>\n",
       "      <td>172.326843</td>\n",
       "      <td>38063500</td>\n",
       "      <td>1</td>\n",
       "      <td>Stock rise amid reports impending U.S.-China t...</td>\n",
       "      <td>Yahoo Finance</td>\n",
       "      <td>11</td>\n",
       "    </tr>\n",
       "    <tr>\n",
       "      <th>2</th>\n",
       "      <td>2019-03-04</td>\n",
       "      <td>175.539993</td>\n",
       "      <td>175.789993</td>\n",
       "      <td>172.470001</td>\n",
       "      <td>174.419998</td>\n",
       "      <td>172.326843</td>\n",
       "      <td>38063500</td>\n",
       "      <td>1</td>\n",
       "      <td>What I learned investing since March 2009 stoc...</td>\n",
       "      <td>Yahoo Finance</td>\n",
       "      <td>11</td>\n",
       "    </tr>\n",
       "    <tr>\n",
       "      <th>3</th>\n",
       "      <td>2019-03-05</td>\n",
       "      <td>174.550003</td>\n",
       "      <td>175.089996</td>\n",
       "      <td>173.690002</td>\n",
       "      <td>174.550003</td>\n",
       "      <td>172.455292</td>\n",
       "      <td>22319900</td>\n",
       "      <td>1</td>\n",
       "      <td>Most investors missed stock market's epic 2019...</td>\n",
       "      <td>Yahoo Finance</td>\n",
       "      <td>4</td>\n",
       "    </tr>\n",
       "    <tr>\n",
       "      <th>4</th>\n",
       "      <td>2019-03-05</td>\n",
       "      <td>174.550003</td>\n",
       "      <td>175.089996</td>\n",
       "      <td>173.690002</td>\n",
       "      <td>174.550003</td>\n",
       "      <td>172.455292</td>\n",
       "      <td>22319900</td>\n",
       "      <td>1</td>\n",
       "      <td>Stocks slip market open via</td>\n",
       "      <td>Yahoo Finance</td>\n",
       "      <td>10</td>\n",
       "    </tr>\n",
       "  </tbody>\n",
       "</table>\n",
       "</div>"
      ],
      "text/plain": [
       "        Date        Open        High         Low       Close   Adj Close  \\\n",
       "0 2019-03-04  175.539993  175.789993  172.470001  174.419998  172.326843   \n",
       "1 2019-03-04  175.539993  175.789993  172.470001  174.419998  172.326843   \n",
       "2 2019-03-04  175.539993  175.789993  172.470001  174.419998  172.326843   \n",
       "3 2019-03-05  174.550003  175.089996  173.690002  174.550003  172.455292   \n",
       "4 2019-03-05  174.550003  175.089996  173.690002  174.550003  172.455292   \n",
       "\n",
       "     Volume  gain_loss                                               text  \\\n",
       "0  38063500          1  One things learned since 2009 market bottom: M...   \n",
       "1  38063500          1  Stock rise amid reports impending U.S.-China t...   \n",
       "2  38063500          1  What I learned investing since March 2009 stoc...   \n",
       "3  22319900          1  Most investors missed stock market's epic 2019...   \n",
       "4  22319900          1                        Stocks slip market open via   \n",
       "\n",
       "            name  hour  \n",
       "0  Yahoo Finance    11  \n",
       "1  Yahoo Finance    11  \n",
       "2  Yahoo Finance    11  \n",
       "3  Yahoo Finance     4  \n",
       "4  Yahoo Finance    10  "
      ]
     },
     "execution_count": 35,
     "metadata": {},
     "output_type": "execute_result"
    }
   ],
   "source": [
    "df.head()"
   ]
  },
  {
   "cell_type": "code",
   "execution_count": 36,
   "metadata": {},
   "outputs": [
    {
     "data": {
      "text/plain": [
       "(317, 11)"
      ]
     },
     "execution_count": 36,
     "metadata": {},
     "output_type": "execute_result"
    }
   ],
   "source": [
    "df.shape"
   ]
  },
  {
   "cell_type": "markdown",
   "metadata": {},
   "source": [
    "<h3> Create TFID Vector"
   ]
  },
  {
   "cell_type": "code",
   "execution_count": 37,
   "metadata": {},
   "outputs": [],
   "source": [
    "from sklearn.feature_extraction.text import CountVectorizer\n",
    "count_vect = CountVectorizer()\n",
    "X_train_counts = count_vect.fit_transform(df.text)"
   ]
  },
  {
   "cell_type": "code",
   "execution_count": 38,
   "metadata": {},
   "outputs": [
    {
     "data": {
      "text/plain": [
       "(317, 830)"
      ]
     },
     "execution_count": 38,
     "metadata": {},
     "output_type": "execute_result"
    }
   ],
   "source": [
    "X_train_counts.shape"
   ]
  },
  {
   "cell_type": "code",
   "execution_count": 39,
   "metadata": {},
   "outputs": [
    {
     "data": {
      "text/plain": [
       "(317, 830)"
      ]
     },
     "execution_count": 39,
     "metadata": {},
     "output_type": "execute_result"
    }
   ],
   "source": [
    "from sklearn.feature_extraction.text import TfidfTransformer\n",
    "tfidf_transformer = TfidfTransformer()\n",
    "X_train_tfidf = tfidf_transformer.fit_transform(X_train_counts)    \n",
    "X_train_tfidf.shape"
   ]
  },
  {
   "cell_type": "code",
   "execution_count": 40,
   "metadata": {},
   "outputs": [
    {
     "data": {
      "text/html": [
       "<div>\n",
       "<style scoped>\n",
       "    .dataframe tbody tr th:only-of-type {\n",
       "        vertical-align: middle;\n",
       "    }\n",
       "\n",
       "    .dataframe tbody tr th {\n",
       "        vertical-align: top;\n",
       "    }\n",
       "\n",
       "    .dataframe thead th {\n",
       "        text-align: right;\n",
       "    }\n",
       "</style>\n",
       "<table border=\"1\" class=\"dataframe\">\n",
       "  <thead>\n",
       "    <tr style=\"text-align: right;\">\n",
       "      <th></th>\n",
       "      <th>tfidf</th>\n",
       "    </tr>\n",
       "  </thead>\n",
       "  <tbody>\n",
       "    <tr>\n",
       "      <th>news</th>\n",
       "      <td>0.366478</td>\n",
       "    </tr>\n",
       "    <tr>\n",
       "      <th>platforms</th>\n",
       "      <td>0.223741</td>\n",
       "    </tr>\n",
       "    <tr>\n",
       "      <th>mentality</th>\n",
       "      <td>0.223741</td>\n",
       "    </tr>\n",
       "    <tr>\n",
       "      <th>long</th>\n",
       "      <td>0.223741</td>\n",
       "    </tr>\n",
       "    <tr>\n",
       "      <th>frequency</th>\n",
       "      <td>0.223741</td>\n",
       "    </tr>\n",
       "    <tr>\n",
       "      <th>herd</th>\n",
       "      <td>0.223741</td>\n",
       "    </tr>\n",
       "    <tr>\n",
       "      <th>machine</th>\n",
       "      <td>0.223741</td>\n",
       "    </tr>\n",
       "    <tr>\n",
       "      <th>amplify</th>\n",
       "      <td>0.223741</td>\n",
       "    </tr>\n",
       "    <tr>\n",
       "      <th>driven</th>\n",
       "      <td>0.223741</td>\n",
       "    </tr>\n",
       "    <tr>\n",
       "      <th>2009</th>\n",
       "      <td>0.208793</td>\n",
       "    </tr>\n",
       "  </tbody>\n",
       "</table>\n",
       "</div>"
      ],
      "text/plain": [
       "              tfidf\n",
       "news       0.366478\n",
       "platforms  0.223741\n",
       "mentality  0.223741\n",
       "long       0.223741\n",
       "frequency  0.223741\n",
       "herd       0.223741\n",
       "machine    0.223741\n",
       "amplify    0.223741\n",
       "driven     0.223741\n",
       "2009       0.208793"
      ]
     },
     "execution_count": 40,
     "metadata": {},
     "output_type": "execute_result"
    }
   ],
   "source": [
    "feature_names = count_vect.get_feature_names()\n",
    " \n",
    "#get tfidf vector for first document\n",
    "first_document_vector=X_train_tfidf[0]\n",
    " \n",
    "#print the scores\n",
    "ft = pd.DataFrame(first_document_vector.T.todense(), index=feature_names, columns=[\"tfidf\"])\n",
    "ft=ft.sort_values(by=[\"tfidf\"],ascending=False)\n",
    "ft.head(10)"
   ]
  },
  {
   "cell_type": "code",
   "execution_count": 41,
   "metadata": {},
   "outputs": [
    {
     "data": {
      "text/plain": [
       "scipy.sparse.csr.csr_matrix"
      ]
     },
     "execution_count": 41,
     "metadata": {},
     "output_type": "execute_result"
    }
   ],
   "source": [
    "type(X_train_tfidf)"
   ]
  },
  {
   "cell_type": "code",
   "execution_count": 71,
   "metadata": {},
   "outputs": [],
   "source": [
    "from sklearn.feature_extraction.text import TfidfVectorizer\n",
    "vectorizer = TfidfVectorizer(ngram_range=(2,2))\n",
    "#X = vectorizer.fit_transform(df.text)\n",
    "#print(vectorizer.get_feature_names())\n",
    "processed_features = vectorizer.fit_transform(df.text).toarray()"
   ]
  },
  {
   "cell_type": "code",
   "execution_count": 72,
   "metadata": {},
   "outputs": [
    {
     "name": "stdout",
     "output_type": "stream",
     "text": [
      "[[0. 0. 0. ... 0. 0. 0.]\n",
      " [0. 0. 0. ... 0. 0. 0.]\n",
      " [0. 0. 0. ... 0. 0. 0.]\n",
      " ...\n",
      " [0. 0. 0. ... 0. 0. 0.]\n",
      " [0. 0. 0. ... 0. 0. 0.]\n",
      " [0. 0. 0. ... 0. 0. 0.]]\n"
     ]
    }
   ],
   "source": [
    "print(X.toarray())"
   ]
  },
  {
   "cell_type": "code",
   "execution_count": 73,
   "metadata": {},
   "outputs": [],
   "source": [
    "from sklearn.model_selection import train_test_split\n",
    "labels = df.gain_loss\n",
    "X_train, X_test, y_train, y_test = train_test_split(processed_features, labels, test_size=0.2, random_state=0)"
   ]
  },
  {
   "cell_type": "code",
   "execution_count": 74,
   "metadata": {},
   "outputs": [
    {
     "data": {
      "text/plain": [
       "(253, 1632)"
      ]
     },
     "execution_count": 74,
     "metadata": {},
     "output_type": "execute_result"
    }
   ],
   "source": [
    "X_train.shape"
   ]
  },
  {
   "cell_type": "code",
   "execution_count": 75,
   "metadata": {},
   "outputs": [
    {
     "data": {
      "text/plain": [
       "(64, 1632)"
      ]
     },
     "execution_count": 75,
     "metadata": {},
     "output_type": "execute_result"
    }
   ],
   "source": [
    "X_test.shape"
   ]
  },
  {
   "cell_type": "code",
   "execution_count": 76,
   "metadata": {},
   "outputs": [
    {
     "data": {
      "text/plain": [
       "0.0"
      ]
     },
     "execution_count": 76,
     "metadata": {},
     "output_type": "execute_result"
    }
   ],
   "source": [
    "X_train.min()"
   ]
  },
  {
   "cell_type": "code",
   "execution_count": 77,
   "metadata": {},
   "outputs": [
    {
     "data": {
      "text/plain": [
       "1.0"
      ]
     },
     "execution_count": 77,
     "metadata": {},
     "output_type": "execute_result"
    }
   ],
   "source": [
    "X_train.max()"
   ]
  },
  {
   "cell_type": "markdown",
   "metadata": {},
   "source": [
    "<H3> Train classifier to predict stock price based on TFID vector"
   ]
  },
  {
   "cell_type": "code",
   "execution_count": 85,
   "metadata": {},
   "outputs": [
    {
     "data": {
      "text/plain": [
       "RandomForestClassifier(random_state=0)"
      ]
     },
     "execution_count": 85,
     "metadata": {},
     "output_type": "execute_result"
    }
   ],
   "source": [
    "from sklearn.ensemble import RandomForestClassifier\n",
    "\n",
    "text_classifier = RandomForestClassifier(n_estimators=100, random_state=0)\n",
    "text_classifier.fit(X_train, y_train)"
   ]
  },
  {
   "cell_type": "code",
   "execution_count": 86,
   "metadata": {},
   "outputs": [],
   "source": [
    "predictions = text_classifier.predict(X_test)"
   ]
  },
  {
   "cell_type": "code",
   "execution_count": 87,
   "metadata": {},
   "outputs": [
    {
     "name": "stdout",
     "output_type": "stream",
     "text": [
      "[[ 3 20]\n",
      " [ 2 39]]\n",
      "              precision    recall  f1-score   support\n",
      "\n",
      "           0       0.60      0.13      0.21        23\n",
      "           1       0.66      0.95      0.78        41\n",
      "\n",
      "    accuracy                           0.66        64\n",
      "   macro avg       0.63      0.54      0.50        64\n",
      "weighted avg       0.64      0.66      0.58        64\n",
      "\n",
      "0.65625\n"
     ]
    }
   ],
   "source": [
    "from sklearn.metrics import classification_report, confusion_matrix, accuracy_score\n",
    "\n",
    "print(confusion_matrix(y_test,predictions))\n",
    "print(classification_report(y_test,predictions))\n",
    "print(accuracy_score(y_test, predictions))"
   ]
  },
  {
   "cell_type": "code",
   "execution_count": 88,
   "metadata": {},
   "outputs": [
    {
     "data": {
      "text/plain": [
       "1    41\n",
       "0    23\n",
       "Name: gain_loss, dtype: int64"
      ]
     },
     "execution_count": 88,
     "metadata": {},
     "output_type": "execute_result"
    }
   ],
   "source": [
    "y_test.value_counts()"
   ]
  },
  {
   "cell_type": "code",
   "execution_count": 89,
   "metadata": {},
   "outputs": [],
   "source": [
    "predictions = text_classifier.predict(X_train)"
   ]
  },
  {
   "cell_type": "code",
   "execution_count": 90,
   "metadata": {},
   "outputs": [
    {
     "data": {
      "text/plain": [
       "1    167\n",
       "0     86\n",
       "Name: gain_loss, dtype: int64"
      ]
     },
     "execution_count": 90,
     "metadata": {},
     "output_type": "execute_result"
    }
   ],
   "source": [
    "y_train.value_counts()"
   ]
  },
  {
   "cell_type": "code",
   "execution_count": 91,
   "metadata": {},
   "outputs": [
    {
     "name": "stdout",
     "output_type": "stream",
     "text": [
      "[[ 78   8]\n",
      " [  2 165]]\n",
      "0.9604743083003953\n"
     ]
    }
   ],
   "source": [
    "print(confusion_matrix(y_train,predictions))\n",
    "print(accuracy_score(y_train, predictions))"
   ]
  },
  {
   "cell_type": "code",
   "execution_count": null,
   "metadata": {},
   "outputs": [],
   "source": []
  },
  {
   "cell_type": "code",
   "execution_count": null,
   "metadata": {},
   "outputs": [],
   "source": []
  }
 ],
 "metadata": {
  "kernelspec": {
   "display_name": "Python 3",
   "language": "python",
   "name": "python3"
  },
  "language_info": {
   "codemirror_mode": {
    "name": "ipython",
    "version": 3
   },
   "file_extension": ".py",
   "mimetype": "text/x-python",
   "name": "python",
   "nbconvert_exporter": "python",
   "pygments_lexer": "ipython3",
   "version": "3.8.5"
  }
 },
 "nbformat": 4,
 "nbformat_minor": 2
}
