{
 "cells": [
  {
   "cell_type": "code",
   "execution_count": 45,
   "id": "6b02108c",
   "metadata": {},
   "outputs": [
    {
     "name": "stdout",
     "output_type": "stream",
     "text": [
      "2022-01-01 00:00:00\n"
     ]
    },
    {
     "data": {
      "text/plain": [
       "Index(['Date', 'Open', 'High', 'Low', 'Close', 'Adj Close', 'Volume'], dtype='object')"
      ]
     },
     "execution_count": 45,
     "metadata": {},
     "output_type": "execute_result"
    }
   ],
   "source": [
    "from math import sqrt\n",
    "from numpy import concatenate\n",
    "from matplotlib import pyplot\n",
    "from pandas import read_csv\n",
    "from pandas import DataFrame\n",
    "from pandas import concat\n",
    "from sklearn.preprocessing import MinMaxScaler\n",
    "from sklearn.preprocessing import LabelEncoder\n",
    "from sklearn.metrics import mean_squared_error\n",
    "\n",
    "import os\n",
    "import pandas as pd\n",
    "\n",
    "import datetime\n",
    "import time\n",
    "from yahoo_historical import Fetcher\n",
    "\n",
    "\n",
    "\n",
    "os.chdir(r'C:\\Users\\hadit\\OneDrive - Prophix Software, Inc\\AutoTrading')\n",
    "\n",
    " \n",
    "# load dataset\n",
    "ticker = 'ETH-CAD'\n",
    "#dstart = '1-1-2021' #start date of data to calculate rolling averages\n",
    "actual_start = '1-1-2022' # actual start date where data is analyzed\n",
    "\n",
    "#dstart = datetime.datetime.strptime(actual_start, '%m-%d-%Y') -datetime.timedelta(days = 50) \n",
    "dstart = datetime.datetime.strptime(actual_start, '%m-%d-%Y')\n",
    "print(dstart)\n",
    "dstart = time.mktime(dstart.timetuple())\n",
    "df = Fetcher(ticker, dstart).get_historical()\n",
    "df.Date = pd.to_datetime(df.Date)\n",
    "dates = df.Date\n",
    "\n",
    "df.columns\n",
    "\n"
   ]
  },
  {
   "cell_type": "code",
   "execution_count": 46,
   "id": "e20e3eee",
   "metadata": {},
   "outputs": [],
   "source": [
    "df['close_50'] = df.Close.ewm(span=50,adjust=False).mean()\n",
    "df['close_12'] = df.Close.ewm(span=12,adjust=False).mean()"
   ]
  },
  {
   "cell_type": "code",
   "execution_count": 47,
   "id": "16d9ba0f",
   "metadata": {},
   "outputs": [
    {
     "data": {
      "text/html": [
       "<div>\n",
       "<style scoped>\n",
       "    .dataframe tbody tr th:only-of-type {\n",
       "        vertical-align: middle;\n",
       "    }\n",
       "\n",
       "    .dataframe tbody tr th {\n",
       "        vertical-align: top;\n",
       "    }\n",
       "\n",
       "    .dataframe thead th {\n",
       "        text-align: right;\n",
       "    }\n",
       "</style>\n",
       "<table border=\"1\" class=\"dataframe\">\n",
       "  <thead>\n",
       "    <tr style=\"text-align: right;\">\n",
       "      <th></th>\n",
       "      <th>Date</th>\n",
       "      <th>Open</th>\n",
       "      <th>High</th>\n",
       "      <th>Low</th>\n",
       "      <th>Close</th>\n",
       "      <th>Adj Close</th>\n",
       "      <th>Volume</th>\n",
       "      <th>close_50</th>\n",
       "      <th>close_12</th>\n",
       "      <th>signal_ema50</th>\n",
       "      <th>signal_ema12</th>\n",
       "    </tr>\n",
       "  </thead>\n",
       "  <tbody>\n",
       "    <tr>\n",
       "      <th>365</th>\n",
       "      <td>2023-01-01</td>\n",
       "      <td>1623.880615</td>\n",
       "      <td>1631.383057</td>\n",
       "      <td>1618.685913</td>\n",
       "      <td>1625.373779</td>\n",
       "      <td>1625.373779</td>\n",
       "      <td>3.247696e+09</td>\n",
       "      <td>1694.545791</td>\n",
       "      <td>1640.796275</td>\n",
       "      <td>0</td>\n",
       "      <td>0</td>\n",
       "    </tr>\n",
       "    <tr>\n",
       "      <th>366</th>\n",
       "      <td>2023-01-02</td>\n",
       "      <td>1625.561157</td>\n",
       "      <td>1656.265747</td>\n",
       "      <td>1616.793701</td>\n",
       "      <td>1647.529907</td>\n",
       "      <td>1647.529907</td>\n",
       "      <td>5.107781e+09</td>\n",
       "      <td>1692.702031</td>\n",
       "      <td>1641.832219</td>\n",
       "      <td>0</td>\n",
       "      <td>1</td>\n",
       "    </tr>\n",
       "    <tr>\n",
       "      <th>367</th>\n",
       "      <td>2023-01-03</td>\n",
       "      <td>1647.648438</td>\n",
       "      <td>1653.166504</td>\n",
       "      <td>1652.023560</td>\n",
       "      <td>1660.974365</td>\n",
       "      <td>1660.974365</td>\n",
       "      <td>4.639231e+09</td>\n",
       "      <td>1691.457809</td>\n",
       "      <td>1644.777164</td>\n",
       "      <td>0</td>\n",
       "      <td>1</td>\n",
       "    </tr>\n",
       "    <tr>\n",
       "      <th>368</th>\n",
       "      <td>2023-01-04</td>\n",
       "      <td>1660.891968</td>\n",
       "      <td>1707.519165</td>\n",
       "      <td>1657.093994</td>\n",
       "      <td>1694.551758</td>\n",
       "      <td>1694.551758</td>\n",
       "      <td>8.636997e+09</td>\n",
       "      <td>1691.579140</td>\n",
       "      <td>1652.434794</td>\n",
       "      <td>1</td>\n",
       "      <td>1</td>\n",
       "    </tr>\n",
       "    <tr>\n",
       "      <th>369</th>\n",
       "      <td>2023-01-05</td>\n",
       "      <td>NaN</td>\n",
       "      <td>NaN</td>\n",
       "      <td>NaN</td>\n",
       "      <td>NaN</td>\n",
       "      <td>NaN</td>\n",
       "      <td>NaN</td>\n",
       "      <td>1691.579140</td>\n",
       "      <td>1652.434794</td>\n",
       "      <td>0</td>\n",
       "      <td>0</td>\n",
       "    </tr>\n",
       "  </tbody>\n",
       "</table>\n",
       "</div>"
      ],
      "text/plain": [
       "          Date         Open         High          Low        Close  \\\n",
       "365 2023-01-01  1623.880615  1631.383057  1618.685913  1625.373779   \n",
       "366 2023-01-02  1625.561157  1656.265747  1616.793701  1647.529907   \n",
       "367 2023-01-03  1647.648438  1653.166504  1652.023560  1660.974365   \n",
       "368 2023-01-04  1660.891968  1707.519165  1657.093994  1694.551758   \n",
       "369 2023-01-05          NaN          NaN          NaN          NaN   \n",
       "\n",
       "       Adj Close        Volume     close_50     close_12  signal_ema50  \\\n",
       "365  1625.373779  3.247696e+09  1694.545791  1640.796275             0   \n",
       "366  1647.529907  5.107781e+09  1692.702031  1641.832219             0   \n",
       "367  1660.974365  4.639231e+09  1691.457809  1644.777164             0   \n",
       "368  1694.551758  8.636997e+09  1691.579140  1652.434794             1   \n",
       "369          NaN           NaN  1691.579140  1652.434794             0   \n",
       "\n",
       "     signal_ema12  \n",
       "365             0  \n",
       "366             1  \n",
       "367             1  \n",
       "368             1  \n",
       "369             0  "
      ]
     },
     "execution_count": 47,
     "metadata": {},
     "output_type": "execute_result"
    }
   ],
   "source": [
    "df['signal_ema50'] = df.Close>df.close_50\n",
    "df['signal_ema50'] = df['signal_ema50'].astype(int)\n",
    "df['signal_ema12'] = df.Close>df.close_12\n",
    "df['signal_ema12'] = df['signal_ema12'].astype(int)\n",
    "df.tail()"
   ]
  },
  {
   "cell_type": "code",
   "execution_count": 48,
   "id": "feb34e85",
   "metadata": {},
   "outputs": [],
   "source": [
    "samp = df[df.Date>=pd.to_datetime('2022-9-1')]"
   ]
  },
  {
   "cell_type": "code",
   "execution_count": 49,
   "id": "c8cd6934",
   "metadata": {},
   "outputs": [
    {
     "data": {
      "text/plain": [
       "[<matplotlib.lines.Line2D at 0x159a1275570>]"
      ]
     },
     "execution_count": 49,
     "metadata": {},
     "output_type": "execute_result"
    },
    {
     "data": {
      "image/png": "[encoded data removed]",
      "text/plain": [
       "<Figure size 1440x360 with 1 Axes>"
      ]
     },
     "metadata": {
      "needs_background": "light"
     },
     "output_type": "display_data"
    }
   ],
   "source": [
    "pyplot.figure(figsize=(20,5))\n",
    "pyplot.plot(samp.Date, samp.Close)\n",
    "pyplot.plot(samp.Date, samp.close_50)\n",
    "pyplot.plot(samp.Date, samp.close_12)"
   ]
  },
  {
   "cell_type": "code",
   "execution_count": 50,
   "id": "55cbbd23",
   "metadata": {},
   "outputs": [],
   "source": [
    "y = df.Close.shift(-1) - df.Close\n",
    "y = y>0\n",
    "y  = y.astype(int)\n",
    "df['y'] = y\n",
    "\n",
    "N = df.shape[1]\n"
   ]
  },
  {
   "cell_type": "code",
   "execution_count": null,
   "id": "0ca3ddf0",
   "metadata": {},
   "outputs": [],
   "source": []
  },
  {
   "cell_type": "code",
   "execution_count": 51,
   "id": "70c0c042",
   "metadata": {},
   "outputs": [
    {
     "data": {
      "text/html": [
       "<div>\n",
       "<style scoped>\n",
       "    .dataframe tbody tr th:only-of-type {\n",
       "        vertical-align: middle;\n",
       "    }\n",
       "\n",
       "    .dataframe tbody tr th {\n",
       "        vertical-align: top;\n",
       "    }\n",
       "\n",
       "    .dataframe thead th {\n",
       "        text-align: right;\n",
       "    }\n",
       "</style>\n",
       "<table border=\"1\" class=\"dataframe\">\n",
       "  <thead>\n",
       "    <tr style=\"text-align: right;\">\n",
       "      <th></th>\n",
       "      <th>Date</th>\n",
       "      <th>Open</th>\n",
       "      <th>High</th>\n",
       "      <th>Low</th>\n",
       "      <th>Close</th>\n",
       "      <th>Adj Close</th>\n",
       "      <th>Volume</th>\n",
       "      <th>close_50</th>\n",
       "      <th>close_12</th>\n",
       "      <th>signal_ema50</th>\n",
       "      <th>signal_ema12</th>\n",
       "      <th>y</th>\n",
       "    </tr>\n",
       "  </thead>\n",
       "  <tbody>\n",
       "    <tr>\n",
       "      <th>360</th>\n",
       "      <td>2022-12-27</td>\n",
       "      <td>1663.733154</td>\n",
       "      <td>1668.880005</td>\n",
       "      <td>1627.873413</td>\n",
       "      <td>1640.312866</td>\n",
       "      <td>1640.312866</td>\n",
       "      <td>5.533836e+09</td>\n",
       "      <td>1709.983759</td>\n",
       "      <td>1661.408370</td>\n",
       "      <td>0</td>\n",
       "      <td>0</td>\n",
       "      <td>0</td>\n",
       "    </tr>\n",
       "    <tr>\n",
       "      <th>361</th>\n",
       "      <td>2022-12-28</td>\n",
       "      <td>1640.238403</td>\n",
       "      <td>1641.254272</td>\n",
       "      <td>1613.023315</td>\n",
       "      <td>1618.496460</td>\n",
       "      <td>1618.496460</td>\n",
       "      <td>6.789155e+09</td>\n",
       "      <td>1706.396021</td>\n",
       "      <td>1654.806538</td>\n",
       "      <td>0</td>\n",
       "      <td>0</td>\n",
       "      <td>1</td>\n",
       "    </tr>\n",
       "    <tr>\n",
       "      <th>362</th>\n",
       "      <td>2022-12-29</td>\n",
       "      <td>1618.529297</td>\n",
       "      <td>1631.660034</td>\n",
       "      <td>1615.487915</td>\n",
       "      <td>1628.673584</td>\n",
       "      <td>1628.673584</td>\n",
       "      <td>5.600937e+09</td>\n",
       "      <td>1703.348083</td>\n",
       "      <td>1650.786084</td>\n",
       "      <td>0</td>\n",
       "      <td>0</td>\n",
       "      <td>0</td>\n",
       "    </tr>\n",
       "    <tr>\n",
       "      <th>363</th>\n",
       "      <td>2022-12-30</td>\n",
       "      <td>1628.638672</td>\n",
       "      <td>1629.492676</td>\n",
       "      <td>1608.004761</td>\n",
       "      <td>1627.291748</td>\n",
       "      <td>1627.291748</td>\n",
       "      <td>5.503315e+09</td>\n",
       "      <td>1700.365481</td>\n",
       "      <td>1647.171570</td>\n",
       "      <td>0</td>\n",
       "      <td>0</td>\n",
       "      <td>0</td>\n",
       "    </tr>\n",
       "    <tr>\n",
       "      <th>364</th>\n",
       "      <td>2022-12-31</td>\n",
       "      <td>1627.464478</td>\n",
       "      <td>1635.245117</td>\n",
       "      <td>1620.474731</td>\n",
       "      <td>1623.958740</td>\n",
       "      <td>1623.958740</td>\n",
       "      <td>4.095972e+09</td>\n",
       "      <td>1697.369139</td>\n",
       "      <td>1643.600366</td>\n",
       "      <td>0</td>\n",
       "      <td>0</td>\n",
       "      <td>1</td>\n",
       "    </tr>\n",
       "    <tr>\n",
       "      <th>365</th>\n",
       "      <td>2023-01-01</td>\n",
       "      <td>1623.880615</td>\n",
       "      <td>1631.383057</td>\n",
       "      <td>1618.685913</td>\n",
       "      <td>1625.373779</td>\n",
       "      <td>1625.373779</td>\n",
       "      <td>3.247696e+09</td>\n",
       "      <td>1694.545791</td>\n",
       "      <td>1640.796275</td>\n",
       "      <td>0</td>\n",
       "      <td>0</td>\n",
       "      <td>1</td>\n",
       "    </tr>\n",
       "    <tr>\n",
       "      <th>366</th>\n",
       "      <td>2023-01-02</td>\n",
       "      <td>1625.561157</td>\n",
       "      <td>1656.265747</td>\n",
       "      <td>1616.793701</td>\n",
       "      <td>1647.529907</td>\n",
       "      <td>1647.529907</td>\n",
       "      <td>5.107781e+09</td>\n",
       "      <td>1692.702031</td>\n",
       "      <td>1641.832219</td>\n",
       "      <td>0</td>\n",
       "      <td>1</td>\n",
       "      <td>1</td>\n",
       "    </tr>\n",
       "    <tr>\n",
       "      <th>367</th>\n",
       "      <td>2023-01-03</td>\n",
       "      <td>1647.648438</td>\n",
       "      <td>1653.166504</td>\n",
       "      <td>1652.023560</td>\n",
       "      <td>1660.974365</td>\n",
       "      <td>1660.974365</td>\n",
       "      <td>4.639231e+09</td>\n",
       "      <td>1691.457809</td>\n",
       "      <td>1644.777164</td>\n",
       "      <td>0</td>\n",
       "      <td>1</td>\n",
       "      <td>1</td>\n",
       "    </tr>\n",
       "    <tr>\n",
       "      <th>368</th>\n",
       "      <td>2023-01-04</td>\n",
       "      <td>1660.891968</td>\n",
       "      <td>1707.519165</td>\n",
       "      <td>1657.093994</td>\n",
       "      <td>1694.551758</td>\n",
       "      <td>1694.551758</td>\n",
       "      <td>8.636997e+09</td>\n",
       "      <td>1691.579140</td>\n",
       "      <td>1652.434794</td>\n",
       "      <td>1</td>\n",
       "      <td>1</td>\n",
       "      <td>0</td>\n",
       "    </tr>\n",
       "    <tr>\n",
       "      <th>369</th>\n",
       "      <td>2023-01-05</td>\n",
       "      <td>NaN</td>\n",
       "      <td>NaN</td>\n",
       "      <td>NaN</td>\n",
       "      <td>NaN</td>\n",
       "      <td>NaN</td>\n",
       "      <td>NaN</td>\n",
       "      <td>1691.579140</td>\n",
       "      <td>1652.434794</td>\n",
       "      <td>0</td>\n",
       "      <td>0</td>\n",
       "      <td>0</td>\n",
       "    </tr>\n",
       "  </tbody>\n",
       "</table>\n",
       "</div>"
      ],
      "text/plain": [
       "          Date         Open         High          Low        Close  \\\n",
       "360 2022-12-27  1663.733154  1668.880005  1627.873413  1640.312866   \n",
       "361 2022-12-28  1640.238403  1641.254272  1613.023315  1618.496460   \n",
       "362 2022-12-29  1618.529297  1631.660034  1615.487915  1628.673584   \n",
       "363 2022-12-30  1628.638672  1629.492676  1608.004761  1627.291748   \n",
       "364 2022-12-31  1627.464478  1635.245117  1620.474731  1623.958740   \n",
       "365 2023-01-01  1623.880615  1631.383057  1618.685913  1625.373779   \n",
       "366 2023-01-02  1625.561157  1656.265747  1616.793701  1647.529907   \n",
       "367 2023-01-03  1647.648438  1653.166504  1652.023560  1660.974365   \n",
       "368 2023-01-04  1660.891968  1707.519165  1657.093994  1694.551758   \n",
       "369 2023-01-05          NaN          NaN          NaN          NaN   \n",
       "\n",
       "       Adj Close        Volume     close_50     close_12  signal_ema50  \\\n",
       "360  1640.312866  5.533836e+09  1709.983759  1661.408370             0   \n",
       "361  1618.496460  6.789155e+09  1706.396021  1654.806538             0   \n",
       "362  1628.673584  5.600937e+09  1703.348083  1650.786084             0   \n",
       "363  1627.291748  5.503315e+09  1700.365481  1647.171570             0   \n",
       "364  1623.958740  4.095972e+09  1697.369139  1643.600366             0   \n",
       "365  1625.373779  3.247696e+09  1694.545791  1640.796275             0   \n",
       "366  1647.529907  5.107781e+09  1692.702031  1641.832219             0   \n",
       "367  1660.974365  4.639231e+09  1691.457809  1644.777164             0   \n",
       "368  1694.551758  8.636997e+09  1691.579140  1652.434794             1   \n",
       "369          NaN           NaN  1691.579140  1652.434794             0   \n",
       "\n",
       "     signal_ema12  y  \n",
       "360             0  0  \n",
       "361             0  1  \n",
       "362             0  0  \n",
       "363             0  0  \n",
       "364             0  1  \n",
       "365             0  1  \n",
       "366             1  1  \n",
       "367             1  1  \n",
       "368             1  0  \n",
       "369             0  0  "
      ]
     },
     "execution_count": 51,
     "metadata": {},
     "output_type": "execute_result"
    }
   ],
   "source": [
    "df.tail(10)"
   ]
  },
  {
   "cell_type": "code",
   "execution_count": 52,
   "id": "bdf9fed8",
   "metadata": {},
   "outputs": [
    {
     "data": {
      "text/plain": [
       "Date            0\n",
       "Open            1\n",
       "High            1\n",
       "Low             1\n",
       "Close           1\n",
       "Adj Close       1\n",
       "Volume          1\n",
       "close_50        0\n",
       "close_12        0\n",
       "signal_ema50    0\n",
       "signal_ema12    0\n",
       "y               0\n",
       "dtype: int64"
      ]
     },
     "execution_count": 52,
     "metadata": {},
     "output_type": "execute_result"
    }
   ],
   "source": [
    "df.apply(lambda x: x.isnull().sum())"
   ]
  },
  {
   "cell_type": "code",
   "execution_count": 53,
   "id": "b0f76f2c",
   "metadata": {},
   "outputs": [
    {
     "data": {
      "text/html": [
       "<div>\n",
       "<style scoped>\n",
       "    .dataframe tbody tr th:only-of-type {\n",
       "        vertical-align: middle;\n",
       "    }\n",
       "\n",
       "    .dataframe tbody tr th {\n",
       "        vertical-align: top;\n",
       "    }\n",
       "\n",
       "    .dataframe thead th {\n",
       "        text-align: right;\n",
       "    }\n",
       "</style>\n",
       "<table border=\"1\" class=\"dataframe\">\n",
       "  <thead>\n",
       "    <tr style=\"text-align: right;\">\n",
       "      <th></th>\n",
       "      <th>Date</th>\n",
       "      <th>Open</th>\n",
       "      <th>High</th>\n",
       "      <th>Low</th>\n",
       "      <th>Close</th>\n",
       "      <th>Adj Close</th>\n",
       "      <th>Volume</th>\n",
       "      <th>close_50</th>\n",
       "      <th>close_12</th>\n",
       "      <th>signal_ema50</th>\n",
       "      <th>signal_ema12</th>\n",
       "      <th>y</th>\n",
       "    </tr>\n",
       "  </thead>\n",
       "  <tbody>\n",
       "    <tr>\n",
       "      <th>369</th>\n",
       "      <td>2023-01-05</td>\n",
       "      <td>NaN</td>\n",
       "      <td>NaN</td>\n",
       "      <td>NaN</td>\n",
       "      <td>NaN</td>\n",
       "      <td>NaN</td>\n",
       "      <td>NaN</td>\n",
       "      <td>1691.57914</td>\n",
       "      <td>1652.434794</td>\n",
       "      <td>0</td>\n",
       "      <td>0</td>\n",
       "      <td>0</td>\n",
       "    </tr>\n",
       "  </tbody>\n",
       "</table>\n",
       "</div>"
      ],
      "text/plain": [
       "          Date  Open  High  Low  Close  Adj Close  Volume    close_50  \\\n",
       "369 2023-01-05   NaN   NaN  NaN    NaN        NaN     NaN  1691.57914   \n",
       "\n",
       "        close_12  signal_ema50  signal_ema12  y  \n",
       "369  1652.434794             0             0  0  "
      ]
     },
     "execution_count": 53,
     "metadata": {},
     "output_type": "execute_result"
    }
   ],
   "source": [
    "df[df.Open.isnull()]"
   ]
  },
  {
   "cell_type": "code",
   "execution_count": 55,
   "id": "9bc934bb",
   "metadata": {},
   "outputs": [
    {
     "data": {
      "text/plain": [
       "(370, 12)"
      ]
     },
     "execution_count": 55,
     "metadata": {},
     "output_type": "execute_result"
    }
   ],
   "source": [
    "df.shape"
   ]
  },
  {
   "cell_type": "code",
   "execution_count": 56,
   "id": "3e7ae833",
   "metadata": {},
   "outputs": [
    {
     "data": {
      "text/plain": [
       "(369, 12)"
      ]
     },
     "execution_count": 56,
     "metadata": {},
     "output_type": "execute_result"
    }
   ],
   "source": [
    "df.dropna(inplace=True)\n",
    "df.shape"
   ]
  },
  {
   "cell_type": "code",
   "execution_count": 57,
   "id": "62e2f328",
   "metadata": {},
   "outputs": [],
   "source": [
    "df.drop(['Date','Adj Close'], axis=1, inplace=True)\n"
   ]
  },
  {
   "cell_type": "code",
   "execution_count": 58,
   "id": "9c3dc8da",
   "metadata": {},
   "outputs": [
    {
     "data": {
      "text/html": [
       "<div>\n",
       "<style scoped>\n",
       "    .dataframe tbody tr th:only-of-type {\n",
       "        vertical-align: middle;\n",
       "    }\n",
       "\n",
       "    .dataframe tbody tr th {\n",
       "        vertical-align: top;\n",
       "    }\n",
       "\n",
       "    .dataframe thead th {\n",
       "        text-align: right;\n",
       "    }\n",
       "</style>\n",
       "<table border=\"1\" class=\"dataframe\">\n",
       "  <thead>\n",
       "    <tr style=\"text-align: right;\">\n",
       "      <th></th>\n",
       "      <th>Open</th>\n",
       "      <th>High</th>\n",
       "      <th>Low</th>\n",
       "      <th>Close</th>\n",
       "      <th>Volume</th>\n",
       "      <th>close_50</th>\n",
       "      <th>close_12</th>\n",
       "      <th>signal_ema50</th>\n",
       "      <th>signal_ema12</th>\n",
       "      <th>y</th>\n",
       "    </tr>\n",
       "  </thead>\n",
       "  <tbody>\n",
       "    <tr>\n",
       "      <th>0</th>\n",
       "      <td>4655.555664</td>\n",
       "      <td>4765.364746</td>\n",
       "      <td>4654.594238</td>\n",
       "      <td>4765.085449</td>\n",
       "      <td>1.235759e+10</td>\n",
       "      <td>4765.085449</td>\n",
       "      <td>4765.085449</td>\n",
       "      <td>0</td>\n",
       "      <td>0</td>\n",
       "      <td>1</td>\n",
       "    </tr>\n",
       "    <tr>\n",
       "      <th>1</th>\n",
       "      <td>4764.581543</td>\n",
       "      <td>4842.118652</td>\n",
       "      <td>4711.566406</td>\n",
       "      <td>4848.099121</td>\n",
       "      <td>1.250961e+10</td>\n",
       "      <td>4768.340887</td>\n",
       "      <td>4777.856783</td>\n",
       "      <td>1</td>\n",
       "      <td>1</td>\n",
       "      <td>0</td>\n",
       "    </tr>\n",
       "    <tr>\n",
       "      <th>2</th>\n",
       "      <td>4848.062012</td>\n",
       "      <td>4888.744141</td>\n",
       "      <td>4717.070801</td>\n",
       "      <td>4796.455566</td>\n",
       "      <td>1.540523e+10</td>\n",
       "      <td>4769.443424</td>\n",
       "      <td>4780.718134</td>\n",
       "      <td>1</td>\n",
       "      <td>1</td>\n",
       "      <td>1</td>\n",
       "    </tr>\n",
       "    <tr>\n",
       "      <th>3</th>\n",
       "      <td>4796.431641</td>\n",
       "      <td>4927.568359</td>\n",
       "      <td>4744.676270</td>\n",
       "      <td>4820.447754</td>\n",
       "      <td>1.782666e+10</td>\n",
       "      <td>4771.443593</td>\n",
       "      <td>4786.830384</td>\n",
       "      <td>1</td>\n",
       "      <td>1</td>\n",
       "      <td>0</td>\n",
       "    </tr>\n",
       "    <tr>\n",
       "      <th>4</th>\n",
       "      <td>4820.717773</td>\n",
       "      <td>4883.027344</td>\n",
       "      <td>4409.953125</td>\n",
       "      <td>4530.520996</td>\n",
       "      <td>2.304742e+10</td>\n",
       "      <td>4761.995648</td>\n",
       "      <td>4747.398170</td>\n",
       "      <td>0</td>\n",
       "      <td>0</td>\n",
       "      <td>0</td>\n",
       "    </tr>\n",
       "  </tbody>\n",
       "</table>\n",
       "</div>"
      ],
      "text/plain": [
       "          Open         High          Low        Close        Volume  \\\n",
       "0  4655.555664  4765.364746  4654.594238  4765.085449  1.235759e+10   \n",
       "1  4764.581543  4842.118652  4711.566406  4848.099121  1.250961e+10   \n",
       "2  4848.062012  4888.744141  4717.070801  4796.455566  1.540523e+10   \n",
       "3  4796.431641  4927.568359  4744.676270  4820.447754  1.782666e+10   \n",
       "4  4820.717773  4883.027344  4409.953125  4530.520996  2.304742e+10   \n",
       "\n",
       "      close_50     close_12  signal_ema50  signal_ema12  y  \n",
       "0  4765.085449  4765.085449             0             0  1  \n",
       "1  4768.340887  4777.856783             1             1  0  \n",
       "2  4769.443424  4780.718134             1             1  1  \n",
       "3  4771.443593  4786.830384             1             1  0  \n",
       "4  4761.995648  4747.398170             0             0  0  "
      ]
     },
     "execution_count": 58,
     "metadata": {},
     "output_type": "execute_result"
    }
   ],
   "source": [
    "df.head()"
   ]
  },
  {
   "cell_type": "code",
   "execution_count": 59,
   "id": "35832558",
   "metadata": {},
   "outputs": [
    {
     "name": "stdout",
     "output_type": "stream",
     "text": [
      "(295, 9) (295,) (74, 9) (74,)\n"
     ]
    }
   ],
   "source": [
    "# split into train and test sets\n",
    "values = df.values\n",
    "#n_train_hours = 365 * 24\n",
    "train = values[:round(0.8*values.shape[0]), :]\n",
    "test = values[round(0.8*values.shape[0]):, :]\n",
    "# split into input and outputs\n",
    "train_X, train_y = train[:, :-1], train[:, -1]\n",
    "test_X, test_y = test[:, :-1], test[:, -1]\n",
    "# reshape input to be 3D [samples, timesteps, features]\n",
    "\n",
    "\n",
    "print(train_X.shape, train_y.shape, test_X.shape, test_y.shape)"
   ]
  },
  {
   "cell_type": "code",
   "execution_count": 60,
   "id": "2d8a25fc",
   "metadata": {},
   "outputs": [
    {
     "data": {
      "text/plain": [
       "0.5"
      ]
     },
     "execution_count": 60,
     "metadata": {},
     "output_type": "execute_result"
    }
   ],
   "source": [
    "from sklearn.linear_model import LogisticRegression\n",
    "from sklearn.metrics import accuracy_score\n",
    "\n",
    "model = LogisticRegression()\n",
    "model.fit(train_X, train_y)\n",
    "y_pred = model.predict(test_X)\n",
    "acc_base_logreg = accuracy_score(test_y, y_pred)\n",
    "acc_base_logreg"
   ]
  },
  {
   "cell_type": "code",
   "execution_count": 61,
   "id": "3ce5821b",
   "metadata": {},
   "outputs": [
    {
     "data": {
      "text/plain": [
       "{'n_estimators': [200, 400, 600, 800, 1000, 1200, 1400, 1600, 1800, 2000],\n",
       " 'max_features': ['auto', 'sqrt'],\n",
       " 'max_depth': [5, 6, 7, 8, 9, 10, None],\n",
       " 'bootstrap': [True, False]}"
      ]
     },
     "execution_count": 61,
     "metadata": {},
     "output_type": "execute_result"
    }
   ],
   "source": [
    "from sklearn.ensemble import RandomForestClassifier\n",
    "from sklearn.model_selection import RandomizedSearchCV\n",
    "#from skopt import BayesSearchCV\n",
    "\n",
    "\n",
    "# Number of trees in random forest\n",
    "import numpy as np\n",
    "n_estimators = [int(x) for x in np.linspace(start = 200, stop = 2000, num = 10)]\n",
    "# Number of features to consider at every split\n",
    "max_features = ['auto', 'sqrt']\n",
    "# Maximum number of levels in tree\n",
    "max_depth = [int(x) for x in np.linspace(5, 10, num = 6)]\n",
    "max_depth.append(None)\n",
    "# Minimum number of samples required to split a node\n",
    "min_samples_split = [2, 5, 10]\n",
    "# Minimum number of samples required at each leaf node\n",
    "min_samples_leaf = [1, 2, 4]\n",
    "# Method of selecting samples for training each tree\n",
    "bootstrap = [True, False]# Create the random grid\n",
    "\n",
    "random_grid = {'n_estimators': n_estimators,\n",
    "               'max_features': max_features,\n",
    "               'max_depth': max_depth,\n",
    "               #'min_samples_split': min_samples_split,\n",
    "               #'min_samples_leaf': min_samples_leaf,\n",
    "               'bootstrap': bootstrap}\n",
    "random_grid\n",
    "\n"
   ]
  },
  {
   "cell_type": "code",
   "execution_count": 62,
   "id": "4ce1a07e",
   "metadata": {},
   "outputs": [
    {
     "data": {
      "text/plain": [
       "'\\nrf = RandomForestClassifier()\\nrf_random = RandomizedSearchCV(estimator = rf, param_distributions = random_grid, n_iter = 20, cv = 3, verbose=2, random_state=42, n_jobs = -1)# Fit the random search model\\nrf_random.fit(train_X, train_y)\\nrf_random.best_params_\\n\\ny_pred = rf_random.predict(test_X)\\n\\nacc_tuned = accuracy_score(y_pred, test_y)\\n\\nrf = RandomForestClassifier(n_estimators = 100, random_state = 0)\\nrf.fit(train_X, train_y)\\ny_pred = rf.predict(test_X)\\nacc_base = accuracy_score(test_y, y_pred)\\n'"
      ]
     },
     "execution_count": 62,
     "metadata": {},
     "output_type": "execute_result"
    }
   ],
   "source": [
    "'''\n",
    "rf = RandomForestClassifier()\n",
    "rf_random = RandomizedSearchCV(estimator = rf, param_distributions = random_grid, n_iter = 20, cv = 3, verbose=2, random_state=42, n_jobs = -1)# Fit the random search model\n",
    "rf_random.fit(train_X, train_y)\n",
    "rf_random.best_params_\n",
    "\n",
    "y_pred = rf_random.predict(test_X)\n",
    "\n",
    "acc_tuned = accuracy_score(y_pred, test_y)\n",
    "\n",
    "rf = RandomForestClassifier(n_estimators = 100, random_state = 0)\n",
    "rf.fit(train_X, train_y)\n",
    "y_pred = rf.predict(test_X)\n",
    "acc_base = accuracy_score(test_y, y_pred)\n",
    "'''"
   ]
  },
  {
   "cell_type": "code",
   "execution_count": 63,
   "id": "53c6f37c",
   "metadata": {},
   "outputs": [],
   "source": [
    "#train_y"
   ]
  },
  {
   "cell_type": "code",
   "execution_count": 64,
   "id": "e2bbf916",
   "metadata": {},
   "outputs": [
    {
     "name": "stdout",
     "output_type": "stream",
     "text": [
      "[0.4040404  0.43877551 0.51020408]\n"
     ]
    },
    {
     "data": {
      "text/plain": [
       "0.4510066652923796"
      ]
     },
     "execution_count": 64,
     "metadata": {},
     "output_type": "execute_result"
    }
   ],
   "source": [
    "from xgboost import XGBClassifier\n",
    "model = XGBClassifier(subsample = 0.9)\n",
    "#model = XGBClassifier()\n",
    "#model.fit(train_X, train_y)\n",
    "from sklearn.model_selection import cross_val_score\n",
    "scores = cross_val_score(model, train_X, train_y, scoring='accuracy',\n",
    "                         cv=3, n_jobs=-1)\n",
    "print(scores)\n",
    "scores.mean()\n",
    "#y_pred = model.predict(test_X)\n",
    "#acc_xgb = accuracy_score(test_y, y_pred)"
   ]
  },
  {
   "cell_type": "code",
   "execution_count": 81,
   "id": "485313c7",
   "metadata": {},
   "outputs": [
    {
     "data": {
      "text/plain": [
       "0.5489933347076205"
      ]
     },
     "execution_count": 81,
     "metadata": {},
     "output_type": "execute_result"
    }
   ],
   "source": [
    "import numpy as np\n",
    "np.mean([(1-score) for score in scores])"
   ]
  },
  {
   "cell_type": "code",
   "execution_count": null,
   "id": "d59aad93",
   "metadata": {},
   "outputs": [],
   "source": []
  },
  {
   "cell_type": "code",
   "execution_count": 65,
   "id": "27ef6477",
   "metadata": {},
   "outputs": [],
   "source": [
    "import xgboost as xgb\n"
   ]
  },
  {
   "cell_type": "code",
   "execution_count": 66,
   "id": "fe6462fc",
   "metadata": {},
   "outputs": [
    {
     "data": {
      "text/plain": [
       "\"\\nfrom sklearn.datasets import make_classification\\nnum_boost_round = 100\\nnum_classes = 3\\nX, y = make_classification(n_samples=1000, n_informative=5,\\n                           n_classes=num_classes)\\ndtrain = xgb.DMatrix(data=X, label=y)\\ndtest = xgb.DMatrix(data=X)\\n\\n# total number of built trees is num_parallel_tree * num_classes * num_boost_round\\n\\n# We build a boosted random forest for classification here.\\nbooster = xgb.train({\\n    'num_parallel_tree': 4, 'subsample': 0.5, 'num_class': 3},\\n                    num_boost_round=num_boost_round, dtrain=dtrain)\\n\\n# This is the sliced model, containing [3, 7) forests\\n# step is also supported with some limitations like negative step is invalid.\\nsliced: xgb.Booster = booster[3:7]\\n\\n# Access individual tree layer\\ntrees = [_ for _ in booster]\\nassert len(trees) == num_boost_round\\n\""
      ]
     },
     "execution_count": 66,
     "metadata": {},
     "output_type": "execute_result"
    }
   ],
   "source": [
    "'''\n",
    "from sklearn.datasets import make_classification\n",
    "num_boost_round = 100\n",
    "num_classes = 3\n",
    "X, y = make_classification(n_samples=1000, n_informative=5,\n",
    "                           n_classes=num_classes)\n",
    "dtrain = xgb.DMatrix(data=X, label=y)\n",
    "dtest = xgb.DMatrix(data=X)\n",
    "\n",
    "# total number of built trees is num_parallel_tree * num_classes * num_boost_round\n",
    "\n",
    "# We build a boosted random forest for classification here.\n",
    "booster = xgb.train({\n",
    "    'num_parallel_tree': 4, 'subsample': 0.5, 'num_class': 3},\n",
    "                    num_boost_round=num_boost_round, dtrain=dtrain)\n",
    "\n",
    "# This is the sliced model, containing [3, 7) forests\n",
    "# step is also supported with some limitations like negative step is invalid.\n",
    "sliced: xgb.Booster = booster[3:7]\n",
    "\n",
    "# Access individual tree layer\n",
    "trees = [_ for _ in booster]\n",
    "assert len(trees) == num_boost_round\n",
    "'''"
   ]
  },
  {
   "cell_type": "code",
   "execution_count": 67,
   "id": "0378ed69",
   "metadata": {},
   "outputs": [],
   "source": [
    "#booster.predict(dtest)"
   ]
  },
  {
   "cell_type": "code",
   "execution_count": 68,
   "id": "1486abe4",
   "metadata": {},
   "outputs": [
    {
     "data": {
      "text/plain": [
       "0.527027027027027"
      ]
     },
     "execution_count": 68,
     "metadata": {},
     "output_type": "execute_result"
    }
   ],
   "source": [
    "num_boost_round = 100\n",
    "dtrain = xgb.DMatrix(data=train_X, label=train_y)\n",
    "dtest = xgb.DMatrix(data = test_X)\n",
    "booster = xgb.train({\n",
    "    'num_parallel_tree': 10, 'subsample':0.9, 'num_class': 2},\n",
    "                    num_boost_round=num_boost_round, dtrain=dtrain)\n",
    "y_pred = booster.predict(dtest)\n",
    "acc_xgb = accuracy_score(test_y, y_pred)\n",
    "acc_xgb\n",
    "#y_pred"
   ]
  },
  {
   "cell_type": "code",
   "execution_count": 69,
   "id": "70ba1469",
   "metadata": {},
   "outputs": [
    {
     "data": {
      "text/plain": [
       "'\\nparam_space = dict(n_estimators=n_estimators,\\n                   max_features = max_features,\\n                   max_depth = max_depth,\\n                   bootstrap = bootstrap\\n                   )\\n'"
      ]
     },
     "execution_count": 69,
     "metadata": {},
     "output_type": "execute_result"
    }
   ],
   "source": [
    "'''\n",
    "param_space = dict(n_estimators=n_estimators,\n",
    "                   max_features = max_features,\n",
    "                   max_depth = max_depth,\n",
    "                   bootstrap = bootstrap\n",
    "                   )\n",
    "'''"
   ]
  },
  {
   "cell_type": "markdown",
   "id": "0092df18",
   "metadata": {},
   "source": [
    "## Do hyperpameter tuning using hyperopt (bayesian opt)"
   ]
  },
  {
   "cell_type": "code",
   "execution_count": 70,
   "id": "abf8e041",
   "metadata": {},
   "outputs": [],
   "source": [
    "from hyperopt import STATUS_OK, Trials, fmin, hp, tpe"
   ]
  },
  {
   "cell_type": "code",
   "execution_count": 85,
   "id": "dc0090a7",
   "metadata": {},
   "outputs": [],
   "source": [
    "space={'max_depth': hp.quniform(\"max_depth\", 3, 18, 1),\n",
    "        'gamma': hp.uniform ('gamma', 1,9),\n",
    "        'reg_alpha' : hp.quniform('reg_alpha', 40,180,1),\n",
    "        'reg_lambda' : hp.uniform('reg_lambda', 0,1),\n",
    "        'colsample_bytree' : hp.uniform('colsample_bytree', 0.5,1),\n",
    "        'min_child_weight' : hp.quniform('min_child_weight', 0, 10, 1),\n",
    "        #'n_estimators': 180,\n",
    "        'seed': 0\n",
    "    }"
   ]
  },
  {
   "cell_type": "code",
   "execution_count": 98,
   "id": "5cac5b36",
   "metadata": {},
   "outputs": [],
   "source": [
    "def objective(space):\n",
    "    model=xgb.XGBClassifier(\n",
    "                    max_depth = int(space['max_depth']), gamma = space['gamma'],\n",
    "                    reg_alpha = int(space['reg_alpha']),min_child_weight=int(space['min_child_weight']),\n",
    "                    colsample_bytree=int(space['colsample_bytree']))\n",
    "    \n",
    "    scores = cross_val_score(model, train_X, train_y, scoring='accuracy',\n",
    "                         cv=3, n_jobs=-1)   \n",
    "\n",
    "\n",
    "    accuracy = scores.mean()\n",
    "    import numpy as np\n",
    "    loss = np.mean([(1-score) for score in scores])\n",
    "    print (\"SCORE:\", accuracy)\n",
    "    return {'loss': loss, 'status': STATUS_OK }"
   ]
  },
  {
   "cell_type": "code",
   "execution_count": 99,
   "id": "f46081ac",
   "metadata": {},
   "outputs": [
    {
     "data": {
      "text/plain": [
       "'\\ndef objective(space):\\n    clf=xgb.XGBClassifier(\\n                    max_depth = int(space[\\'max_depth\\']), gamma = space[\\'gamma\\'],\\n                    reg_alpha = int(space[\\'reg_alpha\\']),min_child_weight=int(space[\\'min_child_weight\\']),\\n                    colsample_bytree=int(space[\\'colsample_bytree\\']))\\n    \\n    evaluation = [( train_X, train_y), (test_X, test_y)]\\n    \\n    clf.fit(train_X, train_y,\\n            eval_set=evaluation, eval_metric=\"auc\",\\n            early_stopping_rounds=10,verbose=False)\\n    \\n    pred = clf.predict(test_X)\\n    accuracy = accuracy_score(test_y, pred>0.5)\\n    #accuracy = scores.mean()\\n    print (\"SCORE:\", accuracy)\\n    return {\\'loss\\': -accuracy, \\'status\\': STATUS_OK }\\n'"
      ]
     },
     "execution_count": 99,
     "metadata": {},
     "output_type": "execute_result"
    }
   ],
   "source": [
    "'''\n",
    "def objective(space):\n",
    "    clf=xgb.XGBClassifier(\n",
    "                    max_depth = int(space['max_depth']), gamma = space['gamma'],\n",
    "                    reg_alpha = int(space['reg_alpha']),min_child_weight=int(space['min_child_weight']),\n",
    "                    colsample_bytree=int(space['colsample_bytree']))\n",
    "    \n",
    "    evaluation = [( train_X, train_y), (test_X, test_y)]\n",
    "    \n",
    "    clf.fit(train_X, train_y,\n",
    "            eval_set=evaluation, eval_metric=\"auc\",\n",
    "            early_stopping_rounds=10,verbose=False)\n",
    "    \n",
    "    pred = clf.predict(test_X)\n",
    "    accuracy = accuracy_score(test_y, pred>0.5)\n",
    "    #accuracy = scores.mean()\n",
    "    print (\"SCORE:\", accuracy)\n",
    "    return {'loss': -accuracy, 'status': STATUS_OK }\n",
    "'''"
   ]
  },
  {
   "cell_type": "code",
   "execution_count": 100,
   "id": "179a9807",
   "metadata": {},
   "outputs": [
    {
     "name": "stdout",
     "output_type": "stream",
     "text": [
      "SCORE:                                                                                                                 \n",
      "0.515254586683158                                                                                                      \n",
      "SCORE:                                                                                                                 \n",
      "0.515254586683158                                                                                                      \n",
      "SCORE:                                                                                                                 \n",
      "0.515254586683158                                                                                                      \n",
      "SCORE:                                                                                                                 \n",
      "0.515254586683158                                                                                                      \n",
      "SCORE:                                                                                                                 \n",
      "0.515254586683158                                                                                                      \n",
      "SCORE:                                                                                                                 \n",
      "0.515254586683158                                                                                                      \n",
      "SCORE:                                                                                                                 \n",
      "0.515254586683158                                                                                                      \n",
      "SCORE:                                                                                                                 \n",
      "0.515254586683158                                                                                                      \n",
      "SCORE:                                                                                                                 \n",
      "0.515254586683158                                                                                                      \n",
      "SCORE:                                                                                                                 \n",
      "0.515254586683158                                                                                                      \n",
      "SCORE:                                                                                                                 \n",
      "0.515254586683158                                                                                                      \n",
      "SCORE:                                                                                                                 \n",
      "0.515254586683158                                                                                                      \n",
      "SCORE:                                                                                                                 \n",
      "0.515254586683158                                                                                                      \n",
      "SCORE:                                                                                                                 \n",
      "0.515254586683158                                                                                                      \n",
      "SCORE:                                                                                                                 \n",
      "0.515254586683158                                                                                                      \n",
      "SCORE:                                                                                                                 \n",
      "0.515254586683158                                                                                                      \n",
      "SCORE:                                                                                                                 \n",
      "0.515254586683158                                                                                                      \n",
      "SCORE:                                                                                                                 \n",
      "0.515254586683158                                                                                                      \n",
      "SCORE:                                                                                                                 \n",
      "0.515254586683158                                                                                                      \n",
      "SCORE:                                                                                                                 \n",
      "0.515254586683158                                                                                                      \n",
      "SCORE:                                                                                                                 \n",
      "0.515254586683158                                                                                                      \n",
      "SCORE:                                                                                                                 \n",
      "0.515254586683158                                                                                                      \n",
      "SCORE:                                                                                                                 \n",
      "0.515254586683158                                                                                                      \n",
      "SCORE:                                                                                                                 \n",
      "0.515254586683158                                                                                                      \n",
      "SCORE:                                                                                                                 \n",
      "0.515254586683158                                                                                                      \n",
      "SCORE:                                                                                                                 \n",
      "0.515254586683158                                                                                                      \n",
      "SCORE:                                                                                                                 \n",
      "0.515254586683158                                                                                                      \n",
      "SCORE:                                                                                                                 \n",
      "0.515254586683158                                                                                                      \n",
      "SCORE:                                                                                                                 \n",
      "0.515254586683158                                                                                                      \n",
      "SCORE:                                                                                                                 \n",
      "0.515254586683158                                                                                                      \n",
      "SCORE:                                                                                                                 \n",
      "0.515254586683158                                                                                                      \n",
      "SCORE:                                                                                                                 \n",
      "0.515254586683158                                                                                                      \n",
      "SCORE:                                                                                                                 \n",
      "0.515254586683158                                                                                                      \n",
      "SCORE:                                                                                                                 \n",
      "0.515254586683158                                                                                                      \n"
     ]
    },
    {
     "name": "stdout",
     "output_type": "stream",
     "text": [
      "SCORE:                                                                                                                 \n",
      "0.515254586683158                                                                                                      \n",
      "SCORE:                                                                                                                 \n",
      "0.515254586683158                                                                                                      \n",
      "SCORE:                                                                                                                 \n",
      "0.515254586683158                                                                                                      \n",
      "SCORE:                                                                                                                 \n",
      "0.515254586683158                                                                                                      \n",
      "SCORE:                                                                                                                 \n",
      "0.515254586683158                                                                                                      \n",
      "SCORE:                                                                                                                 \n",
      "0.515254586683158                                                                                                      \n",
      "SCORE:                                                                                                                 \n",
      "0.515254586683158                                                                                                      \n",
      "SCORE:                                                                                                                 \n",
      "0.515254586683158                                                                                                      \n",
      "SCORE:                                                                                                                 \n",
      "0.515254586683158                                                                                                      \n",
      "SCORE:                                                                                                                 \n",
      "0.515254586683158                                                                                                      \n",
      "SCORE:                                                                                                                 \n",
      "0.515254586683158                                                                                                      \n",
      "SCORE:                                                                                                                 \n",
      "0.515254586683158                                                                                                      \n",
      "SCORE:                                                                                                                 \n",
      "0.515254586683158                                                                                                      \n",
      "SCORE:                                                                                                                 \n",
      "0.515254586683158                                                                                                      \n",
      "SCORE:                                                                                                                 \n",
      "0.515254586683158                                                                                                      \n",
      "SCORE:                                                                                                                 \n",
      "0.515254586683158                                                                                                      \n",
      "SCORE:                                                                                                                 \n",
      "0.515254586683158                                                                                                      \n",
      "SCORE:                                                                                                                 \n",
      "0.515254586683158                                                                                                      \n",
      "SCORE:                                                                                                                 \n",
      "0.515254586683158                                                                                                      \n",
      "SCORE:                                                                                                                 \n",
      "0.515254586683158                                                                                                      \n",
      "SCORE:                                                                                                                 \n",
      "0.515254586683158                                                                                                      \n",
      "SCORE:                                                                                                                 \n",
      "0.515254586683158                                                                                                      \n",
      "SCORE:                                                                                                                 \n",
      "0.515254586683158                                                                                                      \n",
      "SCORE:                                                                                                                 \n",
      "0.515254586683158                                                                                                      \n",
      "SCORE:                                                                                                                 \n",
      "0.515254586683158                                                                                                      \n",
      "SCORE:                                                                                                                 \n",
      "0.515254586683158                                                                                                      \n",
      "SCORE:                                                                                                                 \n",
      "0.515254586683158                                                                                                      \n",
      "SCORE:                                                                                                                 \n",
      "0.515254586683158                                                                                                      \n",
      "SCORE:                                                                                                                 \n",
      "0.515254586683158                                                                                                      \n",
      "SCORE:                                                                                                                 \n",
      "0.515254586683158                                                                                                      \n",
      "SCORE:                                                                                                                 \n",
      "0.515254586683158                                                                                                      \n",
      "SCORE:                                                                                                                 \n",
      "0.515254586683158                                                                                                      \n",
      "SCORE:                                                                                                                 \n",
      "0.515254586683158                                                                                                      \n",
      "SCORE:                                                                                                                 \n",
      "0.515254586683158                                                                                                      \n"
     ]
    },
    {
     "name": "stdout",
     "output_type": "stream",
     "text": [
      "SCORE:                                                                                                                 \n",
      "0.515254586683158                                                                                                      \n",
      "SCORE:                                                                                                                 \n",
      "0.515254586683158                                                                                                      \n",
      "SCORE:                                                                                                                 \n",
      "0.515254586683158                                                                                                      \n",
      "SCORE:                                                                                                                 \n",
      "0.515254586683158                                                                                                      \n",
      "SCORE:                                                                                                                 \n",
      "0.515254586683158                                                                                                      \n",
      "SCORE:                                                                                                                 \n",
      "0.515254586683158                                                                                                      \n",
      "SCORE:                                                                                                                 \n",
      "0.515254586683158                                                                                                      \n",
      "SCORE:                                                                                                                 \n",
      "0.515254586683158                                                                                                      \n",
      "SCORE:                                                                                                                 \n",
      "0.515254586683158                                                                                                      \n",
      "SCORE:                                                                                                                 \n",
      "0.515254586683158                                                                                                      \n",
      "SCORE:                                                                                                                 \n",
      "0.515254586683158                                                                                                      \n",
      "SCORE:                                                                                                                 \n",
      "0.515254586683158                                                                                                      \n",
      "SCORE:                                                                                                                 \n",
      "0.515254586683158                                                                                                      \n",
      "SCORE:                                                                                                                 \n",
      "0.515254586683158                                                                                                      \n",
      "SCORE:                                                                                                                 \n",
      "0.515254586683158                                                                                                      \n",
      "SCORE:                                                                                                                 \n",
      "0.515254586683158                                                                                                      \n",
      "SCORE:                                                                                                                 \n",
      "0.515254586683158                                                                                                      \n",
      "SCORE:                                                                                                                 \n",
      "0.515254586683158                                                                                                      \n",
      "SCORE:                                                                                                                 \n",
      "0.515254586683158                                                                                                      \n",
      "SCORE:                                                                                                                 \n",
      "0.515254586683158                                                                                                      \n",
      "SCORE:                                                                                                                 \n",
      "0.515254586683158                                                                                                      \n",
      "SCORE:                                                                                                                 \n",
      "0.515254586683158                                                                                                      \n",
      "SCORE:                                                                                                                 \n",
      "0.515254586683158                                                                                                      \n",
      "SCORE:                                                                                                                 \n",
      "0.515254586683158                                                                                                      \n",
      "SCORE:                                                                                                                 \n",
      "0.515254586683158                                                                                                      \n",
      "SCORE:                                                                                                                 \n",
      "0.515254586683158                                                                                                      \n",
      "SCORE:                                                                                                                 \n",
      "0.515254586683158                                                                                                      \n",
      "SCORE:                                                                                                                 \n",
      "0.515254586683158                                                                                                      \n",
      "SCORE:                                                                                                                 \n",
      "0.515254586683158                                                                                                      \n",
      "SCORE:                                                                                                                 \n",
      "0.515254586683158                                                                                                      \n",
      "SCORE:                                                                                                                 \n",
      "0.515254586683158                                                                                                      \n",
      "SCORE:                                                                                                                 \n",
      "0.515254586683158                                                                                                      \n",
      "100%|█████████████████████████████████████████████| 100/100 [00:14<00:00,  7.10trial/s, best loss: 0.48474541331684184]\n"
     ]
    }
   ],
   "source": [
    "import warnings\n",
    "warnings.filterwarnings(\"ignore\")\n",
    "\n",
    "trials = Trials()\n",
    "\n",
    "best_hyperparams = fmin(fn = objective,\n",
    "                        space = space,\n",
    "                        algo = tpe.suggest,\n",
    "                        max_evals = 100,\n",
    "                        trials = trials)"
   ]
  },
  {
   "cell_type": "code",
   "execution_count": 76,
   "id": "67de9200",
   "metadata": {},
   "outputs": [
    {
     "name": "stdout",
     "output_type": "stream",
     "text": [
      "{'colsample_bytree': 0.9086928805970003, 'gamma': 4.720462745698613, 'max_depth': 16.0, 'min_child_weight': 4.0, 'reg_alpha': 139.0, 'reg_lambda': 0.7626714248824468}\n"
     ]
    }
   ],
   "source": [
    "print(best_hyperparams)"
   ]
  },
  {
   "cell_type": "code",
   "execution_count": null,
   "id": "c2276ac6",
   "metadata": {},
   "outputs": [],
   "source": []
  }
 ],
 "metadata": {
  "kernelspec": {
   "display_name": "Python 3 (ipykernel)",
   "language": "python",
   "name": "python3"
  },
  "language_info": {
   "codemirror_mode": {
    "name": "ipython",
    "version": 3
   },
   "file_extension": ".py",
   "mimetype": "text/x-python",
   "name": "python",
   "nbconvert_exporter": "python",
   "pygments_lexer": "ipython3",
   "version": "3.10.5"
  }
 },
 "nbformat": 4,
 "nbformat_minor": 5
}
