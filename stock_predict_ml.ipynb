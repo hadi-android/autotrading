{
 "cells": [
  {
   "cell_type": "code",
   "execution_count": 13,
   "id": "6b02108c",
   "metadata": {},
   "outputs": [
    {
     "name": "stdout",
     "output_type": "stream",
     "text": [
      "2022-01-01 00:00:00\n",
      "Index(['var1(t-2)', 'var2(t-2)', 'var3(t-2)', 'var4(t-2)', 'var5(t-2)',\n",
      "       'var1(t-1)', 'var2(t-1)', 'var3(t-1)', 'var4(t-1)', 'var5(t-1)',\n",
      "       'var6(t)'],\n",
      "      dtype='object')\n"
     ]
    },
    {
     "data": {
      "text/html": [
       "<div>\n",
       "<style scoped>\n",
       "    .dataframe tbody tr th:only-of-type {\n",
       "        vertical-align: middle;\n",
       "    }\n",
       "\n",
       "    .dataframe tbody tr th {\n",
       "        vertical-align: top;\n",
       "    }\n",
       "\n",
       "    .dataframe thead th {\n",
       "        text-align: right;\n",
       "    }\n",
       "</style>\n",
       "<table border=\"1\" class=\"dataframe\">\n",
       "  <thead>\n",
       "    <tr style=\"text-align: right;\">\n",
       "      <th></th>\n",
       "      <th>var1(t-2)</th>\n",
       "      <th>var2(t-2)</th>\n",
       "      <th>var3(t-2)</th>\n",
       "      <th>var4(t-2)</th>\n",
       "      <th>var5(t-2)</th>\n",
       "      <th>var1(t-1)</th>\n",
       "      <th>var2(t-1)</th>\n",
       "      <th>var3(t-1)</th>\n",
       "      <th>var4(t-1)</th>\n",
       "      <th>var5(t-1)</th>\n",
       "      <th>var6(t)</th>\n",
       "    </tr>\n",
       "  </thead>\n",
       "  <tbody>\n",
       "    <tr>\n",
       "      <th>2</th>\n",
       "      <td>4655.555664</td>\n",
       "      <td>4765.364746</td>\n",
       "      <td>4654.594238</td>\n",
       "      <td>4765.085449</td>\n",
       "      <td>1.235760e+10</td>\n",
       "      <td>4764.581543</td>\n",
       "      <td>4842.118652</td>\n",
       "      <td>4711.566406</td>\n",
       "      <td>4848.099121</td>\n",
       "      <td>1.250961e+10</td>\n",
       "      <td>0.0</td>\n",
       "    </tr>\n",
       "    <tr>\n",
       "      <th>3</th>\n",
       "      <td>4764.581543</td>\n",
       "      <td>4842.118652</td>\n",
       "      <td>4711.566406</td>\n",
       "      <td>4848.099121</td>\n",
       "      <td>1.250961e+10</td>\n",
       "      <td>4848.062012</td>\n",
       "      <td>4888.744141</td>\n",
       "      <td>4717.070801</td>\n",
       "      <td>4796.455566</td>\n",
       "      <td>1.540523e+10</td>\n",
       "      <td>1.0</td>\n",
       "    </tr>\n",
       "    <tr>\n",
       "      <th>4</th>\n",
       "      <td>4848.062012</td>\n",
       "      <td>4888.744141</td>\n",
       "      <td>4717.070801</td>\n",
       "      <td>4796.455566</td>\n",
       "      <td>1.540523e+10</td>\n",
       "      <td>4796.431641</td>\n",
       "      <td>4927.568359</td>\n",
       "      <td>4744.676270</td>\n",
       "      <td>4820.447754</td>\n",
       "      <td>1.782666e+10</td>\n",
       "      <td>0.0</td>\n",
       "    </tr>\n",
       "    <tr>\n",
       "      <th>5</th>\n",
       "      <td>4796.431641</td>\n",
       "      <td>4927.568359</td>\n",
       "      <td>4744.676270</td>\n",
       "      <td>4820.447754</td>\n",
       "      <td>1.782666e+10</td>\n",
       "      <td>4820.717773</td>\n",
       "      <td>4883.027344</td>\n",
       "      <td>4409.953125</td>\n",
       "      <td>4530.520996</td>\n",
       "      <td>2.304742e+10</td>\n",
       "      <td>0.0</td>\n",
       "    </tr>\n",
       "    <tr>\n",
       "      <th>6</th>\n",
       "      <td>4820.717773</td>\n",
       "      <td>4883.027344</td>\n",
       "      <td>4409.953125</td>\n",
       "      <td>4530.520996</td>\n",
       "      <td>2.304742e+10</td>\n",
       "      <td>4529.655762</td>\n",
       "      <td>4529.655762</td>\n",
       "      <td>4264.112305</td>\n",
       "      <td>4351.890137</td>\n",
       "      <td>3.092782e+10</td>\n",
       "      <td>0.0</td>\n",
       "    </tr>\n",
       "    <tr>\n",
       "      <th>...</th>\n",
       "      <td>...</td>\n",
       "      <td>...</td>\n",
       "      <td>...</td>\n",
       "      <td>...</td>\n",
       "      <td>...</td>\n",
       "      <td>...</td>\n",
       "      <td>...</td>\n",
       "      <td>...</td>\n",
       "      <td>...</td>\n",
       "      <td>...</td>\n",
       "      <td>...</td>\n",
       "    </tr>\n",
       "    <tr>\n",
       "      <th>364</th>\n",
       "      <td>1618.529297</td>\n",
       "      <td>1631.660034</td>\n",
       "      <td>1615.487915</td>\n",
       "      <td>1628.673584</td>\n",
       "      <td>5.600937e+09</td>\n",
       "      <td>1628.638672</td>\n",
       "      <td>1629.492676</td>\n",
       "      <td>1608.004761</td>\n",
       "      <td>1627.291748</td>\n",
       "      <td>5.503315e+09</td>\n",
       "      <td>0.0</td>\n",
       "    </tr>\n",
       "    <tr>\n",
       "      <th>365</th>\n",
       "      <td>1628.638672</td>\n",
       "      <td>1629.492676</td>\n",
       "      <td>1608.004761</td>\n",
       "      <td>1627.291748</td>\n",
       "      <td>5.503315e+09</td>\n",
       "      <td>1627.464478</td>\n",
       "      <td>1635.245117</td>\n",
       "      <td>1620.474731</td>\n",
       "      <td>1623.958740</td>\n",
       "      <td>4.095972e+09</td>\n",
       "      <td>1.0</td>\n",
       "    </tr>\n",
       "    <tr>\n",
       "      <th>366</th>\n",
       "      <td>1627.464478</td>\n",
       "      <td>1635.245117</td>\n",
       "      <td>1620.474731</td>\n",
       "      <td>1623.958740</td>\n",
       "      <td>4.095972e+09</td>\n",
       "      <td>1623.880615</td>\n",
       "      <td>1631.383057</td>\n",
       "      <td>1618.685913</td>\n",
       "      <td>1625.373779</td>\n",
       "      <td>3.247696e+09</td>\n",
       "      <td>1.0</td>\n",
       "    </tr>\n",
       "    <tr>\n",
       "      <th>367</th>\n",
       "      <td>1623.880615</td>\n",
       "      <td>1631.383057</td>\n",
       "      <td>1618.685913</td>\n",
       "      <td>1625.373779</td>\n",
       "      <td>3.247696e+09</td>\n",
       "      <td>1625.561157</td>\n",
       "      <td>1656.265747</td>\n",
       "      <td>1616.793701</td>\n",
       "      <td>1647.529907</td>\n",
       "      <td>5.107781e+09</td>\n",
       "      <td>1.0</td>\n",
       "    </tr>\n",
       "    <tr>\n",
       "      <th>368</th>\n",
       "      <td>1625.561157</td>\n",
       "      <td>1656.265747</td>\n",
       "      <td>1616.793701</td>\n",
       "      <td>1647.529907</td>\n",
       "      <td>5.107781e+09</td>\n",
       "      <td>1647.648438</td>\n",
       "      <td>1653.166504</td>\n",
       "      <td>1652.023560</td>\n",
       "      <td>1660.974365</td>\n",
       "      <td>4.639231e+09</td>\n",
       "      <td>1.0</td>\n",
       "    </tr>\n",
       "  </tbody>\n",
       "</table>\n",
       "<p>367 rows × 11 columns</p>\n",
       "</div>"
      ],
      "text/plain": [
       "       var1(t-2)    var2(t-2)    var3(t-2)    var4(t-2)     var5(t-2)  \\\n",
       "2    4655.555664  4765.364746  4654.594238  4765.085449  1.235760e+10   \n",
       "3    4764.581543  4842.118652  4711.566406  4848.099121  1.250961e+10   \n",
       "4    4848.062012  4888.744141  4717.070801  4796.455566  1.540523e+10   \n",
       "5    4796.431641  4927.568359  4744.676270  4820.447754  1.782666e+10   \n",
       "6    4820.717773  4883.027344  4409.953125  4530.520996  2.304742e+10   \n",
       "..           ...          ...          ...          ...           ...   \n",
       "364  1618.529297  1631.660034  1615.487915  1628.673584  5.600937e+09   \n",
       "365  1628.638672  1629.492676  1608.004761  1627.291748  5.503315e+09   \n",
       "366  1627.464478  1635.245117  1620.474731  1623.958740  4.095972e+09   \n",
       "367  1623.880615  1631.383057  1618.685913  1625.373779  3.247696e+09   \n",
       "368  1625.561157  1656.265747  1616.793701  1647.529907  5.107781e+09   \n",
       "\n",
       "       var1(t-1)    var2(t-1)    var3(t-1)    var4(t-1)     var5(t-1)  var6(t)  \n",
       "2    4764.581543  4842.118652  4711.566406  4848.099121  1.250961e+10      0.0  \n",
       "3    4848.062012  4888.744141  4717.070801  4796.455566  1.540523e+10      1.0  \n",
       "4    4796.431641  4927.568359  4744.676270  4820.447754  1.782666e+10      0.0  \n",
       "5    4820.717773  4883.027344  4409.953125  4530.520996  2.304742e+10      0.0  \n",
       "6    4529.655762  4529.655762  4264.112305  4351.890137  3.092782e+10      0.0  \n",
       "..           ...          ...          ...          ...           ...      ...  \n",
       "364  1628.638672  1629.492676  1608.004761  1627.291748  5.503315e+09      0.0  \n",
       "365  1627.464478  1635.245117  1620.474731  1623.958740  4.095972e+09      1.0  \n",
       "366  1623.880615  1631.383057  1618.685913  1625.373779  3.247696e+09      1.0  \n",
       "367  1625.561157  1656.265747  1616.793701  1647.529907  5.107781e+09      1.0  \n",
       "368  1647.648438  1653.166504  1652.023560  1660.974365  4.639231e+09      1.0  \n",
       "\n",
       "[367 rows x 11 columns]"
      ]
     },
     "execution_count": 13,
     "metadata": {},
     "output_type": "execute_result"
    }
   ],
   "source": [
    "from math import sqrt\n",
    "from numpy import concatenate\n",
    "from matplotlib import pyplot\n",
    "from pandas import read_csv\n",
    "from pandas import DataFrame\n",
    "from pandas import concat\n",
    "from sklearn.preprocessing import MinMaxScaler\n",
    "from sklearn.preprocessing import LabelEncoder\n",
    "from sklearn.metrics import mean_squared_error\n",
    "\n",
    "import os\n",
    "import pandas as pd\n",
    "\n",
    "import datetime\n",
    "import time\n",
    "from yahoo_historical import Fetcher\n",
    "\n",
    "\n",
    "\n",
    "os.chdir(r'C:\\Users\\hadit\\OneDrive - Prophix Software, Inc\\AutoTrading')\n",
    "# convert series to supervised learning\n",
    "def series_to_supervised(data, n_in=1, n_out=1, dropnan=True):\n",
    "\tn_vars = 1 if type(data) is list else data.shape[1]\n",
    "\tdf = DataFrame(data)\n",
    "\tcols, names = list(), list()\n",
    "\t# input sequence (t-n, ... t-1)\n",
    "\tfor i in range(n_in, 0, -1):\n",
    "\t\tcols.append(df.shift(i))\n",
    "\t\tnames += [('var%d(t-%d)' % (j+1, i)) for j in range(n_vars)]\n",
    "\t# forecast sequence (t, t+1, ... t+n)\n",
    "\tfor i in range(0, n_out):\n",
    "\t\tcols.append(df.shift(-i))\n",
    "\t\tif i == 0:\n",
    "\t\t\tnames += [('var%d(t)' % (j+1)) for j in range(n_vars)]\n",
    "\t\telse:\n",
    "\t\t\tnames += [('var%d(t+%d)' % (j+1, i)) for j in range(n_vars)]\n",
    "\t# put it all together\n",
    "\tagg = concat(cols, axis=1)\n",
    "\tagg.columns = names\n",
    "\t# drop rows with NaN values\n",
    "\tif dropnan:\n",
    "\t\tagg.dropna(inplace=True)\n",
    "\treturn agg\n",
    " \n",
    "# load dataset\n",
    "ticker = 'ETH-CAD'\n",
    "#dstart = '1-1-2021' #start date of data to calculate rolling averages\n",
    "actual_start = '1-1-2022' # actual start date where data is analyzed\n",
    "\n",
    "dstart = datetime.datetime.strptime(actual_start, '%m-%d-%Y')\n",
    "print(dstart)\n",
    "dstart = time.mktime(dstart.timetuple())\n",
    "df = Fetcher(ticker, dstart).get_historical()\n",
    "df.Date = pd.to_datetime(df.Date)\n",
    "dates = df.Date\n",
    "df.drop(['Date','Adj Close'], axis=1, inplace=True)\n",
    "df.columns\n",
    "\n",
    "y = df.Close - df.Close.shift(1)\n",
    "y = y>0\n",
    "y  = y.astype(int)\n",
    "df['y'] = y\n",
    "\n",
    "N = df.shape[1]\n",
    "values = df.values\n",
    "# integer encode direction\n",
    "\n",
    "#values[:,4] = encoder.fit_transform(values[:,4])\n",
    "# ensure all data is float\n",
    "values = values.astype('float32')\n",
    "# normalize features\n",
    "# scaler = MinMaxScaler(feature_range=(0, 1))\n",
    "# scaled = scaler.fit_transform(values)\n",
    "# frame as supervised learning\n",
    "n_in = 2\n",
    "reframed = series_to_supervised(values, n_in, 1)\n",
    "# drop columns we don't want to predict\n",
    "#reframed.drop(reframed.columns[[9,10,11,12,13,14,15]], axis=1, inplace=True)\n",
    "reframed.drop(['var'+str(i)+'(t)' for i in range(1,N)], axis=1, inplace=True)\n",
    "reframed.drop(['var'+str(N)+'(t-' + str(t) + ')' for t in range(1,n_in+1)], axis=1, inplace=True)\n",
    "\n",
    "print(reframed.columns)\n",
    "reframed\n",
    " "
   ]
  },
  {
   "cell_type": "code",
   "execution_count": 14,
   "id": "35832558",
   "metadata": {},
   "outputs": [
    {
     "name": "stdout",
     "output_type": "stream",
     "text": [
      "(294, 10) (294,) (73, 10) (73,)\n"
     ]
    }
   ],
   "source": [
    "# split into train and test sets\n",
    "values = reframed.values\n",
    "#n_train_hours = 365 * 24\n",
    "train = values[:round(0.8*values.shape[0]), :]\n",
    "test = values[round(0.8*values.shape[0]):, :]\n",
    "# split into input and outputs\n",
    "train_X, train_y = train[:, :-1], train[:, -1]\n",
    "test_X, test_y = test[:, :-1], test[:, -1]\n",
    "# reshape input to be 3D [samples, timesteps, features]\n",
    "\n",
    "\n",
    "print(train_X.shape, train_y.shape, test_X.shape, test_y.shape)"
   ]
  },
  {
   "cell_type": "code",
   "execution_count": 16,
   "id": "2d8a25fc",
   "metadata": {},
   "outputs": [
    {
     "data": {
      "text/plain": [
       "0.4383561643835616"
      ]
     },
     "execution_count": 16,
     "metadata": {},
     "output_type": "execute_result"
    }
   ],
   "source": [
    "from sklearn.linear_model import LogisticRegression\n",
    "\n",
    "model = LogisticRegression()\n",
    "model.fit(train_X, train_y)\n",
    "y_pred = model.predict(test_X)\n",
    "acc_base_logreg = accuracy_score(test_y, y_pred)\n",
    "acc_base_logreg"
   ]
  },
  {
   "cell_type": "code",
   "execution_count": 17,
   "id": "3ce5821b",
   "metadata": {},
   "outputs": [
    {
     "name": "stdout",
     "output_type": "stream",
     "text": [
      "Fitting 3 folds for each of 20 candidates, totalling 60 fits\n"
     ]
    }
   ],
   "source": [
    "from sklearn.ensemble import RandomForestClassifier\n",
    "from sklearn.model_selection import RandomizedSearchCV\n",
    "from skopt import BayesSearchCV\n",
    "\n",
    "\n",
    "# Number of trees in random forest\n",
    "import numpy as np\n",
    "n_estimators = [int(x) for x in np.linspace(start = 200, stop = 2000, num = 10)]\n",
    "# Number of features to consider at every split\n",
    "max_features = ['auto', 'sqrt']\n",
    "# Maximum number of levels in tree\n",
    "max_depth = [int(x) for x in np.linspace(10, 110, num = 11)]\n",
    "max_depth.append(None)\n",
    "# Minimum number of samples required to split a node\n",
    "min_samples_split = [2, 5, 10]\n",
    "# Minimum number of samples required at each leaf node\n",
    "min_samples_leaf = [1, 2, 4]\n",
    "# Method of selecting samples for training each tree\n",
    "bootstrap = [True, False]# Create the random grid\n",
    "\n",
    "random_grid = {'n_estimators': n_estimators,\n",
    "               'max_features': max_features,\n",
    "               'max_depth': max_depth,\n",
    "               'min_samples_split': min_samples_split,\n",
    "               'min_samples_leaf': min_samples_leaf,\n",
    "               'bootstrap': bootstrap}\n",
    "random_grid\n",
    "\n",
    "rf = RandomForestClassifier()\n",
    "rf_random = RandomizedSearchCV(estimator = rf, param_distributions = random_grid, n_iter = 20, cv = 3, verbose=2, random_state=42, n_jobs = -1)# Fit the random search model\n",
    "rf_random.fit(train_X, train_y)\n",
    "rf_random.best_params_\n",
    "\n",
    "from sklearn.metrics import accuracy_score\n",
    "y_pred = rf_random.predict(test_X)\n",
    "\n",
    "acc_tuned = accuracy_score(y_pred, test_y)\n",
    "\n",
    "rf = RandomForestClassifier(n_estimators = 100, random_state = 0)\n",
    "rf.fit(train_X, train_y)\n",
    "y_pred = rf.predict(test_X)\n",
    "acc_base = accuracy_score(test_y, y_pred)\n",
    "\n",
    "\n",
    "from xgboost import XGBClassifier\n",
    "model = XGBClassifier()\n",
    "model.fit(train_X, train_y)\n",
    "y_pred = model.predict(test_X)\n",
    "acc_xgb = accuracy_score(test_y, y_pred)\n"
   ]
  },
  {
   "cell_type": "code",
   "execution_count": 18,
   "id": "c8a1fef9",
   "metadata": {},
   "outputs": [
    {
     "data": {
      "text/plain": [
       "0.4383561643835616"
      ]
     },
     "execution_count": 18,
     "metadata": {},
     "output_type": "execute_result"
    }
   ],
   "source": [
    "acc_tuned"
   ]
  },
  {
   "cell_type": "code",
   "execution_count": 19,
   "id": "89434860",
   "metadata": {},
   "outputs": [
    {
     "data": {
      "text/plain": [
       "0.4657534246575342"
      ]
     },
     "execution_count": 19,
     "metadata": {},
     "output_type": "execute_result"
    }
   ],
   "source": [
    "acc_base"
   ]
  },
  {
   "cell_type": "code",
   "execution_count": 20,
   "id": "a46f6c1f",
   "metadata": {},
   "outputs": [
    {
     "data": {
      "text/plain": [
       "0.4246575342465753"
      ]
     },
     "execution_count": 20,
     "metadata": {},
     "output_type": "execute_result"
    }
   ],
   "source": [
    "acc_xgb"
   ]
  },
  {
   "cell_type": "code",
   "execution_count": 21,
   "id": "43c13406",
   "metadata": {},
   "outputs": [
    {
     "data": {
      "text/plain": [
       "{'n_estimators': 600,\n",
       " 'min_samples_split': 2,\n",
       " 'min_samples_leaf': 1,\n",
       " 'max_features': 'auto',\n",
       " 'max_depth': 70,\n",
       " 'bootstrap': True}"
      ]
     },
     "execution_count": 21,
     "metadata": {},
     "output_type": "execute_result"
    }
   ],
   "source": [
    "rf_random.best_params_"
   ]
  },
  {
   "cell_type": "code",
   "execution_count": 22,
   "id": "f4817dc9",
   "metadata": {},
   "outputs": [],
   "source": [
    "from mango import Tuner, scheduler\n"
   ]
  },
  {
   "cell_type": "code",
   "execution_count": 23,
   "id": "70ba1469",
   "metadata": {},
   "outputs": [],
   "source": [
    "param_space = dict(n_estimators=n_estimators,\n",
    "                   max_features = max_features,\n",
    "                   max_depth = max_depth\n",
    "                   )\n"
   ]
  },
  {
   "cell_type": "code",
   "execution_count": null,
   "id": "5b1455c2",
   "metadata": {},
   "outputs": [],
   "source": []
  }
 ],
 "metadata": {
  "kernelspec": {
   "display_name": "Python 3 (ipykernel)",
   "language": "python",
   "name": "python3"
  },
  "language_info": {
   "codemirror_mode": {
    "name": "ipython",
    "version": 3
   },
   "file_extension": ".py",
   "mimetype": "text/x-python",
   "name": "python",
   "nbconvert_exporter": "python",
   "pygments_lexer": "ipython3",
   "version": "3.10.5"
  }
 },
 "nbformat": 4,
 "nbformat_minor": 5
}
