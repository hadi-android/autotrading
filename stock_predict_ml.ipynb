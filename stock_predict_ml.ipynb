{
 "cells": [
  {
   "cell_type": "code",
   "execution_count": 1,
   "id": "6b02108c",
   "metadata": {},
   "outputs": [
    {
     "name": "stderr",
     "output_type": "stream",
     "text": [
      "C:\\Python\\lib\\site-packages\\numpy\\_distributor_init.py:30: UserWarning: loaded more than 1 DLL from .libs:\n",
      "C:\\Python\\lib\\site-packages\\numpy\\.libs\\libopenblas.FB5AE2TYXYH2IJRDKGDGQ3XBKLKTF43H.gfortran-win_amd64.dll\n",
      "C:\\Python\\lib\\site-packages\\numpy\\.libs\\libopenblas64__v0.3.21-gcc_10_3_0.dll\n",
      "  warnings.warn(\"loaded more than 1 DLL from .libs:\"\n",
      "C:\\Users\\hadit\\AppData\\Roaming\\Python\\Python310\\site-packages\\requests\\__init__.py:109: RequestsDependencyWarning: urllib3 (1.26.9) or chardet (5.0.0)/charset_normalizer (2.0.12) doesn't match a supported version!\n",
      "  warnings.warn(\n"
     ]
    },
    {
     "name": "stdout",
     "output_type": "stream",
     "text": [
      "2022-01-01 00:00:00\n"
     ]
    },
    {
     "data": {
      "text/plain": [
       "Index(['Date', 'Open', 'High', 'Low', 'Close', 'Adj Close', 'Volume'], dtype='object')"
      ]
     },
     "execution_count": 1,
     "metadata": {},
     "output_type": "execute_result"
    }
   ],
   "source": [
    "from math import sqrt\n",
    "from numpy import concatenate\n",
    "from matplotlib import pyplot\n",
    "from pandas import read_csv\n",
    "from pandas import DataFrame\n",
    "from pandas import concat\n",
    "from sklearn.preprocessing import MinMaxScaler\n",
    "from sklearn.preprocessing import LabelEncoder\n",
    "from sklearn.metrics import mean_squared_error\n",
    "\n",
    "import os\n",
    "import pandas as pd\n",
    "\n",
    "import datetime\n",
    "import time\n",
    "from yahoo_historical import Fetcher\n",
    "\n",
    "\n",
    "\n",
    "os.chdir(r'C:\\Users\\hadit\\OneDrive - Prophix Software, Inc\\AutoTrading')\n",
    "\n",
    " \n",
    "# load dataset\n",
    "ticker = 'ETH-CAD'\n",
    "#dstart = '1-1-2021' #start date of data to calculate rolling averages\n",
    "actual_start = '1-1-2022' # actual start date where data is analyzed\n",
    "\n",
    "#dstart = datetime.datetime.strptime(actual_start, '%m-%d-%Y') -datetime.timedelta(days = 50) \n",
    "dstart = datetime.datetime.strptime(actual_start, '%m-%d-%Y')\n",
    "print(dstart)\n",
    "dstart = time.mktime(dstart.timetuple())\n",
    "df = Fetcher(ticker, dstart).get_historical()\n",
    "df.Date = pd.to_datetime(df.Date)\n",
    "dates = df.Date\n",
    "\n",
    "df.columns\n",
    "\n"
   ]
  },
  {
   "cell_type": "code",
   "execution_count": 2,
   "id": "e20e3eee",
   "metadata": {},
   "outputs": [],
   "source": [
    "df['close_50'] = df.Close.ewm(span=50,adjust=False).mean()\n",
    "df['close_12'] = df.Close.ewm(span=12,adjust=False).mean()"
   ]
  },
  {
   "cell_type": "code",
   "execution_count": 3,
   "id": "16d9ba0f",
   "metadata": {},
   "outputs": [
    {
     "data": {
      "text/html": [
       "<div>\n",
       "<style scoped>\n",
       "    .dataframe tbody tr th:only-of-type {\n",
       "        vertical-align: middle;\n",
       "    }\n",
       "\n",
       "    .dataframe tbody tr th {\n",
       "        vertical-align: top;\n",
       "    }\n",
       "\n",
       "    .dataframe thead th {\n",
       "        text-align: right;\n",
       "    }\n",
       "</style>\n",
       "<table border=\"1\" class=\"dataframe\">\n",
       "  <thead>\n",
       "    <tr style=\"text-align: right;\">\n",
       "      <th></th>\n",
       "      <th>Date</th>\n",
       "      <th>Open</th>\n",
       "      <th>High</th>\n",
       "      <th>Low</th>\n",
       "      <th>Close</th>\n",
       "      <th>Adj Close</th>\n",
       "      <th>Volume</th>\n",
       "      <th>close_50</th>\n",
       "      <th>close_12</th>\n",
       "      <th>signal_ema50</th>\n",
       "      <th>signal_ema12</th>\n",
       "    </tr>\n",
       "  </thead>\n",
       "  <tbody>\n",
       "    <tr>\n",
       "      <th>369</th>\n",
       "      <td>2023-01-05</td>\n",
       "      <td>1694.495117</td>\n",
       "      <td>1696.957153</td>\n",
       "      <td>1686.806030</td>\n",
       "      <td>1695.988525</td>\n",
       "      <td>1695.988525</td>\n",
       "      <td>5.427683e+09</td>\n",
       "      <td>1691.752057</td>\n",
       "      <td>1659.135368</td>\n",
       "      <td>1</td>\n",
       "      <td>1</td>\n",
       "    </tr>\n",
       "    <tr>\n",
       "      <th>370</th>\n",
       "      <td>2023-01-06</td>\n",
       "      <td>1696.016357</td>\n",
       "      <td>1710.864380</td>\n",
       "      <td>1694.184937</td>\n",
       "      <td>1707.251343</td>\n",
       "      <td>1707.251343</td>\n",
       "      <td>6.694156e+09</td>\n",
       "      <td>1692.359872</td>\n",
       "      <td>1666.537826</td>\n",
       "      <td>1</td>\n",
       "      <td>1</td>\n",
       "    </tr>\n",
       "    <tr>\n",
       "      <th>371</th>\n",
       "      <td>2023-01-07</td>\n",
       "      <td>1707.306030</td>\n",
       "      <td>1708.891235</td>\n",
       "      <td>1697.691528</td>\n",
       "      <td>1700.380371</td>\n",
       "      <td>1700.380371</td>\n",
       "      <td>3.450084e+09</td>\n",
       "      <td>1692.674402</td>\n",
       "      <td>1671.744371</td>\n",
       "      <td>1</td>\n",
       "      <td>1</td>\n",
       "    </tr>\n",
       "    <tr>\n",
       "      <th>372</th>\n",
       "      <td>2023-01-08</td>\n",
       "      <td>NaN</td>\n",
       "      <td>NaN</td>\n",
       "      <td>NaN</td>\n",
       "      <td>NaN</td>\n",
       "      <td>NaN</td>\n",
       "      <td>NaN</td>\n",
       "      <td>1692.674402</td>\n",
       "      <td>1671.744371</td>\n",
       "      <td>0</td>\n",
       "      <td>0</td>\n",
       "    </tr>\n",
       "    <tr>\n",
       "      <th>373</th>\n",
       "      <td>2023-01-09</td>\n",
       "      <td>1730.783569</td>\n",
       "      <td>1787.636108</td>\n",
       "      <td>1729.762329</td>\n",
       "      <td>1787.636108</td>\n",
       "      <td>1787.636108</td>\n",
       "      <td>1.006666e+10</td>\n",
       "      <td>1696.544196</td>\n",
       "      <td>1692.242229</td>\n",
       "      <td>1</td>\n",
       "      <td>1</td>\n",
       "    </tr>\n",
       "  </tbody>\n",
       "</table>\n",
       "</div>"
      ],
      "text/plain": [
       "          Date         Open         High          Low        Close  \\\n",
       "369 2023-01-05  1694.495117  1696.957153  1686.806030  1695.988525   \n",
       "370 2023-01-06  1696.016357  1710.864380  1694.184937  1707.251343   \n",
       "371 2023-01-07  1707.306030  1708.891235  1697.691528  1700.380371   \n",
       "372 2023-01-08          NaN          NaN          NaN          NaN   \n",
       "373 2023-01-09  1730.783569  1787.636108  1729.762329  1787.636108   \n",
       "\n",
       "       Adj Close        Volume     close_50     close_12  signal_ema50  \\\n",
       "369  1695.988525  5.427683e+09  1691.752057  1659.135368             1   \n",
       "370  1707.251343  6.694156e+09  1692.359872  1666.537826             1   \n",
       "371  1700.380371  3.450084e+09  1692.674402  1671.744371             1   \n",
       "372          NaN           NaN  1692.674402  1671.744371             0   \n",
       "373  1787.636108  1.006666e+10  1696.544196  1692.242229             1   \n",
       "\n",
       "     signal_ema12  \n",
       "369             1  \n",
       "370             1  \n",
       "371             1  \n",
       "372             0  \n",
       "373             1  "
      ]
     },
     "execution_count": 3,
     "metadata": {},
     "output_type": "execute_result"
    }
   ],
   "source": [
    "df['signal_ema50'] = df.Close>df.close_50\n",
    "df['signal_ema50'] = df['signal_ema50'].astype(int)\n",
    "df['signal_ema12'] = df.Close>df.close_12\n",
    "df['signal_ema12'] = df['signal_ema12'].astype(int)\n",
    "df.tail()"
   ]
  },
  {
   "cell_type": "code",
   "execution_count": 4,
   "id": "feb34e85",
   "metadata": {},
   "outputs": [],
   "source": [
    "samp = df[df.Date>=pd.to_datetime('2022-9-1')]"
   ]
  },
  {
   "cell_type": "code",
   "execution_count": 5,
   "id": "c8cd6934",
   "metadata": {},
   "outputs": [
    {
     "data": {
      "text/plain": [
       "[<matplotlib.lines.Line2D at 0x166ae80a110>]"
      ]
     },
     "execution_count": 5,
     "metadata": {},
     "output_type": "execute_result"
    },
    {
     "data": {
      "image/png": "[encoded data removed]",
      "text/plain": [
       "<Figure size 1440x360 with 1 Axes>"
      ]
     },
     "metadata": {
      "needs_background": "light"
     },
     "output_type": "display_data"
    }
   ],
   "source": [
    "pyplot.figure(figsize=(20,5))\n",
    "pyplot.plot(samp.Date, samp.Close)\n",
    "pyplot.plot(samp.Date, samp.close_50)\n",
    "pyplot.plot(samp.Date, samp.close_12)"
   ]
  },
  {
   "cell_type": "code",
   "execution_count": 6,
   "id": "55cbbd23",
   "metadata": {},
   "outputs": [],
   "source": [
    "y = df.Close.shift(-1) - df.Close\n",
    "y = y>0\n",
    "y  = y.astype(int)\n",
    "df['y'] = y\n",
    "\n",
    "N = df.shape[1]\n"
   ]
  },
  {
   "cell_type": "code",
   "execution_count": null,
   "id": "0ca3ddf0",
   "metadata": {},
   "outputs": [],
   "source": []
  },
  {
   "cell_type": "code",
   "execution_count": 7,
   "id": "70c0c042",
   "metadata": {},
   "outputs": [
    {
     "data": {
      "text/html": [
       "<div>\n",
       "<style scoped>\n",
       "    .dataframe tbody tr th:only-of-type {\n",
       "        vertical-align: middle;\n",
       "    }\n",
       "\n",
       "    .dataframe tbody tr th {\n",
       "        vertical-align: top;\n",
       "    }\n",
       "\n",
       "    .dataframe thead th {\n",
       "        text-align: right;\n",
       "    }\n",
       "</style>\n",
       "<table border=\"1\" class=\"dataframe\">\n",
       "  <thead>\n",
       "    <tr style=\"text-align: right;\">\n",
       "      <th></th>\n",
       "      <th>Date</th>\n",
       "      <th>Open</th>\n",
       "      <th>High</th>\n",
       "      <th>Low</th>\n",
       "      <th>Close</th>\n",
       "      <th>Adj Close</th>\n",
       "      <th>Volume</th>\n",
       "      <th>close_50</th>\n",
       "      <th>close_12</th>\n",
       "      <th>signal_ema50</th>\n",
       "      <th>signal_ema12</th>\n",
       "      <th>y</th>\n",
       "    </tr>\n",
       "  </thead>\n",
       "  <tbody>\n",
       "    <tr>\n",
       "      <th>364</th>\n",
       "      <td>2022-12-31</td>\n",
       "      <td>1627.464478</td>\n",
       "      <td>1635.245117</td>\n",
       "      <td>1620.474731</td>\n",
       "      <td>1623.958740</td>\n",
       "      <td>1623.958740</td>\n",
       "      <td>4.095972e+09</td>\n",
       "      <td>1697.369139</td>\n",
       "      <td>1643.600366</td>\n",
       "      <td>0</td>\n",
       "      <td>0</td>\n",
       "      <td>1</td>\n",
       "    </tr>\n",
       "    <tr>\n",
       "      <th>365</th>\n",
       "      <td>2023-01-01</td>\n",
       "      <td>1623.880615</td>\n",
       "      <td>1631.383057</td>\n",
       "      <td>1618.685913</td>\n",
       "      <td>1625.373779</td>\n",
       "      <td>1625.373779</td>\n",
       "      <td>3.247696e+09</td>\n",
       "      <td>1694.545791</td>\n",
       "      <td>1640.796275</td>\n",
       "      <td>0</td>\n",
       "      <td>0</td>\n",
       "      <td>1</td>\n",
       "    </tr>\n",
       "    <tr>\n",
       "      <th>366</th>\n",
       "      <td>2023-01-02</td>\n",
       "      <td>1625.561157</td>\n",
       "      <td>1656.265747</td>\n",
       "      <td>1616.793701</td>\n",
       "      <td>1647.529907</td>\n",
       "      <td>1647.529907</td>\n",
       "      <td>5.107781e+09</td>\n",
       "      <td>1692.702031</td>\n",
       "      <td>1641.832219</td>\n",
       "      <td>0</td>\n",
       "      <td>1</td>\n",
       "      <td>1</td>\n",
       "    </tr>\n",
       "    <tr>\n",
       "      <th>367</th>\n",
       "      <td>2023-01-03</td>\n",
       "      <td>1647.648438</td>\n",
       "      <td>1653.166504</td>\n",
       "      <td>1652.023560</td>\n",
       "      <td>1660.974365</td>\n",
       "      <td>1660.974365</td>\n",
       "      <td>4.639231e+09</td>\n",
       "      <td>1691.457809</td>\n",
       "      <td>1644.777164</td>\n",
       "      <td>0</td>\n",
       "      <td>1</td>\n",
       "      <td>1</td>\n",
       "    </tr>\n",
       "    <tr>\n",
       "      <th>368</th>\n",
       "      <td>2023-01-04</td>\n",
       "      <td>1660.891968</td>\n",
       "      <td>1707.519165</td>\n",
       "      <td>1657.093994</td>\n",
       "      <td>1694.551758</td>\n",
       "      <td>1694.551758</td>\n",
       "      <td>8.636997e+09</td>\n",
       "      <td>1691.579140</td>\n",
       "      <td>1652.434794</td>\n",
       "      <td>1</td>\n",
       "      <td>1</td>\n",
       "      <td>1</td>\n",
       "    </tr>\n",
       "    <tr>\n",
       "      <th>369</th>\n",
       "      <td>2023-01-05</td>\n",
       "      <td>1694.495117</td>\n",
       "      <td>1696.957153</td>\n",
       "      <td>1686.806030</td>\n",
       "      <td>1695.988525</td>\n",
       "      <td>1695.988525</td>\n",
       "      <td>5.427683e+09</td>\n",
       "      <td>1691.752057</td>\n",
       "      <td>1659.135368</td>\n",
       "      <td>1</td>\n",
       "      <td>1</td>\n",
       "      <td>1</td>\n",
       "    </tr>\n",
       "    <tr>\n",
       "      <th>370</th>\n",
       "      <td>2023-01-06</td>\n",
       "      <td>1696.016357</td>\n",
       "      <td>1710.864380</td>\n",
       "      <td>1694.184937</td>\n",
       "      <td>1707.251343</td>\n",
       "      <td>1707.251343</td>\n",
       "      <td>6.694156e+09</td>\n",
       "      <td>1692.359872</td>\n",
       "      <td>1666.537826</td>\n",
       "      <td>1</td>\n",
       "      <td>1</td>\n",
       "      <td>0</td>\n",
       "    </tr>\n",
       "    <tr>\n",
       "      <th>371</th>\n",
       "      <td>2023-01-07</td>\n",
       "      <td>1707.306030</td>\n",
       "      <td>1708.891235</td>\n",
       "      <td>1697.691528</td>\n",
       "      <td>1700.380371</td>\n",
       "      <td>1700.380371</td>\n",
       "      <td>3.450084e+09</td>\n",
       "      <td>1692.674402</td>\n",
       "      <td>1671.744371</td>\n",
       "      <td>1</td>\n",
       "      <td>1</td>\n",
       "      <td>0</td>\n",
       "    </tr>\n",
       "    <tr>\n",
       "      <th>372</th>\n",
       "      <td>2023-01-08</td>\n",
       "      <td>NaN</td>\n",
       "      <td>NaN</td>\n",
       "      <td>NaN</td>\n",
       "      <td>NaN</td>\n",
       "      <td>NaN</td>\n",
       "      <td>NaN</td>\n",
       "      <td>1692.674402</td>\n",
       "      <td>1671.744371</td>\n",
       "      <td>0</td>\n",
       "      <td>0</td>\n",
       "      <td>0</td>\n",
       "    </tr>\n",
       "    <tr>\n",
       "      <th>373</th>\n",
       "      <td>2023-01-09</td>\n",
       "      <td>1730.783569</td>\n",
       "      <td>1787.636108</td>\n",
       "      <td>1729.762329</td>\n",
       "      <td>1787.636108</td>\n",
       "      <td>1787.636108</td>\n",
       "      <td>1.006666e+10</td>\n",
       "      <td>1696.544196</td>\n",
       "      <td>1692.242229</td>\n",
       "      <td>1</td>\n",
       "      <td>1</td>\n",
       "      <td>0</td>\n",
       "    </tr>\n",
       "  </tbody>\n",
       "</table>\n",
       "</div>"
      ],
      "text/plain": [
       "          Date         Open         High          Low        Close  \\\n",
       "364 2022-12-31  1627.464478  1635.245117  1620.474731  1623.958740   \n",
       "365 2023-01-01  1623.880615  1631.383057  1618.685913  1625.373779   \n",
       "366 2023-01-02  1625.561157  1656.265747  1616.793701  1647.529907   \n",
       "367 2023-01-03  1647.648438  1653.166504  1652.023560  1660.974365   \n",
       "368 2023-01-04  1660.891968  1707.519165  1657.093994  1694.551758   \n",
       "369 2023-01-05  1694.495117  1696.957153  1686.806030  1695.988525   \n",
       "370 2023-01-06  1696.016357  1710.864380  1694.184937  1707.251343   \n",
       "371 2023-01-07  1707.306030  1708.891235  1697.691528  1700.380371   \n",
       "372 2023-01-08          NaN          NaN          NaN          NaN   \n",
       "373 2023-01-09  1730.783569  1787.636108  1729.762329  1787.636108   \n",
       "\n",
       "       Adj Close        Volume     close_50     close_12  signal_ema50  \\\n",
       "364  1623.958740  4.095972e+09  1697.369139  1643.600366             0   \n",
       "365  1625.373779  3.247696e+09  1694.545791  1640.796275             0   \n",
       "366  1647.529907  5.107781e+09  1692.702031  1641.832219             0   \n",
       "367  1660.974365  4.639231e+09  1691.457809  1644.777164             0   \n",
       "368  1694.551758  8.636997e+09  1691.579140  1652.434794             1   \n",
       "369  1695.988525  5.427683e+09  1691.752057  1659.135368             1   \n",
       "370  1707.251343  6.694156e+09  1692.359872  1666.537826             1   \n",
       "371  1700.380371  3.450084e+09  1692.674402  1671.744371             1   \n",
       "372          NaN           NaN  1692.674402  1671.744371             0   \n",
       "373  1787.636108  1.006666e+10  1696.544196  1692.242229             1   \n",
       "\n",
       "     signal_ema12  y  \n",
       "364             0  1  \n",
       "365             0  1  \n",
       "366             1  1  \n",
       "367             1  1  \n",
       "368             1  1  \n",
       "369             1  1  \n",
       "370             1  0  \n",
       "371             1  0  \n",
       "372             0  0  \n",
       "373             1  0  "
      ]
     },
     "execution_count": 7,
     "metadata": {},
     "output_type": "execute_result"
    }
   ],
   "source": [
    "df.tail(10)"
   ]
  },
  {
   "cell_type": "code",
   "execution_count": 8,
   "id": "bdf9fed8",
   "metadata": {},
   "outputs": [
    {
     "data": {
      "text/plain": [
       "Date            0\n",
       "Open            1\n",
       "High            1\n",
       "Low             1\n",
       "Close           1\n",
       "Adj Close       1\n",
       "Volume          1\n",
       "close_50        0\n",
       "close_12        0\n",
       "signal_ema50    0\n",
       "signal_ema12    0\n",
       "y               0\n",
       "dtype: int64"
      ]
     },
     "execution_count": 8,
     "metadata": {},
     "output_type": "execute_result"
    }
   ],
   "source": [
    "df.apply(lambda x: x.isnull().sum())"
   ]
  },
  {
   "cell_type": "code",
   "execution_count": 9,
   "id": "b0f76f2c",
   "metadata": {},
   "outputs": [
    {
     "data": {
      "text/html": [
       "<div>\n",
       "<style scoped>\n",
       "    .dataframe tbody tr th:only-of-type {\n",
       "        vertical-align: middle;\n",
       "    }\n",
       "\n",
       "    .dataframe tbody tr th {\n",
       "        vertical-align: top;\n",
       "    }\n",
       "\n",
       "    .dataframe thead th {\n",
       "        text-align: right;\n",
       "    }\n",
       "</style>\n",
       "<table border=\"1\" class=\"dataframe\">\n",
       "  <thead>\n",
       "    <tr style=\"text-align: right;\">\n",
       "      <th></th>\n",
       "      <th>Date</th>\n",
       "      <th>Open</th>\n",
       "      <th>High</th>\n",
       "      <th>Low</th>\n",
       "      <th>Close</th>\n",
       "      <th>Adj Close</th>\n",
       "      <th>Volume</th>\n",
       "      <th>close_50</th>\n",
       "      <th>close_12</th>\n",
       "      <th>signal_ema50</th>\n",
       "      <th>signal_ema12</th>\n",
       "      <th>y</th>\n",
       "    </tr>\n",
       "  </thead>\n",
       "  <tbody>\n",
       "    <tr>\n",
       "      <th>372</th>\n",
       "      <td>2023-01-08</td>\n",
       "      <td>NaN</td>\n",
       "      <td>NaN</td>\n",
       "      <td>NaN</td>\n",
       "      <td>NaN</td>\n",
       "      <td>NaN</td>\n",
       "      <td>NaN</td>\n",
       "      <td>1692.674402</td>\n",
       "      <td>1671.744371</td>\n",
       "      <td>0</td>\n",
       "      <td>0</td>\n",
       "      <td>0</td>\n",
       "    </tr>\n",
       "  </tbody>\n",
       "</table>\n",
       "</div>"
      ],
      "text/plain": [
       "          Date  Open  High  Low  Close  Adj Close  Volume     close_50  \\\n",
       "372 2023-01-08   NaN   NaN  NaN    NaN        NaN     NaN  1692.674402   \n",
       "\n",
       "        close_12  signal_ema50  signal_ema12  y  \n",
       "372  1671.744371             0             0  0  "
      ]
     },
     "execution_count": 9,
     "metadata": {},
     "output_type": "execute_result"
    }
   ],
   "source": [
    "df[df.Open.isnull()]"
   ]
  },
  {
   "cell_type": "code",
   "execution_count": 10,
   "id": "9bc934bb",
   "metadata": {},
   "outputs": [
    {
     "data": {
      "text/plain": [
       "(374, 12)"
      ]
     },
     "execution_count": 10,
     "metadata": {},
     "output_type": "execute_result"
    }
   ],
   "source": [
    "df.shape"
   ]
  },
  {
   "cell_type": "code",
   "execution_count": 11,
   "id": "3e7ae833",
   "metadata": {},
   "outputs": [
    {
     "data": {
      "text/plain": [
       "(373, 12)"
      ]
     },
     "execution_count": 11,
     "metadata": {},
     "output_type": "execute_result"
    }
   ],
   "source": [
    "df.dropna(inplace=True)\n",
    "df.shape"
   ]
  },
  {
   "cell_type": "code",
   "execution_count": 12,
   "id": "62e2f328",
   "metadata": {},
   "outputs": [],
   "source": [
    "df.drop(['Date','Adj Close'], axis=1, inplace=True)\n"
   ]
  },
  {
   "cell_type": "code",
   "execution_count": 13,
   "id": "9c3dc8da",
   "metadata": {},
   "outputs": [
    {
     "data": {
      "text/html": [
       "<div>\n",
       "<style scoped>\n",
       "    .dataframe tbody tr th:only-of-type {\n",
       "        vertical-align: middle;\n",
       "    }\n",
       "\n",
       "    .dataframe tbody tr th {\n",
       "        vertical-align: top;\n",
       "    }\n",
       "\n",
       "    .dataframe thead th {\n",
       "        text-align: right;\n",
       "    }\n",
       "</style>\n",
       "<table border=\"1\" class=\"dataframe\">\n",
       "  <thead>\n",
       "    <tr style=\"text-align: right;\">\n",
       "      <th></th>\n",
       "      <th>Open</th>\n",
       "      <th>High</th>\n",
       "      <th>Low</th>\n",
       "      <th>Close</th>\n",
       "      <th>Volume</th>\n",
       "      <th>close_50</th>\n",
       "      <th>close_12</th>\n",
       "      <th>signal_ema50</th>\n",
       "      <th>signal_ema12</th>\n",
       "      <th>y</th>\n",
       "    </tr>\n",
       "  </thead>\n",
       "  <tbody>\n",
       "    <tr>\n",
       "      <th>0</th>\n",
       "      <td>4655.555664</td>\n",
       "      <td>4765.364746</td>\n",
       "      <td>4654.594238</td>\n",
       "      <td>4765.085449</td>\n",
       "      <td>1.235759e+10</td>\n",
       "      <td>4765.085449</td>\n",
       "      <td>4765.085449</td>\n",
       "      <td>0</td>\n",
       "      <td>0</td>\n",
       "      <td>1</td>\n",
       "    </tr>\n",
       "    <tr>\n",
       "      <th>1</th>\n",
       "      <td>4764.581543</td>\n",
       "      <td>4842.118652</td>\n",
       "      <td>4711.566406</td>\n",
       "      <td>4848.099121</td>\n",
       "      <td>1.250961e+10</td>\n",
       "      <td>4768.340887</td>\n",
       "      <td>4777.856783</td>\n",
       "      <td>1</td>\n",
       "      <td>1</td>\n",
       "      <td>0</td>\n",
       "    </tr>\n",
       "    <tr>\n",
       "      <th>2</th>\n",
       "      <td>4848.062012</td>\n",
       "      <td>4888.744141</td>\n",
       "      <td>4717.070801</td>\n",
       "      <td>4796.455566</td>\n",
       "      <td>1.540523e+10</td>\n",
       "      <td>4769.443424</td>\n",
       "      <td>4780.718134</td>\n",
       "      <td>1</td>\n",
       "      <td>1</td>\n",
       "      <td>1</td>\n",
       "    </tr>\n",
       "    <tr>\n",
       "      <th>3</th>\n",
       "      <td>4796.431641</td>\n",
       "      <td>4927.568359</td>\n",
       "      <td>4744.676270</td>\n",
       "      <td>4820.447754</td>\n",
       "      <td>1.782666e+10</td>\n",
       "      <td>4771.443593</td>\n",
       "      <td>4786.830384</td>\n",
       "      <td>1</td>\n",
       "      <td>1</td>\n",
       "      <td>0</td>\n",
       "    </tr>\n",
       "    <tr>\n",
       "      <th>4</th>\n",
       "      <td>4820.717773</td>\n",
       "      <td>4883.027344</td>\n",
       "      <td>4409.953125</td>\n",
       "      <td>4530.520996</td>\n",
       "      <td>2.304742e+10</td>\n",
       "      <td>4761.995648</td>\n",
       "      <td>4747.398170</td>\n",
       "      <td>0</td>\n",
       "      <td>0</td>\n",
       "      <td>0</td>\n",
       "    </tr>\n",
       "  </tbody>\n",
       "</table>\n",
       "</div>"
      ],
      "text/plain": [
       "          Open         High          Low        Close        Volume  \\\n",
       "0  4655.555664  4765.364746  4654.594238  4765.085449  1.235759e+10   \n",
       "1  4764.581543  4842.118652  4711.566406  4848.099121  1.250961e+10   \n",
       "2  4848.062012  4888.744141  4717.070801  4796.455566  1.540523e+10   \n",
       "3  4796.431641  4927.568359  4744.676270  4820.447754  1.782666e+10   \n",
       "4  4820.717773  4883.027344  4409.953125  4530.520996  2.304742e+10   \n",
       "\n",
       "      close_50     close_12  signal_ema50  signal_ema12  y  \n",
       "0  4765.085449  4765.085449             0             0  1  \n",
       "1  4768.340887  4777.856783             1             1  0  \n",
       "2  4769.443424  4780.718134             1             1  1  \n",
       "3  4771.443593  4786.830384             1             1  0  \n",
       "4  4761.995648  4747.398170             0             0  0  "
      ]
     },
     "execution_count": 13,
     "metadata": {},
     "output_type": "execute_result"
    }
   ],
   "source": [
    "df.head()"
   ]
  },
  {
   "cell_type": "code",
   "execution_count": 14,
   "id": "35832558",
   "metadata": {},
   "outputs": [
    {
     "name": "stdout",
     "output_type": "stream",
     "text": [
      "(298, 9) (298,) (75, 9) (75,)\n"
     ]
    }
   ],
   "source": [
    "# split into train and test sets\n",
    "values = df.values\n",
    "#n_train_hours = 365 * 24\n",
    "train = values[:round(0.8*values.shape[0]), :]\n",
    "test = values[round(0.8*values.shape[0]):, :]\n",
    "# split into input and outputs\n",
    "train_X, train_y = train[:, :-1], train[:, -1]\n",
    "test_X, test_y = test[:, :-1], test[:, -1]\n",
    "# reshape input to be 3D [samples, timesteps, features]\n",
    "\n",
    "\n",
    "print(train_X.shape, train_y.shape, test_X.shape, test_y.shape)"
   ]
  },
  {
   "cell_type": "code",
   "execution_count": 15,
   "id": "2d8a25fc",
   "metadata": {},
   "outputs": [
    {
     "data": {
      "text/plain": [
       "0.5066666666666667"
      ]
     },
     "execution_count": 15,
     "metadata": {},
     "output_type": "execute_result"
    }
   ],
   "source": [
    "from sklearn.linear_model import LogisticRegression\n",
    "from sklearn.metrics import accuracy_score\n",
    "\n",
    "model = LogisticRegression()\n",
    "model.fit(train_X, train_y)\n",
    "y_pred = model.predict(test_X)\n",
    "acc_base_logreg = accuracy_score(test_y, y_pred)\n",
    "acc_base_logreg"
   ]
  },
  {
   "cell_type": "code",
   "execution_count": 16,
   "id": "3ce5821b",
   "metadata": {},
   "outputs": [
    {
     "data": {
      "text/plain": [
       "{'n_estimators': [200, 400, 600, 800, 1000, 1200, 1400, 1600, 1800, 2000],\n",
       " 'max_features': ['auto', 'sqrt'],\n",
       " 'max_depth': [5, 6, 7, 8, 9, 10, None],\n",
       " 'bootstrap': [True, False]}"
      ]
     },
     "execution_count": 16,
     "metadata": {},
     "output_type": "execute_result"
    }
   ],
   "source": [
    "from sklearn.ensemble import RandomForestClassifier\n",
    "from sklearn.model_selection import RandomizedSearchCV\n",
    "#from skopt import BayesSearchCV\n",
    "\n",
    "\n",
    "# Number of trees in random forest\n",
    "import numpy as np\n",
    "n_estimators = [int(x) for x in np.linspace(start = 200, stop = 2000, num = 10)]\n",
    "# Number of features to consider at every split\n",
    "max_features = ['auto', 'sqrt']\n",
    "# Maximum number of levels in tree\n",
    "max_depth = [int(x) for x in np.linspace(5, 10, num = 6)]\n",
    "max_depth.append(None)\n",
    "# Minimum number of samples required to split a node\n",
    "min_samples_split = [2, 5, 10]\n",
    "# Minimum number of samples required at each leaf node\n",
    "min_samples_leaf = [1, 2, 4]\n",
    "# Method of selecting samples for training each tree\n",
    "bootstrap = [True, False]# Create the random grid\n",
    "\n",
    "random_grid = {'n_estimators': n_estimators,\n",
    "               'max_features': max_features,\n",
    "               'max_depth': max_depth,\n",
    "               #'min_samples_split': min_samples_split,\n",
    "               #'min_samples_leaf': min_samples_leaf,\n",
    "               'bootstrap': bootstrap}\n",
    "random_grid\n",
    "\n"
   ]
  },
  {
   "cell_type": "code",
   "execution_count": 17,
   "id": "4ce1a07e",
   "metadata": {},
   "outputs": [
    {
     "data": {
      "text/plain": [
       "'\\nrf = RandomForestClassifier()\\nrf_random = RandomizedSearchCV(estimator = rf, param_distributions = random_grid, n_iter = 20, cv = 3, verbose=2, random_state=42, n_jobs = -1)# Fit the random search model\\nrf_random.fit(train_X, train_y)\\nrf_random.best_params_\\n\\ny_pred = rf_random.predict(test_X)\\n\\nacc_tuned = accuracy_score(y_pred, test_y)\\n\\nrf = RandomForestClassifier(n_estimators = 100, random_state = 0)\\nrf.fit(train_X, train_y)\\ny_pred = rf.predict(test_X)\\nacc_base = accuracy_score(test_y, y_pred)\\n'"
      ]
     },
     "execution_count": 17,
     "metadata": {},
     "output_type": "execute_result"
    }
   ],
   "source": [
    "'''\n",
    "rf = RandomForestClassifier()\n",
    "rf_random = RandomizedSearchCV(estimator = rf, param_distributions = random_grid, n_iter = 20, cv = 3, verbose=2, random_state=42, n_jobs = -1)# Fit the random search model\n",
    "rf_random.fit(train_X, train_y)\n",
    "rf_random.best_params_\n",
    "\n",
    "y_pred = rf_random.predict(test_X)\n",
    "\n",
    "acc_tuned = accuracy_score(y_pred, test_y)\n",
    "\n",
    "rf = RandomForestClassifier(n_estimators = 100, random_state = 0)\n",
    "rf.fit(train_X, train_y)\n",
    "y_pred = rf.predict(test_X)\n",
    "acc_base = accuracy_score(test_y, y_pred)\n",
    "'''"
   ]
  },
  {
   "cell_type": "code",
   "execution_count": 18,
   "id": "c2b75ef4",
   "metadata": {},
   "outputs": [
    {
     "data": {
      "text/plain": [
       "0.44"
      ]
     },
     "execution_count": 18,
     "metadata": {},
     "output_type": "execute_result"
    }
   ],
   "source": [
    "rf = RandomForestClassifier(n_estimators = 100, random_state = 0)\n",
    "rf.fit(train_X, train_y)\n",
    "y_pred = rf.predict(test_X)\n",
    "accuracy_score(test_y, y_pred)"
   ]
  },
  {
   "cell_type": "code",
   "execution_count": 19,
   "id": "e2c661d7",
   "metadata": {},
   "outputs": [
    {
     "data": {
      "text/plain": [
       "array([0., 1., 1., 0., 0., 1., 0., 1., 1., 0., 0., 0., 0., 0., 1., 0., 0.,\n",
       "       0., 1., 1., 0., 0., 1., 1., 0., 0., 1., 1., 1., 1., 1., 0., 0., 1.,\n",
       "       1., 0., 1., 0., 1., 0., 1., 0., 1., 0., 1., 0., 1., 1., 0., 0., 0.,\n",
       "       1., 0., 0., 1., 0., 1., 1., 1., 0., 1., 0., 0., 1., 0., 0., 1., 1.,\n",
       "       1., 1., 1., 1., 0., 0., 0.])"
      ]
     },
     "execution_count": 19,
     "metadata": {},
     "output_type": "execute_result"
    }
   ],
   "source": [
    "test_y"
   ]
  },
  {
   "cell_type": "code",
   "execution_count": 20,
   "id": "53c6f37c",
   "metadata": {},
   "outputs": [],
   "source": [
    "#train_y"
   ]
  },
  {
   "cell_type": "code",
   "execution_count": 21,
   "id": "e2bbf916",
   "metadata": {},
   "outputs": [
    {
     "name": "stdout",
     "output_type": "stream",
     "text": [
      "[0.4        0.38383838 0.50505051]\n"
     ]
    },
    {
     "data": {
      "text/plain": [
       "0.4296296296296296"
      ]
     },
     "execution_count": 21,
     "metadata": {},
     "output_type": "execute_result"
    }
   ],
   "source": [
    "from xgboost import XGBClassifier\n",
    "model = XGBClassifier(subsample = 0.9)\n",
    "#model = XGBClassifier()\n",
    "#model.fit(train_X, train_y)\n",
    "from sklearn.model_selection import cross_val_score\n",
    "scores = cross_val_score(model, train_X, train_y, scoring='accuracy',\n",
    "                         cv=3, n_jobs=-1)\n",
    "print(scores)\n",
    "scores.mean()\n",
    "#y_pred = model.predict(test_X)\n",
    "#acc_xgb = accuracy_score(test_y, y_pred)"
   ]
  },
  {
   "cell_type": "code",
   "execution_count": 22,
   "id": "485313c7",
   "metadata": {},
   "outputs": [
    {
     "data": {
      "text/plain": [
       "0.5703703703703703"
      ]
     },
     "execution_count": 22,
     "metadata": {},
     "output_type": "execute_result"
    }
   ],
   "source": [
    "import numpy as np\n",
    "np.mean([(1-score) for score in scores])"
   ]
  },
  {
   "cell_type": "code",
   "execution_count": null,
   "id": "d59aad93",
   "metadata": {},
   "outputs": [],
   "source": []
  },
  {
   "cell_type": "code",
   "execution_count": 23,
   "id": "27ef6477",
   "metadata": {},
   "outputs": [],
   "source": [
    "import xgboost as xgb\n"
   ]
  },
  {
   "cell_type": "code",
   "execution_count": 24,
   "id": "fe6462fc",
   "metadata": {},
   "outputs": [
    {
     "data": {
      "text/plain": [
       "\"\\nfrom sklearn.datasets import make_classification\\nnum_boost_round = 100\\nnum_classes = 3\\nX, y = make_classification(n_samples=1000, n_informative=5,\\n                           n_classes=num_classes)\\ndtrain = xgb.DMatrix(data=X, label=y)\\ndtest = xgb.DMatrix(data=X)\\n\\n# total number of built trees is num_parallel_tree * num_classes * num_boost_round\\n\\n# We build a boosted random forest for classification here.\\nbooster = xgb.train({\\n    'num_parallel_tree': 4, 'subsample': 0.5, 'num_class': 3},\\n                    num_boost_round=num_boost_round, dtrain=dtrain)\\n\\n# This is the sliced model, containing [3, 7) forests\\n# step is also supported with some limitations like negative step is invalid.\\nsliced: xgb.Booster = booster[3:7]\\n\\n# Access individual tree layer\\ntrees = [_ for _ in booster]\\nassert len(trees) == num_boost_round\\n\""
      ]
     },
     "execution_count": 24,
     "metadata": {},
     "output_type": "execute_result"
    }
   ],
   "source": [
    "'''\n",
    "from sklearn.datasets import make_classification\n",
    "num_boost_round = 100\n",
    "num_classes = 3\n",
    "X, y = make_classification(n_samples=1000, n_informative=5,\n",
    "                           n_classes=num_classes)\n",
    "dtrain = xgb.DMatrix(data=X, label=y)\n",
    "dtest = xgb.DMatrix(data=X)\n",
    "\n",
    "# total number of built trees is num_parallel_tree * num_classes * num_boost_round\n",
    "\n",
    "# We build a boosted random forest for classification here.\n",
    "booster = xgb.train({\n",
    "    'num_parallel_tree': 4, 'subsample': 0.5, 'num_class': 3},\n",
    "                    num_boost_round=num_boost_round, dtrain=dtrain)\n",
    "\n",
    "# This is the sliced model, containing [3, 7) forests\n",
    "# step is also supported with some limitations like negative step is invalid.\n",
    "sliced: xgb.Booster = booster[3:7]\n",
    "\n",
    "# Access individual tree layer\n",
    "trees = [_ for _ in booster]\n",
    "assert len(trees) == num_boost_round\n",
    "'''"
   ]
  },
  {
   "cell_type": "code",
   "execution_count": 25,
   "id": "0378ed69",
   "metadata": {},
   "outputs": [],
   "source": [
    "#booster.predict(dtest)"
   ]
  },
  {
   "cell_type": "code",
   "execution_count": 26,
   "id": "1486abe4",
   "metadata": {},
   "outputs": [
    {
     "data": {
      "text/plain": [
       "0.52"
      ]
     },
     "execution_count": 26,
     "metadata": {},
     "output_type": "execute_result"
    }
   ],
   "source": [
    "num_boost_round = 100\n",
    "dtrain = xgb.DMatrix(data=train_X, label=train_y)\n",
    "dtest = xgb.DMatrix(data = test_X)\n",
    "booster = xgb.train({\n",
    "    'num_parallel_tree': 10, 'subsample':0.9, 'num_class': 2},\n",
    "                    num_boost_round=num_boost_round, dtrain=dtrain)\n",
    "y_pred = booster.predict(dtest)\n",
    "acc_xgb = accuracy_score(test_y, y_pred)\n",
    "acc_xgb\n",
    "#y_pred"
   ]
  },
  {
   "cell_type": "code",
   "execution_count": 27,
   "id": "70ba1469",
   "metadata": {},
   "outputs": [
    {
     "data": {
      "text/plain": [
       "'\\nparam_space = dict(n_estimators=n_estimators,\\n                   max_features = max_features,\\n                   max_depth = max_depth,\\n                   bootstrap = bootstrap\\n                   )\\n'"
      ]
     },
     "execution_count": 27,
     "metadata": {},
     "output_type": "execute_result"
    }
   ],
   "source": [
    "'''\n",
    "param_space = dict(n_estimators=n_estimators,\n",
    "                   max_features = max_features,\n",
    "                   max_depth = max_depth,\n",
    "                   bootstrap = bootstrap\n",
    "                   )\n",
    "'''"
   ]
  },
  {
   "cell_type": "markdown",
   "id": "0092df18",
   "metadata": {},
   "source": [
    "## Do hyperpameter tuning using hyperopt (bayesian opt)"
   ]
  },
  {
   "cell_type": "code",
   "execution_count": 28,
   "id": "abf8e041",
   "metadata": {},
   "outputs": [],
   "source": [
    "from hyperopt import STATUS_OK, Trials, fmin, hp, tpe"
   ]
  },
  {
   "cell_type": "code",
   "execution_count": 29,
   "id": "dc0090a7",
   "metadata": {},
   "outputs": [],
   "source": [
    "space={'max_depth': hp.quniform(\"max_depth\", 3, 18, 1),\n",
    "        'gamma': hp.uniform ('gamma', 1,9),\n",
    "        'reg_alpha' : hp.quniform('reg_alpha', 40,180,1),\n",
    "        'reg_lambda' : hp.uniform('reg_lambda', 0,1),\n",
    "        'colsample_bytree' : hp.uniform('colsample_bytree', 0.5,1),\n",
    "        'min_child_weight' : hp.quniform('min_child_weight', 0, 10, 1),\n",
    "        #'n_estimators': 180,\n",
    "        'seed': 0\n",
    "    }"
   ]
  },
  {
   "cell_type": "code",
   "execution_count": 30,
   "id": "5cac5b36",
   "metadata": {},
   "outputs": [],
   "source": [
    "def objective(space):\n",
    "    model=xgb.XGBClassifier(\n",
    "                    max_depth = int(space['max_depth']), gamma = space['gamma'],\n",
    "                    reg_alpha = int(space['reg_alpha']),min_child_weight=int(space['min_child_weight']),\n",
    "                    colsample_bytree=int(space['colsample_bytree']))\n",
    "    \n",
    "    scores = cross_val_score(model, train_X, train_y, scoring='accuracy',\n",
    "                         cv=3, n_jobs=-1)   \n",
    "\n",
    "\n",
    "    accuracy = scores.mean()\n",
    "    import numpy as np\n",
    "    loss = np.mean([(1-score) for score in scores])\n",
    "    print (\"SCORE:\", accuracy)\n",
    "    return {'loss': loss, 'status': STATUS_OK }"
   ]
  },
  {
   "cell_type": "code",
   "execution_count": 31,
   "id": "f46081ac",
   "metadata": {},
   "outputs": [
    {
     "data": {
      "text/plain": [
       "'\\ndef objective(space):\\n    clf=xgb.XGBClassifier(\\n                    max_depth = int(space[\\'max_depth\\']), gamma = space[\\'gamma\\'],\\n                    reg_alpha = int(space[\\'reg_alpha\\']),min_child_weight=int(space[\\'min_child_weight\\']),\\n                    colsample_bytree=int(space[\\'colsample_bytree\\']))\\n    \\n    evaluation = [( train_X, train_y), (test_X, test_y)]\\n    \\n    clf.fit(train_X, train_y,\\n            eval_set=evaluation, eval_metric=\"auc\",\\n            early_stopping_rounds=10,verbose=False)\\n    \\n    pred = clf.predict(test_X)\\n    accuracy = accuracy_score(test_y, pred>0.5)\\n    #accuracy = scores.mean()\\n    print (\"SCORE:\", accuracy)\\n    return {\\'loss\\': -accuracy, \\'status\\': STATUS_OK }\\n'"
      ]
     },
     "execution_count": 31,
     "metadata": {},
     "output_type": "execute_result"
    }
   ],
   "source": [
    "'''\n",
    "def objective(space):\n",
    "    clf=xgb.XGBClassifier(\n",
    "                    max_depth = int(space['max_depth']), gamma = space['gamma'],\n",
    "                    reg_alpha = int(space['reg_alpha']),min_child_weight=int(space['min_child_weight']),\n",
    "                    colsample_bytree=int(space['colsample_bytree']))\n",
    "    \n",
    "    evaluation = [( train_X, train_y), (test_X, test_y)]\n",
    "    \n",
    "    clf.fit(train_X, train_y,\n",
    "            eval_set=evaluation, eval_metric=\"auc\",\n",
    "            early_stopping_rounds=10,verbose=False)\n",
    "    \n",
    "    pred = clf.predict(test_X)\n",
    "    accuracy = accuracy_score(test_y, pred>0.5)\n",
    "    #accuracy = scores.mean()\n",
    "    print (\"SCORE:\", accuracy)\n",
    "    return {'loss': -accuracy, 'status': STATUS_OK }\n",
    "'''"
   ]
  },
  {
   "cell_type": "code",
   "execution_count": 32,
   "id": "179a9807",
   "metadata": {},
   "outputs": [
    {
     "name": "stdout",
     "output_type": "stream",
     "text": [
      "SCORE:                                                                                                                 \n",
      "0.5134343434343435                                                                                                     \n",
      "SCORE:                                                                                                                 \n",
      "0.5134343434343435                                                                                                     \n",
      "SCORE:                                                                                                                 \n",
      "0.5134343434343435                                                                                                     \n",
      "SCORE:                                                                                                                 \n",
      "0.5134343434343435                                                                                                     \n",
      "SCORE:                                                                                                                 \n",
      "0.5134343434343435                                                                                                     \n",
      "SCORE:                                                                                                                 \n",
      "0.5134343434343435                                                                                                     \n",
      "SCORE:                                                                                                                 \n",
      "0.5134343434343435                                                                                                     \n",
      "SCORE:                                                                                                                 \n",
      "0.5134343434343435                                                                                                     \n",
      "SCORE:                                                                                                                 \n",
      "0.5134343434343435                                                                                                     \n",
      "SCORE:                                                                                                                 \n",
      "0.5134343434343435                                                                                                     \n",
      "SCORE:                                                                                                                 \n",
      "0.5134343434343435                                                                                                     \n",
      "SCORE:                                                                                                                 \n",
      "0.5134343434343435                                                                                                     \n",
      "SCORE:                                                                                                                 \n",
      "0.5134343434343435                                                                                                     \n",
      "SCORE:                                                                                                                 \n",
      "0.5134343434343435                                                                                                     \n",
      "SCORE:                                                                                                                 \n",
      "0.5134343434343435                                                                                                     \n",
      "SCORE:                                                                                                                 \n",
      "0.5134343434343435                                                                                                     \n",
      "SCORE:                                                                                                                 \n",
      "0.5134343434343435                                                                                                     \n",
      "SCORE:                                                                                                                 \n",
      "0.5134343434343435                                                                                                     \n",
      "SCORE:                                                                                                                 \n",
      "0.5134343434343435                                                                                                     \n",
      "SCORE:                                                                                                                 \n",
      "0.5134343434343435                                                                                                     \n",
      "SCORE:                                                                                                                 \n",
      "0.5134343434343435                                                                                                     \n",
      "SCORE:                                                                                                                 \n",
      "0.5134343434343435                                                                                                     \n",
      "SCORE:                                                                                                                 \n",
      "0.5134343434343435                                                                                                     \n",
      "SCORE:                                                                                                                 \n",
      "0.5134343434343435                                                                                                     \n",
      "SCORE:                                                                                                                 \n",
      "0.5134343434343435                                                                                                     \n",
      "SCORE:                                                                                                                 \n",
      "0.5134343434343435                                                                                                     \n",
      "SCORE:                                                                                                                 \n",
      "0.5134343434343435                                                                                                     \n",
      "SCORE:                                                                                                                 \n",
      "0.5134343434343435                                                                                                     \n",
      "SCORE:                                                                                                                 \n",
      "0.5134343434343435                                                                                                     \n",
      "SCORE:                                                                                                                 \n",
      "0.5134343434343435                                                                                                     \n",
      "SCORE:                                                                                                                 \n",
      "0.5134343434343435                                                                                                     \n",
      "SCORE:                                                                                                                 \n",
      "0.5134343434343435                                                                                                     \n",
      "SCORE:                                                                                                                 \n",
      "0.5134343434343435                                                                                                     \n",
      "SCORE:                                                                                                                 \n",
      "0.5134343434343435                                                                                                     \n"
     ]
    },
    {
     "name": "stdout",
     "output_type": "stream",
     "text": [
      "SCORE:                                                                                                                 \n",
      "0.5134343434343435                                                                                                     \n",
      "SCORE:                                                                                                                 \n",
      "0.5134343434343435                                                                                                     \n",
      "SCORE:                                                                                                                 \n",
      "0.5134343434343435                                                                                                     \n",
      "SCORE:                                                                                                                 \n",
      "0.5134343434343435                                                                                                     \n",
      "SCORE:                                                                                                                 \n",
      "0.5134343434343435                                                                                                     \n",
      "SCORE:                                                                                                                 \n",
      "0.5134343434343435                                                                                                     \n",
      "SCORE:                                                                                                                 \n",
      "0.5134343434343435                                                                                                     \n",
      "SCORE:                                                                                                                 \n",
      "0.5134343434343435                                                                                                     \n",
      "SCORE:                                                                                                                 \n",
      "0.5134343434343435                                                                                                     \n",
      "SCORE:                                                                                                                 \n",
      "0.5134343434343435                                                                                                     \n",
      "SCORE:                                                                                                                 \n",
      "0.5134343434343435                                                                                                     \n",
      "SCORE:                                                                                                                 \n",
      "0.5134343434343435                                                                                                     \n",
      "SCORE:                                                                                                                 \n",
      "0.5134343434343435                                                                                                     \n",
      "SCORE:                                                                                                                 \n",
      "0.5134343434343435                                                                                                     \n",
      "SCORE:                                                                                                                 \n",
      "0.5134343434343435                                                                                                     \n",
      "SCORE:                                                                                                                 \n",
      "0.5134343434343435                                                                                                     \n",
      "SCORE:                                                                                                                 \n",
      "0.5134343434343435                                                                                                     \n",
      "SCORE:                                                                                                                 \n",
      "0.5134343434343435                                                                                                     \n",
      "SCORE:                                                                                                                 \n",
      "0.5134343434343435                                                                                                     \n",
      "SCORE:                                                                                                                 \n",
      "0.5134343434343435                                                                                                     \n",
      "SCORE:                                                                                                                 \n",
      "0.5134343434343435                                                                                                     \n",
      "SCORE:                                                                                                                 \n",
      "0.5134343434343435                                                                                                     \n",
      "SCORE:                                                                                                                 \n",
      "0.5134343434343435                                                                                                     \n",
      "SCORE:                                                                                                                 \n",
      "0.5134343434343435                                                                                                     \n",
      "SCORE:                                                                                                                 \n",
      "0.5134343434343435                                                                                                     \n",
      "SCORE:                                                                                                                 \n",
      "0.5134343434343435                                                                                                     \n",
      "SCORE:                                                                                                                 \n",
      "0.5134343434343435                                                                                                     \n",
      "SCORE:                                                                                                                 \n",
      "0.5134343434343435                                                                                                     \n",
      "SCORE:                                                                                                                 \n",
      "0.5134343434343435                                                                                                     \n",
      "SCORE:                                                                                                                 \n",
      "0.5134343434343435                                                                                                     \n",
      "SCORE:                                                                                                                 \n",
      "0.5134343434343435                                                                                                     \n",
      "SCORE:                                                                                                                 \n",
      "0.5134343434343435                                                                                                     \n",
      "SCORE:                                                                                                                 \n",
      "0.5134343434343435                                                                                                     \n",
      "SCORE:                                                                                                                 \n",
      "0.5134343434343435                                                                                                     \n"
     ]
    },
    {
     "name": "stdout",
     "output_type": "stream",
     "text": [
      "SCORE:                                                                                                                 \n",
      "0.5134343434343435                                                                                                     \n",
      "SCORE:                                                                                                                 \n",
      "0.5134343434343435                                                                                                     \n",
      "SCORE:                                                                                                                 \n",
      "0.5134343434343435                                                                                                     \n",
      "SCORE:                                                                                                                 \n",
      "0.5134343434343435                                                                                                     \n",
      "SCORE:                                                                                                                 \n",
      "0.5134343434343435                                                                                                     \n",
      "SCORE:                                                                                                                 \n",
      "0.5134343434343435                                                                                                     \n",
      "SCORE:                                                                                                                 \n",
      "0.5134343434343435                                                                                                     \n",
      "SCORE:                                                                                                                 \n",
      "0.5134343434343435                                                                                                     \n",
      "SCORE:                                                                                                                 \n",
      "0.5134343434343435                                                                                                     \n",
      "SCORE:                                                                                                                 \n",
      "0.5134343434343435                                                                                                     \n",
      "SCORE:                                                                                                                 \n",
      "0.5134343434343435                                                                                                     \n",
      "SCORE:                                                                                                                 \n",
      "0.5134343434343435                                                                                                     \n",
      "SCORE:                                                                                                                 \n",
      "0.5134343434343435                                                                                                     \n",
      "SCORE:                                                                                                                 \n",
      "0.5134343434343435                                                                                                     \n",
      "SCORE:                                                                                                                 \n",
      "0.5134343434343435                                                                                                     \n",
      "SCORE:                                                                                                                 \n",
      "0.5134343434343435                                                                                                     \n",
      "SCORE:                                                                                                                 \n",
      "0.5134343434343435                                                                                                     \n",
      "SCORE:                                                                                                                 \n",
      "0.5134343434343435                                                                                                     \n",
      "SCORE:                                                                                                                 \n",
      "0.5134343434343435                                                                                                     \n",
      "SCORE:                                                                                                                 \n",
      "0.5134343434343435                                                                                                     \n",
      "SCORE:                                                                                                                 \n",
      "0.5134343434343435                                                                                                     \n",
      "SCORE:                                                                                                                 \n",
      "0.5134343434343435                                                                                                     \n",
      "SCORE:                                                                                                                 \n",
      "0.5134343434343435                                                                                                     \n",
      "SCORE:                                                                                                                 \n",
      "0.5134343434343435                                                                                                     \n",
      "SCORE:                                                                                                                 \n",
      "0.5134343434343435                                                                                                     \n",
      "SCORE:                                                                                                                 \n",
      "0.5134343434343435                                                                                                     \n",
      "SCORE:                                                                                                                 \n",
      "0.5134343434343435                                                                                                     \n",
      "SCORE:                                                                                                                 \n",
      "0.5134343434343435                                                                                                     \n",
      "SCORE:                                                                                                                 \n",
      "0.5134343434343435                                                                                                     \n",
      "SCORE:                                                                                                                 \n",
      "0.5134343434343435                                                                                                     \n",
      "SCORE:                                                                                                                 \n",
      "0.5134343434343435                                                                                                     \n",
      "SCORE:                                                                                                                 \n",
      "0.5134343434343435                                                                                                     \n",
      "100%|██████████████████████████████████████████████| 100/100 [00:06<00:00, 14.36trial/s, best loss: 0.4865656565656566]\n"
     ]
    }
   ],
   "source": [
    "import warnings\n",
    "warnings.filterwarnings(\"ignore\")\n",
    "\n",
    "trials = Trials()\n",
    "\n",
    "best_hyperparams = fmin(fn = objective,\n",
    "                        space = space,\n",
    "                        algo = tpe.suggest,\n",
    "                        max_evals = 100,\n",
    "                        trials = trials)"
   ]
  },
  {
   "cell_type": "code",
   "execution_count": 33,
   "id": "67de9200",
   "metadata": {},
   "outputs": [
    {
     "name": "stdout",
     "output_type": "stream",
     "text": [
      "{'colsample_bytree': 0.964431118053989, 'gamma': 8.653994595394607, 'max_depth': 3.0, 'min_child_weight': 6.0, 'reg_alpha': 124.0, 'reg_lambda': 0.27455965648824}\n"
     ]
    }
   ],
   "source": [
    "print(best_hyperparams)"
   ]
  },
  {
   "cell_type": "markdown",
   "id": "715e0595",
   "metadata": {},
   "source": [
    "## Optimizatino of Randomforest"
   ]
  },
  {
   "cell_type": "code",
   "execution_count": 34,
   "id": "c1a3fa36",
   "metadata": {},
   "outputs": [],
   "source": [
    "X_train = train_X\n",
    "y_train = train_y\n",
    "X_validation = test_X\n",
    "y_validation = test_y\n",
    "\n",
    "#import pickle\n",
    "#pickle.dump(x_train, open('x_train'))"
   ]
  },
  {
   "cell_type": "markdown",
   "id": "08973f85",
   "metadata": {},
   "source": [
    "## Bayesian Optimization using MAngo package"
   ]
  },
  {
   "cell_type": "markdown",
   "id": "b5a3c3c6",
   "metadata": {},
   "source": [
    "## Random forest"
   ]
  },
  {
   "cell_type": "code",
   "execution_count": 35,
   "id": "9ed8f07c",
   "metadata": {},
   "outputs": [
    {
     "data": {
      "text/plain": [
       "{'n_estimators': range(100, 1000, 100),\n",
       " 'max_depth': range(3, 10),\n",
       " 'max_features': ['sqrt', 'log2', 'auto'],\n",
       " 'random_state': range(0, 1)}"
      ]
     },
     "execution_count": 35,
     "metadata": {},
     "output_type": "execute_result"
    }
   ],
   "source": [
    "param_space = dict( n_estimators= range(100,1000,100),               \n",
    "                max_depth =  range(3, 10),\n",
    "                max_features = [\"sqrt\", \"log2\", \"auto\"],\n",
    "                random_state = range(0,1))\n",
    "param_space"
   ]
  },
  {
   "cell_type": "code",
   "execution_count": 36,
   "id": "3fb42585",
   "metadata": {},
   "outputs": [],
   "source": [
    "from mango import Tuner, scheduler\n",
    "@scheduler.serial\n",
    "def objective(**params):\n",
    "    \n",
    "    model = RandomForestClassifier(**params)\n",
    "    score = cross_val_score(model, X_train, y_train, cv=3, scoring='accuracy').mean()\n",
    "\n",
    "    return score"
   ]
  },
  {
   "cell_type": "code",
   "execution_count": 37,
   "id": "71a751d4",
   "metadata": {},
   "outputs": [
    {
     "data": {
      "application/vnd.jupyter.widget-view+json": {
       "model_id": "fcb14451ea5b45b49b4cb877c028a493",
       "version_major": 2,
       "version_minor": 0
      },
      "text/plain": [
       "  0%|          | 0/50 [00:00<?, ?it/s]"
      ]
     },
     "metadata": {},
     "output_type": "display_data"
    },
    {
     "name": "stdout",
     "output_type": "stream",
     "text": [
      "The optimisation in series takes 2.0189122438430784 minutes.\n",
      "best parameters: {'random_state': 0, 'n_estimators': 100, 'max_features': 'log2', 'max_depth': 7}\n",
      "best accuracy (RMSE): 0.44656565656565655\n"
     ]
    }
   ],
   "source": [
    "\n",
    "# third step: run the optimisation through Tuner\n",
    "start_time = time.time()\n",
    "tuner = Tuner(param_space, objective, dict(num_iteration=50, initial_random=10))  # Initialize Tuner\n",
    "optimisation_results = tuner.maximize()\n",
    "print(f'The optimisation in series takes {(time.time()-start_time)/60.} minutes.')\n",
    "\n",
    "# Inspect the results\n",
    "print('best parameters:', optimisation_results['best_params'])\n",
    "print('best accuracy (RMSE):', optimisation_results['best_objective'])\n"
   ]
  },
  {
   "cell_type": "code",
   "execution_count": 38,
   "id": "cc916b1a",
   "metadata": {},
   "outputs": [
    {
     "data": {
      "text/plain": [
       "{'random_state': 0,\n",
       " 'n_estimators': 100,\n",
       " 'max_features': 'log2',\n",
       " 'max_depth': 7}"
      ]
     },
     "execution_count": 38,
     "metadata": {},
     "output_type": "execute_result"
    }
   ],
   "source": [
    "optimisation_results['best_params']"
   ]
  },
  {
   "cell_type": "code",
   "execution_count": 39,
   "id": "5ba39e7e",
   "metadata": {},
   "outputs": [
    {
     "name": "stdout",
     "output_type": "stream",
     "text": [
      "accuracy:0.56\n"
     ]
    }
   ],
   "source": [
    "# run the model with the best hyper-parameters on the test set\n",
    "#best_model = RandomForestClassifier(**optimisation_results['best_params'])\n",
    "best_model = RandomForestClassifier(n_estimators = 200, max_depth = 5, max_features = 'log2', random_state=0)\n",
    "best_model.fit(X_train, (y_train))\n",
    "y_pred = best_model.predict(X_validation)\n",
    "print('accuracy:' + str(accuracy_score(y_validation, y_pred)))"
   ]
  },
  {
   "cell_type": "code",
   "execution_count": 40,
   "id": "7f27f0ca",
   "metadata": {},
   "outputs": [],
   "source": [
    "from mango import Tuner, scheduler\n",
    "@scheduler.serial\n",
    "def objective(**params):\n",
    "    \n",
    "    model = RandomForestClassifier(**params)\n",
    "    model.fit(X_train, y_train)\n",
    "    pred = model.predict(X_validation)\n",
    "    score = accuracy_score(pred, y_validation)\n",
    "\n",
    "    return score"
   ]
  },
  {
   "cell_type": "code",
   "execution_count": 41,
   "id": "496b0bf4",
   "metadata": {},
   "outputs": [
    {
     "data": {
      "application/vnd.jupyter.widget-view+json": {
       "model_id": "643e8ae5f7444777b3405f690dbecdb4",
       "version_major": 2,
       "version_minor": 0
      },
      "text/plain": [
       "  0%|          | 0/50 [00:00<?, ?it/s]"
      ]
     },
     "metadata": {},
     "output_type": "display_data"
    },
    {
     "name": "stdout",
     "output_type": "stream",
     "text": [
      "The optimisation in series takes 0.5981462121009826 minutes.\n",
      "best parameters: {'max_depth': 5, 'max_features': 'auto', 'n_estimators': 200, 'random_state': 0}\n",
      "best accuracy (RMSE): 0.56\n"
     ]
    }
   ],
   "source": [
    "\n",
    "# third step: run the optimisation through Tuner\n",
    "start_time = time.time()\n",
    "tuner = Tuner(param_space, objective, dict(num_iteration=50, initial_random=10))  # Initialize Tuner\n",
    "optimisation_results = tuner.maximize()\n",
    "print(f'The optimisation in series takes {(time.time()-start_time)/60.} minutes.')\n",
    "\n",
    "# Inspect the results\n",
    "print('best parameters:', optimisation_results['best_params'])\n",
    "print('best accuracy (RMSE):', optimisation_results['best_objective'])\n"
   ]
  },
  {
   "cell_type": "code",
   "execution_count": 42,
   "id": "c7021423",
   "metadata": {},
   "outputs": [
    {
     "name": "stdout",
     "output_type": "stream",
     "text": [
      "accuracy:0.56\n"
     ]
    }
   ],
   "source": [
    "# run the model with the best hyper-parameters on the test set\n",
    "#best_model = RandomForestClassifier(**optimisation_results['best_params'])\n",
    "best_model = RandomForestClassifier(n_estimators = 200, max_depth = 5, max_features = 'log2', random_state=0)\n",
    "best_model.fit(X_train, (y_train))\n",
    "y_pred = best_model.predict(X_validation)\n",
    "print('accuracy:' + str(accuracy_score(y_validation, y_pred)))"
   ]
  },
  {
   "cell_type": "code",
   "execution_count": 43,
   "id": "9c99ac9d",
   "metadata": {},
   "outputs": [],
   "source": [
    "def objective(list_parameters):\n",
    "\n",
    "    results = []\n",
    "    for hyper_params in list_parameters:\n",
    "        model = RandomForestClassifier(**hyper_params)\n",
    "        model.fit(X_train, y_train) \n",
    "        prediction = model.predict(X_validation)       \n",
    "        score = accuracy_score(prediction, y_validation)\n",
    "        results.append(score)\n",
    "    return results"
   ]
  },
  {
   "cell_type": "code",
   "execution_count": 44,
   "id": "0e104d4a",
   "metadata": {},
   "outputs": [],
   "source": [
    "param_space = {'max_depth': range(3, 10),\n",
    "               'max_features': [\"sqrt\", \"log2\", \"auto\"],\n",
    "               'random_state':range(0,1)}"
   ]
  },
  {
   "cell_type": "code",
   "execution_count": 45,
   "id": "073df9f9",
   "metadata": {},
   "outputs": [
    {
     "data": {
      "application/vnd.jupyter.widget-view+json": {
       "model_id": "b356bc6d66f9493e9db020a261bbe93f",
       "version_major": 2,
       "version_minor": 0
      },
      "text/plain": [
       "  0%|          | 0/20 [00:00<?, ?it/s]"
      ]
     },
     "metadata": {},
     "output_type": "display_data"
    },
    {
     "name": "stdout",
     "output_type": "stream",
     "text": [
      "The optimisation in series takes 0.08085060914357503 minutes.\n",
      "best parameters: {'random_state': 0, 'max_features': 'sqrt', 'max_depth': 5}\n",
      "best accuracy (RMSE): 0.5466666666666666\n"
     ]
    }
   ],
   "source": [
    "# third step: run the optimisation through Tuner\n",
    "start_time = time.time()\n",
    "tuner = Tuner(param_space, objective, dict(num_iteration=20, initial_random=10))  # Initialize Tuner\n",
    "optimisation_results = tuner.maximize()\n",
    "print(f'The optimisation in series takes {(time.time()-start_time)/60.} minutes.')\n",
    "\n",
    "# Inspect the results\n",
    "print('best parameters:', optimisation_results['best_params'])\n",
    "print('best accuracy (RMSE):', optimisation_results['best_objective'])"
   ]
  },
  {
   "cell_type": "code",
   "execution_count": 46,
   "id": "5ba9deef",
   "metadata": {},
   "outputs": [
    {
     "name": "stdout",
     "output_type": "stream",
     "text": [
      "accuracy:0.5466666666666666\n"
     ]
    }
   ],
   "source": [
    "best_model = RandomForestClassifier(**optimisation_results['best_params'])\n",
    "best_model.fit(X_train, (y_train))\n",
    "y_pred = best_model.predict(X_validation)  # to get the real value not in log scale\n",
    "print('accuracy:' + str(accuracy_score(y_validation, y_pred)))"
   ]
  },
  {
   "cell_type": "code",
   "execution_count": 47,
   "id": "12c21818",
   "metadata": {},
   "outputs": [
    {
     "name": "stdout",
     "output_type": "stream",
     "text": [
      "accuracy:0.48\n"
     ]
    }
   ],
   "source": [
    "best_model = RandomForestClassifier()\n",
    "best_model.fit(X_train, (y_train))\n",
    "y_pred = best_model.predict(X_validation)  # to get the real value not in log scale\n",
    "print('accuracy:' + str(accuracy_score(y_validation, y_pred)))"
   ]
  },
  {
   "cell_type": "markdown",
   "id": "16c18b0a",
   "metadata": {},
   "source": [
    "# Bayesian Optimiation of XGBoost"
   ]
  },
  {
   "cell_type": "code",
   "execution_count": 48,
   "id": "37641e6c",
   "metadata": {},
   "outputs": [],
   "source": [
    "from scipy.stats import uniform\n",
    "\n",
    "param_space = {\"learning_rate\": uniform(0, 1),\n",
    "              \"gamma\": uniform(0, 5),\n",
    "              \"max_depth\": range(1,10),\n",
    "              \"n_estimators\": range(1,300),\n",
    "               \"booster\":['gbtree','gblinear','dart'],\n",
    "               \"random_state\":range(0,1)\n",
    "             }\n",
    "\n",
    "#xgb.XGBClassifier()"
   ]
  },
  {
   "cell_type": "code",
   "execution_count": 49,
   "id": "e787f2a5",
   "metadata": {},
   "outputs": [],
   "source": [
    "def objective(args_list):\n",
    "   \n",
    "    results = []\n",
    "    for hyper_par in args_list:\n",
    "        clf = xgb.XGBClassifier(**hyper_par)\n",
    "        result = cross_val_score(clf, X_train, y_train, scoring='accuracy', cv=3).mean()\n",
    "        results.append(result)\n",
    "    return results"
   ]
  },
  {
   "cell_type": "code",
   "execution_count": 50,
   "id": "6264c4e4",
   "metadata": {},
   "outputs": [
    {
     "data": {
      "application/vnd.jupyter.widget-view+json": {
       "model_id": "247659d202f84d6fa2105a8369b29e58",
       "version_major": 2,
       "version_minor": 0
      },
      "text/plain": [
       "  0%|          | 0/50 [00:00<?, ?it/s]"
      ]
     },
     "metadata": {},
     "output_type": "display_data"
    },
    {
     "name": "stdout",
     "output_type": "stream",
     "text": [
      "The optimisation in series takes 2.9450889547665913 minutes.\n"
     ]
    }
   ],
   "source": [
    "import warnings\n",
    "warnings.filterwarnings(\"ignore\")\n",
    "xgb.set_config(verbosity=0)\n",
    "# third step: run the optimisation through Tuner\n",
    "start_time = time.time()\n",
    "tuner = Tuner(param_space, objective, dict(num_iteration=50, initial_random=10))  # Initialize Tuner\n",
    "optimisation_results = tuner.maximize()\n",
    "print(f'The optimisation in series takes {(time.time()-start_time)/60.} minutes.')\n"
   ]
  },
  {
   "cell_type": "code",
   "execution_count": 51,
   "id": "a90b8794",
   "metadata": {},
   "outputs": [
    {
     "name": "stdout",
     "output_type": "stream",
     "text": [
      "best parameters: {'booster': 'gblinear', 'gamma': 1.9906968734927555, 'learning_rate': 0.01230734532352007, 'max_depth': 7, 'n_estimators': 33, 'random_state': 0}\n",
      "best accuracy (RMSE): 0.5134343434343435\n"
     ]
    }
   ],
   "source": [
    "# Inspect the results\n",
    "print('best parameters:', optimisation_results['best_params'])\n",
    "print('best accuracy (RMSE):', optimisation_results['best_objective'])"
   ]
  },
  {
   "cell_type": "code",
   "execution_count": 52,
   "id": "85767a21",
   "metadata": {},
   "outputs": [
    {
     "name": "stdout",
     "output_type": "stream",
     "text": [
      "accuracy:0.5066666666666667\n"
     ]
    }
   ],
   "source": [
    "# run the model with the best hyper-parameters on the test set\n",
    "#best_model = RandomForestClassifier(**optimisation_results['best_params'])\n",
    "best_model = xgb.XGBClassifier(**optimisation_results['best_params'])\n",
    "best_model.fit(X_train, (y_train))\n",
    "y_pred = best_model.predict(X_validation)\n",
    "print('accuracy:' + str(accuracy_score(y_validation, y_pred)))"
   ]
  },
  {
   "cell_type": "code",
   "execution_count": 53,
   "id": "24c55f2a",
   "metadata": {},
   "outputs": [
    {
     "name": "stdout",
     "output_type": "stream",
     "text": [
      "accuracy:0.5333333333333333\n"
     ]
    }
   ],
   "source": [
    "best_model = xgb.XGBClassifier()\n",
    "best_model.fit(X_train, (y_train))\n",
    "y_pred = best_model.predict(X_validation)\n",
    "print('accuracy:' + str(accuracy_score(y_validation, y_pred)))"
   ]
  },
  {
   "cell_type": "code",
   "execution_count": null,
   "id": "d387be7d",
   "metadata": {},
   "outputs": [],
   "source": []
  }
 ],
 "metadata": {
  "kernelspec": {
   "display_name": "Python 3 (ipykernel)",
   "language": "python",
   "name": "python3"
  },
  "language_info": {
   "codemirror_mode": {
    "name": "ipython",
    "version": 3
   },
   "file_extension": ".py",
   "mimetype": "text/x-python",
   "name": "python",
   "nbconvert_exporter": "python",
   "pygments_lexer": "ipython3",
   "version": "3.10.5"
  }
 },
 "nbformat": 4,
 "nbformat_minor": 5
}
