{
 "cells": [
  {
   "cell_type": "code",
   "execution_count": 1,
   "metadata": {},
   "outputs": [],
   "source": [
    "import pandas as pd\n",
    "import numpy as np\n",
    "from datetime import datetime\n",
    "import matplotlib.pyplot as plt\n",
    "from yahoo_historical import Fetcher\n",
    "from statsmodels.tsa.api import ExponentialSmoothing"
   ]
  },
  {
   "cell_type": "code",
   "execution_count": 2,
   "metadata": {},
   "outputs": [],
   "source": [
    "import pandas as pd\n",
    "aapl = pd.read_csv('news_aapl.csv')\n",
    "aapl = aapl.append(pd.read_csv('news_aapl2.csv'))\n",
    "aapl = aapl.reset_index(drop=True)"
   ]
  },
  {
   "cell_type": "code",
   "execution_count": 3,
   "metadata": {},
   "outputs": [
    {
     "data": {
      "text/html": [
       "<div>\n",
       "<style scoped>\n",
       "    .dataframe tbody tr th:only-of-type {\n",
       "        vertical-align: middle;\n",
       "    }\n",
       "\n",
       "    .dataframe tbody tr th {\n",
       "        vertical-align: top;\n",
       "    }\n",
       "\n",
       "    .dataframe thead th {\n",
       "        text-align: right;\n",
       "    }\n",
       "</style>\n",
       "<table border=\"1\" class=\"dataframe\">\n",
       "  <thead>\n",
       "    <tr style=\"text-align: right;\">\n",
       "      <th></th>\n",
       "      <th>text</th>\n",
       "      <th>Date</th>\n",
       "      <th>name</th>\n",
       "    </tr>\n",
       "  </thead>\n",
       "  <tbody>\n",
       "    <tr>\n",
       "      <td>0</td>\n",
       "      <td>China's @Huawei celebrates @Nikkei iPhone Ban ...</td>\n",
       "      <td>2019-01-02</td>\n",
       "      <td>AppleInsider</td>\n",
       "    </tr>\n",
       "    <tr>\n",
       "      <td>1</td>\n",
       "      <td>Is $AAPL in any real trouble? (yes.) from me a...</td>\n",
       "      <td>2019-01-02</td>\n",
       "      <td>Yahoo Finance</td>\n",
       "    </tr>\n",
       "    <tr>\n",
       "      <td>2</td>\n",
       "      <td>Editorial: Based on headlines, you'd think tha...</td>\n",
       "      <td>2019-01-03</td>\n",
       "      <td>AppleInsider</td>\n",
       "    </tr>\n",
       "    <tr>\n",
       "      <td>3</td>\n",
       "      <td>LIVE: $AAPL shares are down over 8% ahead of t...</td>\n",
       "      <td>2019-01-03</td>\n",
       "      <td>Yahoo Finance</td>\n",
       "    </tr>\n",
       "    <tr>\n",
       "      <td>4</td>\n",
       "      <td>Highlight: \"We can’t emphasize enough how impo...</td>\n",
       "      <td>2019-01-03</td>\n",
       "      <td>Yahoo Finance</td>\n",
       "    </tr>\n",
       "  </tbody>\n",
       "</table>\n",
       "</div>"
      ],
      "text/plain": [
       "                                                text        Date  \\\n",
       "0  China's @Huawei celebrates @Nikkei iPhone Ban ...  2019-01-02   \n",
       "1  Is $AAPL in any real trouble? (yes.) from me a...  2019-01-02   \n",
       "2  Editorial: Based on headlines, you'd think tha...  2019-01-03   \n",
       "3  LIVE: $AAPL shares are down over 8% ahead of t...  2019-01-03   \n",
       "4  Highlight: \"We can’t emphasize enough how impo...  2019-01-03   \n",
       "\n",
       "            name  \n",
       "0   AppleInsider  \n",
       "1  Yahoo Finance  \n",
       "2   AppleInsider  \n",
       "3  Yahoo Finance  \n",
       "4  Yahoo Finance  "
      ]
     },
     "execution_count": 3,
     "metadata": {},
     "output_type": "execute_result"
    }
   ],
   "source": [
    "aapl.head()"
   ]
  },
  {
   "cell_type": "code",
   "execution_count": 4,
   "metadata": {},
   "outputs": [
    {
     "data": {
      "text/plain": [
       "(278, 3)"
      ]
     },
     "execution_count": 4,
     "metadata": {},
     "output_type": "execute_result"
    }
   ],
   "source": [
    "aapl.shape"
   ]
  },
  {
   "cell_type": "code",
   "execution_count": 5,
   "metadata": {},
   "outputs": [
    {
     "data": {
      "text/plain": [
       "(272, 3)"
      ]
     },
     "execution_count": 5,
     "metadata": {},
     "output_type": "execute_result"
    }
   ],
   "source": [
    "aapl2 = aapl.drop_duplicates()\n",
    "aapl2.shape"
   ]
  },
  {
   "cell_type": "code",
   "execution_count": 6,
   "metadata": {},
   "outputs": [
    {
     "data": {
      "text/html": [
       "<div>\n",
       "<style scoped>\n",
       "    .dataframe tbody tr th:only-of-type {\n",
       "        vertical-align: middle;\n",
       "    }\n",
       "\n",
       "    .dataframe tbody tr th {\n",
       "        vertical-align: top;\n",
       "    }\n",
       "\n",
       "    .dataframe thead th {\n",
       "        text-align: right;\n",
       "    }\n",
       "</style>\n",
       "<table border=\"1\" class=\"dataframe\">\n",
       "  <thead>\n",
       "    <tr style=\"text-align: right;\">\n",
       "      <th></th>\n",
       "      <th>text</th>\n",
       "      <th>Date</th>\n",
       "      <th>name</th>\n",
       "    </tr>\n",
       "  </thead>\n",
       "  <tbody>\n",
       "    <tr>\n",
       "      <td>35</td>\n",
       "      <td>Highlight: $AAPL CEO Tim Cook takes home a $12...</td>\n",
       "      <td>2019-01-09</td>\n",
       "      <td>Yahoo Finance</td>\n",
       "    </tr>\n",
       "    <tr>\n",
       "      <td>70</td>\n",
       "      <td>Highlight: @danielhowley on $AAPL simplifying ...</td>\n",
       "      <td>2019-02-20</td>\n",
       "      <td>Yahoo Finance</td>\n",
       "    </tr>\n",
       "    <tr>\n",
       "      <td>82</td>\n",
       "      <td>Highlight: “We expect $AAPL to continue doing ...</td>\n",
       "      <td>2019-03-12</td>\n",
       "      <td>Yahoo Finance</td>\n",
       "    </tr>\n",
       "    <tr>\n",
       "      <td>92</td>\n",
       "      <td>Highlight: \"It's really all about the video-st...</td>\n",
       "      <td>2019-03-22</td>\n",
       "      <td>Yahoo Finance</td>\n",
       "    </tr>\n",
       "    <tr>\n",
       "      <td>135</td>\n",
       "      <td>Highlight: @AlbionFinGrp CIO Jason Ware on his...</td>\n",
       "      <td>2019-04-29</td>\n",
       "      <td>Yahoo Finance</td>\n",
       "    </tr>\n",
       "    <tr>\n",
       "      <td>234</td>\n",
       "      <td>Highlight: Bob Iger split from $AAPL ahead of ...</td>\n",
       "      <td>2019-09-16</td>\n",
       "      <td>Yahoo Finance</td>\n",
       "    </tr>\n",
       "  </tbody>\n",
       "</table>\n",
       "</div>"
      ],
      "text/plain": [
       "                                                  text        Date  \\\n",
       "35   Highlight: $AAPL CEO Tim Cook takes home a $12...  2019-01-09   \n",
       "70   Highlight: @danielhowley on $AAPL simplifying ...  2019-02-20   \n",
       "82   Highlight: “We expect $AAPL to continue doing ...  2019-03-12   \n",
       "92   Highlight: \"It's really all about the video-st...  2019-03-22   \n",
       "135  Highlight: @AlbionFinGrp CIO Jason Ware on his...  2019-04-29   \n",
       "234  Highlight: Bob Iger split from $AAPL ahead of ...  2019-09-16   \n",
       "\n",
       "              name  \n",
       "35   Yahoo Finance  \n",
       "70   Yahoo Finance  \n",
       "82   Yahoo Finance  \n",
       "92   Yahoo Finance  \n",
       "135  Yahoo Finance  \n",
       "234  Yahoo Finance  "
      ]
     },
     "execution_count": 6,
     "metadata": {},
     "output_type": "execute_result"
    }
   ],
   "source": [
    "aapl[aapl.duplicated()==True]"
   ]
  },
  {
   "cell_type": "code",
   "execution_count": 7,
   "metadata": {},
   "outputs": [
    {
     "data": {
      "text/plain": [
       "text    Highlight: $AAPL CEO Tim Cook takes home a $12...\n",
       "Date                                           2019-01-09\n",
       "name                                        Yahoo Finance\n",
       "Name: 34, dtype: object"
      ]
     },
     "execution_count": 7,
     "metadata": {},
     "output_type": "execute_result"
    }
   ],
   "source": [
    "aapl.iloc[34,::]"
   ]
  },
  {
   "cell_type": "code",
   "execution_count": 8,
   "metadata": {},
   "outputs": [],
   "source": [
    "aapl=aapl2"
   ]
  },
  {
   "cell_type": "code",
   "execution_count": 9,
   "metadata": {},
   "outputs": [
    {
     "name": "stdout",
     "output_type": "stream",
     "text": [
      "2019-01-02 00:00:00\n",
      "2019-12-27 00:00:00\n"
     ]
    }
   ],
   "source": [
    "aapl.Date = pd.to_datetime(aapl.Date)\n",
    "print(aapl.Date.min())\n",
    "print(aapl.Date.max())"
   ]
  },
  {
   "cell_type": "code",
   "execution_count": 10,
   "metadata": {},
   "outputs": [],
   "source": [
    "ticker = 'AAPL'\n",
    "start = [2019,1,1]\n",
    "\n",
    "df = Fetcher(ticker, start).getHistorical()\t\n",
    "#df = df[['Date','Close']]\n",
    "df.Date = pd.to_datetime(df.Date)"
   ]
  },
  {
   "cell_type": "code",
   "execution_count": 11,
   "metadata": {},
   "outputs": [
    {
     "data": {
      "text/html": [
       "<div>\n",
       "<style scoped>\n",
       "    .dataframe tbody tr th:only-of-type {\n",
       "        vertical-align: middle;\n",
       "    }\n",
       "\n",
       "    .dataframe tbody tr th {\n",
       "        vertical-align: top;\n",
       "    }\n",
       "\n",
       "    .dataframe thead th {\n",
       "        text-align: right;\n",
       "    }\n",
       "</style>\n",
       "<table border=\"1\" class=\"dataframe\">\n",
       "  <thead>\n",
       "    <tr style=\"text-align: right;\">\n",
       "      <th></th>\n",
       "      <th>Date</th>\n",
       "      <th>Open</th>\n",
       "      <th>High</th>\n",
       "      <th>Low</th>\n",
       "      <th>Close</th>\n",
       "      <th>Adj Close</th>\n",
       "      <th>Volume</th>\n",
       "      <th>close_tmr</th>\n",
       "    </tr>\n",
       "  </thead>\n",
       "  <tbody>\n",
       "    <tr>\n",
       "      <td>0</td>\n",
       "      <td>2019-01-02</td>\n",
       "      <td>154.889999</td>\n",
       "      <td>158.850006</td>\n",
       "      <td>154.229996</td>\n",
       "      <td>157.919998</td>\n",
       "      <td>155.214005</td>\n",
       "      <td>37039700</td>\n",
       "      <td>142.190002</td>\n",
       "    </tr>\n",
       "    <tr>\n",
       "      <td>1</td>\n",
       "      <td>2019-01-03</td>\n",
       "      <td>143.979996</td>\n",
       "      <td>145.720001</td>\n",
       "      <td>142.000000</td>\n",
       "      <td>142.190002</td>\n",
       "      <td>139.753540</td>\n",
       "      <td>91312200</td>\n",
       "      <td>148.259995</td>\n",
       "    </tr>\n",
       "    <tr>\n",
       "      <td>2</td>\n",
       "      <td>2019-01-04</td>\n",
       "      <td>144.529999</td>\n",
       "      <td>148.550003</td>\n",
       "      <td>143.800003</td>\n",
       "      <td>148.259995</td>\n",
       "      <td>145.719513</td>\n",
       "      <td>58607100</td>\n",
       "      <td>147.929993</td>\n",
       "    </tr>\n",
       "    <tr>\n",
       "      <td>3</td>\n",
       "      <td>2019-01-07</td>\n",
       "      <td>148.699997</td>\n",
       "      <td>148.830002</td>\n",
       "      <td>145.899994</td>\n",
       "      <td>147.929993</td>\n",
       "      <td>145.395203</td>\n",
       "      <td>54777800</td>\n",
       "      <td>150.750000</td>\n",
       "    </tr>\n",
       "    <tr>\n",
       "      <td>4</td>\n",
       "      <td>2019-01-08</td>\n",
       "      <td>149.559998</td>\n",
       "      <td>151.820007</td>\n",
       "      <td>148.520004</td>\n",
       "      <td>150.750000</td>\n",
       "      <td>148.166870</td>\n",
       "      <td>41025300</td>\n",
       "      <td>153.309998</td>\n",
       "    </tr>\n",
       "  </tbody>\n",
       "</table>\n",
       "</div>"
      ],
      "text/plain": [
       "        Date        Open        High         Low       Close   Adj Close  \\\n",
       "0 2019-01-02  154.889999  158.850006  154.229996  157.919998  155.214005   \n",
       "1 2019-01-03  143.979996  145.720001  142.000000  142.190002  139.753540   \n",
       "2 2019-01-04  144.529999  148.550003  143.800003  148.259995  145.719513   \n",
       "3 2019-01-07  148.699997  148.830002  145.899994  147.929993  145.395203   \n",
       "4 2019-01-08  149.559998  151.820007  148.520004  150.750000  148.166870   \n",
       "\n",
       "     Volume   close_tmr  \n",
       "0  37039700  142.190002  \n",
       "1  91312200  148.259995  \n",
       "2  58607100  147.929993  \n",
       "3  54777800  150.750000  \n",
       "4  41025300  153.309998  "
      ]
     },
     "execution_count": 11,
     "metadata": {},
     "output_type": "execute_result"
    }
   ],
   "source": [
    "df['close_tmr'] = df.Close.shift(-1)\n",
    "df.head()"
   ]
  },
  {
   "cell_type": "code",
   "execution_count": 12,
   "metadata": {},
   "outputs": [
    {
     "data": {
      "text/html": [
       "<div>\n",
       "<style scoped>\n",
       "    .dataframe tbody tr th:only-of-type {\n",
       "        vertical-align: middle;\n",
       "    }\n",
       "\n",
       "    .dataframe tbody tr th {\n",
       "        vertical-align: top;\n",
       "    }\n",
       "\n",
       "    .dataframe thead th {\n",
       "        text-align: right;\n",
       "    }\n",
       "</style>\n",
       "<table border=\"1\" class=\"dataframe\">\n",
       "  <thead>\n",
       "    <tr style=\"text-align: right;\">\n",
       "      <th></th>\n",
       "      <th>Date</th>\n",
       "      <th>Open</th>\n",
       "      <th>High</th>\n",
       "      <th>Low</th>\n",
       "      <th>Close</th>\n",
       "      <th>Adj Close</th>\n",
       "      <th>Volume</th>\n",
       "      <th>close_tmr</th>\n",
       "      <th>chg</th>\n",
       "    </tr>\n",
       "  </thead>\n",
       "  <tbody>\n",
       "    <tr>\n",
       "      <td>0</td>\n",
       "      <td>2019-01-02</td>\n",
       "      <td>154.889999</td>\n",
       "      <td>158.850006</td>\n",
       "      <td>154.229996</td>\n",
       "      <td>157.919998</td>\n",
       "      <td>155.214005</td>\n",
       "      <td>37039700</td>\n",
       "      <td>142.190002</td>\n",
       "      <td>0</td>\n",
       "    </tr>\n",
       "    <tr>\n",
       "      <td>1</td>\n",
       "      <td>2019-01-03</td>\n",
       "      <td>143.979996</td>\n",
       "      <td>145.720001</td>\n",
       "      <td>142.000000</td>\n",
       "      <td>142.190002</td>\n",
       "      <td>139.753540</td>\n",
       "      <td>91312200</td>\n",
       "      <td>148.259995</td>\n",
       "      <td>1</td>\n",
       "    </tr>\n",
       "    <tr>\n",
       "      <td>2</td>\n",
       "      <td>2019-01-04</td>\n",
       "      <td>144.529999</td>\n",
       "      <td>148.550003</td>\n",
       "      <td>143.800003</td>\n",
       "      <td>148.259995</td>\n",
       "      <td>145.719513</td>\n",
       "      <td>58607100</td>\n",
       "      <td>147.929993</td>\n",
       "      <td>0</td>\n",
       "    </tr>\n",
       "    <tr>\n",
       "      <td>3</td>\n",
       "      <td>2019-01-07</td>\n",
       "      <td>148.699997</td>\n",
       "      <td>148.830002</td>\n",
       "      <td>145.899994</td>\n",
       "      <td>147.929993</td>\n",
       "      <td>145.395203</td>\n",
       "      <td>54777800</td>\n",
       "      <td>150.750000</td>\n",
       "      <td>1</td>\n",
       "    </tr>\n",
       "    <tr>\n",
       "      <td>4</td>\n",
       "      <td>2019-01-08</td>\n",
       "      <td>149.559998</td>\n",
       "      <td>151.820007</td>\n",
       "      <td>148.520004</td>\n",
       "      <td>150.750000</td>\n",
       "      <td>148.166870</td>\n",
       "      <td>41025300</td>\n",
       "      <td>153.309998</td>\n",
       "      <td>1</td>\n",
       "    </tr>\n",
       "  </tbody>\n",
       "</table>\n",
       "</div>"
      ],
      "text/plain": [
       "        Date        Open        High         Low       Close   Adj Close  \\\n",
       "0 2019-01-02  154.889999  158.850006  154.229996  157.919998  155.214005   \n",
       "1 2019-01-03  143.979996  145.720001  142.000000  142.190002  139.753540   \n",
       "2 2019-01-04  144.529999  148.550003  143.800003  148.259995  145.719513   \n",
       "3 2019-01-07  148.699997  148.830002  145.899994  147.929993  145.395203   \n",
       "4 2019-01-08  149.559998  151.820007  148.520004  150.750000  148.166870   \n",
       "\n",
       "     Volume   close_tmr  chg  \n",
       "0  37039700  142.190002    0  \n",
       "1  91312200  148.259995    1  \n",
       "2  58607100  147.929993    0  \n",
       "3  54777800  150.750000    1  \n",
       "4  41025300  153.309998    1  "
      ]
     },
     "execution_count": 12,
     "metadata": {},
     "output_type": "execute_result"
    }
   ],
   "source": [
    "df['chg'] = df.close_tmr>df.Close\n",
    "df['chg'] = df.chg.astype(int)\n",
    "df.head()"
   ]
  },
  {
   "cell_type": "code",
   "execution_count": 13,
   "metadata": {},
   "outputs": [
    {
     "data": {
      "text/plain": [
       "(317, 9)"
      ]
     },
     "execution_count": 13,
     "metadata": {},
     "output_type": "execute_result"
    }
   ],
   "source": [
    "df.shape"
   ]
  },
  {
   "cell_type": "code",
   "execution_count": 14,
   "metadata": {},
   "outputs": [
    {
     "data": {
      "text/plain": [
       "(272, 3)"
      ]
     },
     "execution_count": 14,
     "metadata": {},
     "output_type": "execute_result"
    }
   ],
   "source": [
    "aapl.shape"
   ]
  },
  {
   "cell_type": "code",
   "execution_count": 15,
   "metadata": {},
   "outputs": [],
   "source": [
    "df.Date = pd.to_datetime(df.Date)"
   ]
  },
  {
   "cell_type": "code",
   "execution_count": 16,
   "metadata": {},
   "outputs": [
    {
     "data": {
      "text/plain": [
       "(226, 4)"
      ]
     },
     "execution_count": 16,
     "metadata": {},
     "output_type": "execute_result"
    }
   ],
   "source": [
    "aapl = aapl.merge(df[['Date','chg']],on='Date')\n",
    "aapl.shape"
   ]
  },
  {
   "cell_type": "code",
   "execution_count": 17,
   "metadata": {},
   "outputs": [
    {
     "data": {
      "text/html": [
       "<div>\n",
       "<style scoped>\n",
       "    .dataframe tbody tr th:only-of-type {\n",
       "        vertical-align: middle;\n",
       "    }\n",
       "\n",
       "    .dataframe tbody tr th {\n",
       "        vertical-align: top;\n",
       "    }\n",
       "\n",
       "    .dataframe thead th {\n",
       "        text-align: right;\n",
       "    }\n",
       "</style>\n",
       "<table border=\"1\" class=\"dataframe\">\n",
       "  <thead>\n",
       "    <tr style=\"text-align: right;\">\n",
       "      <th></th>\n",
       "      <th>text</th>\n",
       "      <th>Date</th>\n",
       "      <th>name</th>\n",
       "      <th>chg</th>\n",
       "    </tr>\n",
       "  </thead>\n",
       "  <tbody>\n",
       "    <tr>\n",
       "      <td>0</td>\n",
       "      <td>China's @Huawei celebrates @Nikkei iPhone Ban ...</td>\n",
       "      <td>2019-01-02</td>\n",
       "      <td>AppleInsider</td>\n",
       "      <td>0</td>\n",
       "    </tr>\n",
       "    <tr>\n",
       "      <td>1</td>\n",
       "      <td>Is $AAPL in any real trouble? (yes.) from me a...</td>\n",
       "      <td>2019-01-02</td>\n",
       "      <td>Yahoo Finance</td>\n",
       "      <td>0</td>\n",
       "    </tr>\n",
       "    <tr>\n",
       "      <td>2</td>\n",
       "      <td>Editorial: Based on headlines, you'd think tha...</td>\n",
       "      <td>2019-01-03</td>\n",
       "      <td>AppleInsider</td>\n",
       "      <td>1</td>\n",
       "    </tr>\n",
       "    <tr>\n",
       "      <td>3</td>\n",
       "      <td>LIVE: $AAPL shares are down over 8% ahead of t...</td>\n",
       "      <td>2019-01-03</td>\n",
       "      <td>Yahoo Finance</td>\n",
       "      <td>1</td>\n",
       "    </tr>\n",
       "    <tr>\n",
       "      <td>4</td>\n",
       "      <td>Highlight: \"We can’t emphasize enough how impo...</td>\n",
       "      <td>2019-01-03</td>\n",
       "      <td>Yahoo Finance</td>\n",
       "      <td>1</td>\n",
       "    </tr>\n",
       "  </tbody>\n",
       "</table>\n",
       "</div>"
      ],
      "text/plain": [
       "                                                text       Date  \\\n",
       "0  China's @Huawei celebrates @Nikkei iPhone Ban ... 2019-01-02   \n",
       "1  Is $AAPL in any real trouble? (yes.) from me a... 2019-01-02   \n",
       "2  Editorial: Based on headlines, you'd think tha... 2019-01-03   \n",
       "3  LIVE: $AAPL shares are down over 8% ahead of t... 2019-01-03   \n",
       "4  Highlight: \"We can’t emphasize enough how impo... 2019-01-03   \n",
       "\n",
       "            name  chg  \n",
       "0   AppleInsider    0  \n",
       "1  Yahoo Finance    0  \n",
       "2   AppleInsider    1  \n",
       "3  Yahoo Finance    1  \n",
       "4  Yahoo Finance    1  "
      ]
     },
     "execution_count": 17,
     "metadata": {},
     "output_type": "execute_result"
    }
   ],
   "source": [
    "aapl.head()"
   ]
  },
  {
   "cell_type": "code",
   "execution_count": 18,
   "metadata": {},
   "outputs": [
    {
     "name": "stdout",
     "output_type": "stream",
     "text": [
      "(180, 4)\n",
      "(46, 4)\n"
     ]
    }
   ],
   "source": [
    "from sklearn.model_selection import train_test_split\n",
    "tr,te = train_test_split(aapl, test_size=0.2, random_state=0)\n",
    "print(tr.shape)\n",
    "print(te.shape)"
   ]
  },
  {
   "cell_type": "code",
   "execution_count": 19,
   "metadata": {},
   "outputs": [
    {
     "data": {
      "text/plain": [
       "180"
      ]
     },
     "execution_count": 19,
     "metadata": {},
     "output_type": "execute_result"
    }
   ],
   "source": [
    "text = [a for a in tr.text]\n",
    "len(text)"
   ]
  },
  {
   "cell_type": "code",
   "execution_count": 20,
   "metadata": {},
   "outputs": [
    {
     "data": {
      "text/plain": [
       "'Apple’s COO gives blistering testimony on Qualcomm’s \"onerous demands\" over cellular standard-essential #patents\\n$AAPL $QCOM @danieleran https://t.co/VMoYzzALR6 https://t.co/AVJxbyvsZP'"
      ]
     },
     "execution_count": 20,
     "metadata": {},
     "output_type": "execute_result"
    }
   ],
   "source": [
    "text[0]"
   ]
  },
  {
   "cell_type": "code",
   "execution_count": 21,
   "metadata": {},
   "outputs": [],
   "source": [
    "a=text[0]"
   ]
  },
  {
   "cell_type": "code",
   "execution_count": 22,
   "metadata": {},
   "outputs": [
    {
     "data": {
      "text/plain": [
       "'Apple’s COO gives blistering testimony on Qualcomm’s \"onerous demands\" over cellular standard-essential #patents $AAPL $QCOM @danieleran'"
      ]
     },
     "execution_count": 22,
     "metadata": {},
     "output_type": "execute_result"
    }
   ],
   "source": [
    "' '.join(filter(lambda x:x[0:4]!='http', a.split()))"
   ]
  },
  {
   "cell_type": "code",
   "execution_count": 38,
   "metadata": {},
   "outputs": [
    {
     "data": {
      "text/plain": [
       "'Apple’s COO gives blistering testimony on Qualcomm’s \"onerous demands\" over cellular standard-essential #patents $AAPL $QCOM @danieleran'"
      ]
     },
     "execution_count": 38,
     "metadata": {},
     "output_type": "execute_result"
    }
   ],
   "source": [
    "text = [' '.join(filter(lambda x:x[0:4]!='http', a.split())) for a in text]\n",
    "text[0]"
   ]
  },
  {
   "cell_type": "code",
   "execution_count": 39,
   "metadata": {},
   "outputs": [
    {
     "name": "stderr",
     "output_type": "stream",
     "text": [
      "[nltk_data] Downloading package averaged_perceptron_tagger to\n",
      "[nltk_data]     C:\\Users\\hadit\\AppData\\Roaming\\nltk_data...\n",
      "[nltk_data]   Package averaged_perceptron_tagger is already up-to-\n",
      "[nltk_data]       date!\n"
     ]
    }
   ],
   "source": [
    "import nltk\n",
    "#nltk.download()\n",
    "#nltk.download('stopwords')\n",
    "#nltk.download('punkt')\n",
    "nltk.download('averaged_perceptron_tagger')\n",
    "from nltk.corpus import stopwords\n",
    "import string\n",
    "\n",
    "stop_words = set(stopwords.words('english'))"
   ]
  },
  {
   "cell_type": "code",
   "execution_count": 40,
   "metadata": {},
   "outputs": [
    {
     "data": {
      "text/plain": [
       "180"
      ]
     },
     "execution_count": 40,
     "metadata": {},
     "output_type": "execute_result"
    }
   ],
   "source": [
    "text_tokens = [nltk.word_tokenize(text[i]) for i in range(len(text))]\n",
    "len(text_tokens)"
   ]
  },
  {
   "cell_type": "code",
   "execution_count": 41,
   "metadata": {},
   "outputs": [
    {
     "data": {
      "text/plain": [
       "['Apple',\n",
       " '’',\n",
       " 's',\n",
       " 'COO',\n",
       " 'gives',\n",
       " 'blistering',\n",
       " 'testimony',\n",
       " 'on',\n",
       " 'Qualcomm',\n",
       " '’',\n",
       " 's',\n",
       " '``',\n",
       " 'onerous',\n",
       " 'demands',\n",
       " \"''\",\n",
       " 'over',\n",
       " 'cellular',\n",
       " 'standard-essential',\n",
       " '#',\n",
       " 'patents',\n",
       " '$',\n",
       " 'AAPL',\n",
       " '$',\n",
       " 'QCOM',\n",
       " '@',\n",
       " 'danieleran']"
      ]
     },
     "execution_count": 41,
     "metadata": {},
     "output_type": "execute_result"
    }
   ],
   "source": [
    "text_tokens[0]"
   ]
  },
  {
   "cell_type": "code",
   "execution_count": 42,
   "metadata": {},
   "outputs": [
    {
     "data": {
      "text/plain": [
       "180"
      ]
     },
     "execution_count": 42,
     "metadata": {},
     "output_type": "execute_result"
    }
   ],
   "source": [
    "text_tokens = [[w for w in s if w not in stop_words] for s in text_tokens ]\n",
    "len(text_tokens)"
   ]
  },
  {
   "cell_type": "code",
   "execution_count": 43,
   "metadata": {},
   "outputs": [],
   "source": [
    "#nltk.download('maxent_ne_chunker')\n",
    "#nltk.download('words')"
   ]
  },
  {
   "cell_type": "code",
   "execution_count": 44,
   "metadata": {},
   "outputs": [
    {
     "data": {
      "text/plain": [
       "[('At', 'IN'),\n",
       " ('eight', 'CD'),\n",
       " (\"o'clock\", 'NN'),\n",
       " ('on', 'IN'),\n",
       " ('Thursday', 'NNP'),\n",
       " ('morning', 'NN'),\n",
       " ('arthur', 'NN'),\n",
       " ('and', 'CC'),\n",
       " ('microsoft', 'NN'),\n",
       " ('did', 'VBD'),\n",
       " (\"n't\", 'RB'),\n",
       " ('feel', 'VB'),\n",
       " ('very', 'RB'),\n",
       " ('good', 'JJ'),\n",
       " ('.', '.')]"
      ]
     },
     "execution_count": 44,
     "metadata": {},
     "output_type": "execute_result"
    }
   ],
   "source": [
    "import nltk\n",
    "sentence = \"At eight o'clock on Thursday morning arthur and microsoft didn't feel very good.\"\n",
    "tokens = nltk.word_tokenize(sentence)\n",
    "tagged = nltk.pos_tag(tokens)\n",
    "entities = nltk.chunk.ne_chunk(tagged)\n",
    "tagged"
   ]
  },
  {
   "cell_type": "code",
   "execution_count": 45,
   "metadata": {},
   "outputs": [],
   "source": [
    "tagged = [nltk.pos_tag(text) for text in text_tokens]"
   ]
  },
  {
   "cell_type": "code",
   "execution_count": 46,
   "metadata": {},
   "outputs": [
    {
     "data": {
      "text/plain": [
       "'NNP'"
      ]
     },
     "execution_count": 46,
     "metadata": {},
     "output_type": "execute_result"
    }
   ],
   "source": [
    "tagged[0][0][1]"
   ]
  },
  {
   "cell_type": "code",
   "execution_count": 49,
   "metadata": {},
   "outputs": [
    {
     "data": {
      "text/plain": [
       "[('Apple', 'NNP'),\n",
       " ('’', 'NNP'),\n",
       " ('COO', 'NNP'),\n",
       " ('gives', 'VBZ'),\n",
       " ('blistering', 'VBG'),\n",
       " ('testimony', 'NN'),\n",
       " ('Qualcomm', 'NNP'),\n",
       " ('’', 'NNP'),\n",
       " ('``', '``'),\n",
       " ('onerous', 'JJ'),\n",
       " ('demands', 'NNS'),\n",
       " (\"''\", \"''\"),\n",
       " ('cellular', 'JJ'),\n",
       " ('standard-essential', 'JJ'),\n",
       " ('#', '#'),\n",
       " ('patents', 'NNS'),\n",
       " ('$', '$'),\n",
       " ('AAPL', 'NNP'),\n",
       " ('$', '$'),\n",
       " ('QCOM', 'NNP'),\n",
       " ('@', 'NNP'),\n",
       " ('danieleran', 'NN')]"
      ]
     },
     "execution_count": 49,
     "metadata": {},
     "output_type": "execute_result"
    }
   ],
   "source": [
    "tagged[0]"
   ]
  },
  {
   "cell_type": "code",
   "execution_count": 50,
   "metadata": {},
   "outputs": [
    {
     "data": {
      "text/plain": [
       "[('Apple', 'NNP'),\n",
       " ('’', 'NNP'),\n",
       " ('COO', 'NNP'),\n",
       " ('Qualcomm', 'NNP'),\n",
       " ('’', 'NNP'),\n",
       " ('AAPL', 'NNP'),\n",
       " ('QCOM', 'NNP'),\n",
       " ('@', 'NNP')]"
      ]
     },
     "execution_count": 50,
     "metadata": {},
     "output_type": "execute_result"
    }
   ],
   "source": [
    "[a for a in tagged[0] if 'NNP' in a]"
   ]
  },
  {
   "cell_type": "code",
   "execution_count": 51,
   "metadata": {},
   "outputs": [],
   "source": [
    "text_no_NE = [[s for s in w if 'NNP' not in s] for w in tagged]"
   ]
  },
  {
   "cell_type": "code",
   "execution_count": 52,
   "metadata": {},
   "outputs": [
    {
     "data": {
      "text/plain": [
       "[('gives', 'VBZ'),\n",
       " ('blistering', 'VBG'),\n",
       " ('testimony', 'NN'),\n",
       " ('``', '``'),\n",
       " ('onerous', 'JJ'),\n",
       " ('demands', 'NNS'),\n",
       " (\"''\", \"''\"),\n",
       " ('cellular', 'JJ'),\n",
       " ('standard-essential', 'JJ'),\n",
       " ('#', '#'),\n",
       " ('patents', 'NNS'),\n",
       " ('$', '$'),\n",
       " ('$', '$'),\n",
       " ('danieleran', 'NN')]"
      ]
     },
     "execution_count": 52,
     "metadata": {},
     "output_type": "execute_result"
    }
   ],
   "source": [
    "text_no_NE[0]"
   ]
  },
  {
   "cell_type": "code",
   "execution_count": 72,
   "metadata": {},
   "outputs": [
    {
     "name": "stdout",
     "output_type": "stream",
     "text": [
      "180\n",
      "<class 'list'>\n"
     ]
    }
   ],
   "source": [
    "print(len(text_no_NE))\n",
    "print(type(text_no_NE[0]))"
   ]
  },
  {
   "cell_type": "code",
   "execution_count": 73,
   "metadata": {},
   "outputs": [
    {
     "name": "stdout",
     "output_type": "stream",
     "text": [
      "180\n"
     ]
    },
    {
     "data": {
      "text/plain": [
       "['gives',\n",
       " 'blistering',\n",
       " 'testimony',\n",
       " '``',\n",
       " 'onerous',\n",
       " 'demands',\n",
       " \"''\",\n",
       " 'cellular',\n",
       " 'standard-essential',\n",
       " '#',\n",
       " 'patents',\n",
       " '$',\n",
       " '$',\n",
       " 'danieleran',\n",
       " 'https',\n",
       " ':',\n",
       " '//t.co/VMoYzzALR6',\n",
       " 'https',\n",
       " ':',\n",
       " '//t.co/AVJxbyvsZP']"
      ]
     },
     "execution_count": 73,
     "metadata": {},
     "output_type": "execute_result"
    }
   ],
   "source": [
    "text_no_NE = [[w[0] for w in mylist] for mylist in text_no_NE]\n",
    "print(len(text_no_NE))\n",
    "text_no_NE[0]"
   ]
  },
  {
   "cell_type": "code",
   "execution_count": 49,
   "metadata": {},
   "outputs": [
    {
     "ename": "NameError",
     "evalue": "name 'aapl_text' is not defined",
     "output_type": "error",
     "traceback": [
      "\u001b[1;31m---------------------------------------------------------------------------\u001b[0m",
      "\u001b[1;31mNameError\u001b[0m                                 Traceback (most recent call last)",
      "\u001b[1;32m<ipython-input-49-554b9f11e669>\u001b[0m in \u001b[0;36m<module>\u001b[1;34m\u001b[0m\n\u001b[0;32m      1\u001b[0m \u001b[1;32mfrom\u001b[0m \u001b[0msklearn\u001b[0m\u001b[1;33m.\u001b[0m\u001b[0mfeature_extraction\u001b[0m\u001b[1;33m.\u001b[0m\u001b[0mtext\u001b[0m \u001b[1;32mimport\u001b[0m \u001b[0mCountVectorizer\u001b[0m\u001b[1;33m\u001b[0m\u001b[1;33m\u001b[0m\u001b[0m\n\u001b[0;32m      2\u001b[0m \u001b[0mcount_vect\u001b[0m \u001b[1;33m=\u001b[0m \u001b[0mCountVectorizer\u001b[0m\u001b[1;33m(\u001b[0m\u001b[0mtext\u001b[0m\u001b[1;33m)\u001b[0m\u001b[1;33m\u001b[0m\u001b[1;33m\u001b[0m\u001b[0m\n\u001b[1;32m----> 3\u001b[1;33m \u001b[0mX_train_counts\u001b[0m \u001b[1;33m=\u001b[0m \u001b[0mcount_vect\u001b[0m\u001b[1;33m.\u001b[0m\u001b[0mfit_transform\u001b[0m\u001b[1;33m(\u001b[0m\u001b[0maapl_text\u001b[0m\u001b[1;33m)\u001b[0m\u001b[1;33m\u001b[0m\u001b[1;33m\u001b[0m\u001b[0m\n\u001b[0m",
      "\u001b[1;31mNameError\u001b[0m: name 'aapl_text' is not defined"
     ]
    }
   ],
   "source": [
    "from sklearn.feature_extraction.text import CountVectorizer\n",
    "count_vect = CountVectorizer(text)\n",
    "X_train_counts = count_vect.fit_transform(aapl_text)"
   ]
  },
  {
   "cell_type": "code",
   "execution_count": 23,
   "metadata": {},
   "outputs": [
    {
     "data": {
      "text/plain": [
       "(180, 1706)"
      ]
     },
     "execution_count": 23,
     "metadata": {},
     "output_type": "execute_result"
    }
   ],
   "source": [
    "X_train_counts.shape"
   ]
  },
  {
   "cell_type": "code",
   "execution_count": 24,
   "metadata": {},
   "outputs": [],
   "source": [
    "count_vect.vocabulary_.get(u'algorithm')"
   ]
  },
  {
   "cell_type": "code",
   "execution_count": 25,
   "metadata": {},
   "outputs": [
    {
     "data": {
      "text/plain": [
       "(180, 1706)"
      ]
     },
     "execution_count": 25,
     "metadata": {},
     "output_type": "execute_result"
    }
   ],
   "source": [
    "from sklearn.feature_extraction.text import TfidfTransformer\n",
    "tfidf_transformer = TfidfTransformer()\n",
    "X_train_tfidf = tfidf_transformer.fit_transform(X_train_counts)    \n",
    "X_train_tfidf.shape"
   ]
  },
  {
   "cell_type": "code",
   "execution_count": 26,
   "metadata": {},
   "outputs": [],
   "source": [
    "#tfidf_transformer.get_feature_names()"
   ]
  },
  {
   "cell_type": "code",
   "execution_count": 27,
   "metadata": {},
   "outputs": [
    {
     "data": {
      "text/html": [
       "<div>\n",
       "<style scoped>\n",
       "    .dataframe tbody tr th:only-of-type {\n",
       "        vertical-align: middle;\n",
       "    }\n",
       "\n",
       "    .dataframe tbody tr th {\n",
       "        vertical-align: top;\n",
       "    }\n",
       "\n",
       "    .dataframe thead th {\n",
       "        text-align: right;\n",
       "    }\n",
       "</style>\n",
       "<table border=\"1\" class=\"dataframe\">\n",
       "  <thead>\n",
       "    <tr style=\"text-align: right;\">\n",
       "      <th></th>\n",
       "      <th>tfidf</th>\n",
       "    </tr>\n",
       "  </thead>\n",
       "  <tbody>\n",
       "    <tr>\n",
       "      <td>vmoyzzalr6</td>\n",
       "      <td>0.256534</td>\n",
       "    </tr>\n",
       "    <tr>\n",
       "      <td>patents</td>\n",
       "      <td>0.256534</td>\n",
       "    </tr>\n",
       "    <tr>\n",
       "      <td>avjxbyvszp</td>\n",
       "      <td>0.256534</td>\n",
       "    </tr>\n",
       "    <tr>\n",
       "      <td>essential</td>\n",
       "      <td>0.256534</td>\n",
       "    </tr>\n",
       "    <tr>\n",
       "      <td>standard</td>\n",
       "      <td>0.256534</td>\n",
       "    </tr>\n",
       "    <tr>\n",
       "      <td>onerous</td>\n",
       "      <td>0.256534</td>\n",
       "    </tr>\n",
       "    <tr>\n",
       "      <td>demands</td>\n",
       "      <td>0.256534</td>\n",
       "    </tr>\n",
       "    <tr>\n",
       "      <td>qcom</td>\n",
       "      <td>0.256534</td>\n",
       "    </tr>\n",
       "    <tr>\n",
       "      <td>blistering</td>\n",
       "      <td>0.256534</td>\n",
       "    </tr>\n",
       "    <tr>\n",
       "      <td>coo</td>\n",
       "      <td>0.256534</td>\n",
       "    </tr>\n",
       "  </tbody>\n",
       "</table>\n",
       "</div>"
      ],
      "text/plain": [
       "               tfidf\n",
       "vmoyzzalr6  0.256534\n",
       "patents     0.256534\n",
       "avjxbyvszp  0.256534\n",
       "essential   0.256534\n",
       "standard    0.256534\n",
       "onerous     0.256534\n",
       "demands     0.256534\n",
       "qcom        0.256534\n",
       "blistering  0.256534\n",
       "coo         0.256534"
      ]
     },
     "execution_count": 27,
     "metadata": {},
     "output_type": "execute_result"
    }
   ],
   "source": [
    "feature_names = count_vect.get_feature_names()\n",
    " \n",
    "#get tfidf vector for first document\n",
    "first_document_vector=X_train_tfidf[0]\n",
    " \n",
    "#print the scores\n",
    "ft = pd.DataFrame(first_document_vector.T.todense(), index=feature_names, columns=[\"tfidf\"])\n",
    "ft=ft.sort_values(by=[\"tfidf\"],ascending=False)\n",
    "ft.head(10)"
   ]
  },
  {
   "cell_type": "code",
   "execution_count": 28,
   "metadata": {},
   "outputs": [],
   "source": [
    "from sklearn.naive_bayes import MultinomialNB\n",
    "clf = MultinomialNB().fit(X_train_tfidf, tr.chg)"
   ]
  },
  {
   "cell_type": "code",
   "execution_count": 29,
   "metadata": {},
   "outputs": [
    {
     "name": "stderr",
     "output_type": "stream",
     "text": [
      "C:\\Users\\hadit\\AppData\\Local\\Continuum\\anaconda3\\lib\\site-packages\\ipykernel_launcher.py:1: SettingWithCopyWarning: \n",
      "A value is trying to be set on a copy of a slice from a DataFrame.\n",
      "Try using .loc[row_indexer,col_indexer] = value instead\n",
      "\n",
      "See the caveats in the documentation: http://pandas.pydata.org/pandas-docs/stable/user_guide/indexing.html#returning-a-view-versus-a-copy\n",
      "  \"\"\"Entry point for launching an IPython kernel.\n"
     ]
    },
    {
     "data": {
      "text/html": [
       "<div>\n",
       "<style scoped>\n",
       "    .dataframe tbody tr th:only-of-type {\n",
       "        vertical-align: middle;\n",
       "    }\n",
       "\n",
       "    .dataframe tbody tr th {\n",
       "        vertical-align: top;\n",
       "    }\n",
       "\n",
       "    .dataframe thead th {\n",
       "        text-align: right;\n",
       "    }\n",
       "</style>\n",
       "<table border=\"1\" class=\"dataframe\">\n",
       "  <thead>\n",
       "    <tr style=\"text-align: right;\">\n",
       "      <th></th>\n",
       "      <th>text</th>\n",
       "      <th>Date</th>\n",
       "      <th>name</th>\n",
       "      <th>chg</th>\n",
       "      <th>pred</th>\n",
       "    </tr>\n",
       "  </thead>\n",
       "  <tbody>\n",
       "    <tr>\n",
       "      <td>33</td>\n",
       "      <td>Apple’s COO gives blistering testimony on Qual...</td>\n",
       "      <td>2019-01-15</td>\n",
       "      <td>AppleInsider</td>\n",
       "      <td>1</td>\n",
       "      <td>1</td>\n",
       "    </tr>\n",
       "    <tr>\n",
       "      <td>213</td>\n",
       "      <td>Highlight: \"Laggards in today's session were p...</td>\n",
       "      <td>2019-12-03</td>\n",
       "      <td>Yahoo Finance</td>\n",
       "      <td>1</td>\n",
       "      <td>1</td>\n",
       "    </tr>\n",
       "    <tr>\n",
       "      <td>137</td>\n",
       "      <td>Highlight: \"It's a very, very, very significan...</td>\n",
       "      <td>2019-07-03</td>\n",
       "      <td>Yahoo Finance</td>\n",
       "      <td>0</td>\n",
       "      <td>1</td>\n",
       "    </tr>\n",
       "    <tr>\n",
       "      <td>202</td>\n",
       "      <td>Highlight: “Early signs are that the iPhone 11...</td>\n",
       "      <td>2019-10-30</td>\n",
       "      <td>Yahoo Finance</td>\n",
       "      <td>1</td>\n",
       "      <td>1</td>\n",
       "    </tr>\n",
       "    <tr>\n",
       "      <td>101</td>\n",
       "      <td>Highlight: Goldman Sachs reiterated its Neutra...</td>\n",
       "      <td>2019-04-24</td>\n",
       "      <td>Yahoo Finance</td>\n",
       "      <td>0</td>\n",
       "      <td>1</td>\n",
       "    </tr>\n",
       "  </tbody>\n",
       "</table>\n",
       "</div>"
      ],
      "text/plain": [
       "                                                  text       Date  \\\n",
       "33   Apple’s COO gives blistering testimony on Qual... 2019-01-15   \n",
       "213  Highlight: \"Laggards in today's session were p... 2019-12-03   \n",
       "137  Highlight: \"It's a very, very, very significan... 2019-07-03   \n",
       "202  Highlight: “Early signs are that the iPhone 11... 2019-10-30   \n",
       "101  Highlight: Goldman Sachs reiterated its Neutra... 2019-04-24   \n",
       "\n",
       "              name  chg  pred  \n",
       "33    AppleInsider    1     1  \n",
       "213  Yahoo Finance    1     1  \n",
       "137  Yahoo Finance    0     1  \n",
       "202  Yahoo Finance    1     1  \n",
       "101  Yahoo Finance    0     1  "
      ]
     },
     "execution_count": 29,
     "metadata": {},
     "output_type": "execute_result"
    }
   ],
   "source": [
    "tr['pred'] = clf.predict(X_train_tfidf)\n",
    "tr.head()"
   ]
  },
  {
   "cell_type": "code",
   "execution_count": 30,
   "metadata": {},
   "outputs": [
    {
     "data": {
      "text/plain": [
       "array([[ 22,  43],\n",
       "       [  0, 115]], dtype=int64)"
      ]
     },
     "execution_count": 30,
     "metadata": {},
     "output_type": "execute_result"
    }
   ],
   "source": [
    "from sklearn.metrics import confusion_matrix\n",
    "confusion_matrix(tr.chg,tr.pred)"
   ]
  },
  {
   "cell_type": "code",
   "execution_count": 31,
   "metadata": {},
   "outputs": [
    {
     "data": {
      "text/plain": [
       "1    115\n",
       "0     65\n",
       "Name: chg, dtype: int64"
      ]
     },
     "execution_count": 31,
     "metadata": {},
     "output_type": "execute_result"
    }
   ],
   "source": [
    "tr.chg.value_counts()"
   ]
  },
  {
   "cell_type": "code",
   "execution_count": 15,
   "metadata": {},
   "outputs": [],
   "source": [
    "#docs_new = ['God is love', 'OpenGL on the GPU is fast']\n",
    "docs_new = "
   ]
  },
  {
   "cell_type": "code",
   "execution_count": 16,
   "metadata": {},
   "outputs": [],
   "source": [
    "X_new_counts = count_vect.transform(docs_new)"
   ]
  },
  {
   "cell_type": "code",
   "execution_count": 17,
   "metadata": {},
   "outputs": [],
   "source": [
    "X_new_tfidf = tfidf_transformer.transform(X_new_counts)"
   ]
  },
  {
   "cell_type": "code",
   "execution_count": 18,
   "metadata": {},
   "outputs": [
    {
     "data": {
      "text/plain": [
       "array([3, 1], dtype=int64)"
      ]
     },
     "execution_count": 18,
     "metadata": {},
     "output_type": "execute_result"
    }
   ],
   "source": [
    "predicted = clf.predict(X_new_tfidf)\n",
    "predicted"
   ]
  },
  {
   "cell_type": "code",
   "execution_count": 19,
   "metadata": {},
   "outputs": [
    {
     "data": {
      "text/plain": [
       "numpy.ndarray"
      ]
     },
     "execution_count": 19,
     "metadata": {},
     "output_type": "execute_result"
    }
   ],
   "source": [
    "type(predicted)"
   ]
  },
  {
   "cell_type": "code",
   "execution_count": 20,
   "metadata": {},
   "outputs": [
    {
     "data": {
      "text/plain": [
       "2"
      ]
     },
     "execution_count": 20,
     "metadata": {},
     "output_type": "execute_result"
    }
   ],
   "source": [
    "len(predicted)"
   ]
  },
  {
   "cell_type": "code",
   "execution_count": 31,
   "metadata": {},
   "outputs": [
    {
     "name": "stdout",
     "output_type": "stream",
     "text": [
      "'God is love' => soc.religion.christian\n",
      "'OpenGL on the GPU is fast' => comp.graphics\n"
     ]
    }
   ],
   "source": [
    " for doc, category in zip(docs_new, predicted):\n",
    "        print('%r => %s' % (doc, twenty_train.target_names[category]))"
   ]
  },
  {
   "cell_type": "code",
   "execution_count": null,
   "metadata": {},
   "outputs": [],
   "source": []
  }
 ],
 "metadata": {
  "kernelspec": {
   "display_name": "Python 3",
   "language": "python",
   "name": "python3"
  },
  "language_info": {
   "codemirror_mode": {
    "name": "ipython",
    "version": 3
   },
   "file_extension": ".py",
   "mimetype": "text/x-python",
   "name": "python",
   "nbconvert_exporter": "python",
   "pygments_lexer": "ipython3",
   "version": "3.7.4"
  }
 },
 "nbformat": 4,
 "nbformat_minor": 2
}
